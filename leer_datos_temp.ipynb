{
 "cells": [
  {
   "cell_type": "code",
   "execution_count": 6,
   "metadata": {},
   "outputs": [
    {
     "name": "stderr",
     "output_type": "stream",
     "text": [
      "/srv/conda/envs/notebook/lib/python3.7/site-packages/ipykernel_launcher.py:79: RuntimeWarning: invalid value encountered in greater\n",
      "/srv/conda/envs/notebook/lib/python3.7/site-packages/ipykernel_launcher.py:80: RuntimeWarning: invalid value encountered in less\n"
     ]
    },
    {
     "data": {
      "image/png": "[encoded data removed]",
      "text/plain": [
       "<Figure size 432x288 with 1 Axes>"
      ]
     },
     "metadata": {
      "needs_background": "light"
     },
     "output_type": "display_data"
    },
    {
     "data": {
      "image/png": "[encoded data removed]",
      "text/plain": [
       "<Figure size 432x288 with 1 Axes>"
      ]
     },
     "metadata": {
      "needs_background": "light"
     },
     "output_type": "display_data"
    }
   ],
   "source": [
    "import numpy as np\n",
    "import os\n",
    "import datetime as dt\n",
    "import calendar\n",
    "import matplotlib.pyplot as plt\n",
    "import matplotlib.gridspec as gridspec\n",
    "from pylab import*\n",
    "from pandas import *\n",
    "\n",
    "\n",
    "MISS = -9999.9 # valor para asignarle a datos faltantes o invalidos\n",
    "\n",
    "sta = 'CHUCURI' # el nombre de la estacion \n",
    "var = 'TEMP'         # la variable a leer (como en el nombre del archivo)\n",
    "\n",
    "fname=os.popen('ls '+sta+'_*_'+var+'.txt').read().strip()\n",
    "f_in = open(fname,'r')\n",
    "lines=f_in.readlines() # todo el archivo se lee como texto, y cada linea queda guardada como un elemento de una lista\n",
    "f_in.close()\n",
    "\n",
    "# para cada variable a leer se define una lista:\n",
    "value = [] # value of variable read\n",
    "time  = [] # time coordinate as datetime object\n",
    "days  = [] # time coordinate in days since the first data point\n",
    "years = [] # time coordinate in years\n",
    "hour  = [] # local time in hours\n",
    "month = [] # month\n",
    "\n",
    "\n",
    "for line in lines[2:]: # se lee cada linea (excepto la primera)\n",
    "    data=line.strip().split() \n",
    "    if data!=[]:\n",
    "        valid=True\n",
    "        ignore=False\n",
    "        tt=data[1].split(':')\n",
    "        temp_time = dt.datetime(year=np.int(data[0][:4]),month=np.int(data[0][4:6]),day=np.int(data[0][6:]),hour=np.int(tt[0]),minute=np.int(tt[1]),second=np.int(tt[2]),microsecond=0)\n",
    "        if temp_time.second>=30: #aproxima la hora al minuto mas cercano\n",
    "            temp_time = temp_time+dt.timedelta(seconds=(60-temp_time.second))\n",
    "        if len(time)>0 and temp_time==time[-1]: # si ya existe un registro para la misma hora, se ignora\n",
    "            valid=False\n",
    "            ignore=True\n",
    "        if data[2][0]=='-': # dato faltante\n",
    "            valid=False\n",
    "        if not ignore:\n",
    "            if valid:\n",
    "                value.append(np.float(data[2])) \n",
    "            else:\n",
    "                value.append(np.nan)    # si hay dato faltante se guarda como np.nan\n",
    "            time.append(temp_time)      # para cada dato se guarda su fecha y hora como un objeto datetime\n",
    "            hour.append(temp_time.hour+temp_time.minute/60.+temp_time.second/3600.) # hora local en formato decimal\n",
    "            month.append(temp_time.month) # el mes\n",
    "            days.append((time[-1]-time[0]).total_seconds()/(3600.*24.)) # dias desde el primer registro\n",
    "            if calendar.isleap(time[-1].year):\n",
    "                N=366.\n",
    "            else:\n",
    "                N=365.\n",
    "            years.append(time[-1].year + ((time[-1].timetuple().tm_yday - 1.) + (time[-1].hour+time[-1].minute/60. + time[-1].second/3600.)/24.)/N ) # tiempo en agnos (decimal)\n",
    "\n",
    "# se convierten las listas a \"arrays\"\n",
    "value   = np.asarray(value)\n",
    "days    = np.asarray(days)\n",
    "years   = np.asarray(years)\n",
    "hour    = np.asarray(hour)\n",
    "month   = np.asarray(month)\n",
    "year    = years.astype(int)\n",
    "\n",
    "plt.figure()\n",
    "plt.title('datos crudos')\n",
    "plt.plot(years,value)\n",
    "plt.xlabel('year')\n",
    "plt.ylabel(var + '_(°C)')\n",
    "\n",
    "\n",
    "if var=='TEMP':\n",
    "    vmax=50.\n",
    "    vmin=15.\n",
    "\n",
    "value_v2 = value\n",
    "ind_atipicos1 = np.where(value>vmax)\n",
    "ind_atipicos2 = np.where(value<vmin)\n",
    "value_v2[ind_atipicos1]=value_v2[ind_atipicos2]=np.nan\n",
    "# esto mismo se podria hacer en una sola linea:\n",
    "#value_v2[np.where((value>vmax)+(value<vmin))]=np.nan\n",
    "\n",
    "plt.figure()\n",
    "plt.title('datos primera revision')\n",
    "plt.plot(years,value_v2)\n",
    "plt.xlabel('year')\n",
    "plt.ylabel(var + '_(°C)' )\n",
    "plt.show()\n",
    "\n",
    "\n",
    "# se escriben los datos revisados a otro archivo de texto:\n",
    "f_out = open(sta+'_'+var+'_v2.txt','w')\n",
    "value_v2[np.where(np.isnan(value_v2))]=MISS\n",
    "for i in range(value_v2.shape[0]):\n",
    "    f_out.write('%04d %02d %02d %02d %02d %02d %.1f\\n'%(time[i].year,time[i].month,time[i].day,time[i].hour,time[i].minute,time[i].second,value_v2[i]))\n",
    "value_v2[np.where(value==MISS)]=np.nan\n",
    "f_out.close()"
   ]
  },
  {
   "cell_type": "code",
   "execution_count": 21,
   "metadata": {},
   "outputs": [
    {
     "data": {
      "text/plain": [
       "50279"
      ]
     },
     "execution_count": 21,
     "metadata": {},
     "output_type": "execute_result"
    }
   ],
   "source": [
    "len(value)"
   ]
  },
  {
   "cell_type": "code",
   "execution_count": 8,
   "metadata": {},
   "outputs": [
    {
     "data": {
      "text/plain": [
       "array([20.6, 20.4, 20.2, ..., 20.4, 20.8, 20.6])"
      ]
     },
     "execution_count": 8,
     "metadata": {},
     "output_type": "execute_result"
    }
   ],
   "source": [
    "value_v2"
   ]
  },
  {
   "cell_type": "code",
   "execution_count": 13,
   "metadata": {},
   "outputs": [
    {
     "data": {
      "text/plain": [
       "array([ 1.,  2.,  3., ..., 21., 22., 23.])"
      ]
     },
     "execution_count": 13,
     "metadata": {},
     "output_type": "execute_result"
    }
   ],
   "source": [
    "hour"
   ]
  },
  {
   "cell_type": "code",
   "execution_count": 14,
   "metadata": {},
   "outputs": [
    {
     "data": {
      "text/plain": [
       "50279"
      ]
     },
     "execution_count": 14,
     "metadata": {},
     "output_type": "execute_result"
    }
   ],
   "source": [
    "len(hour)"
   ]
  },
  {
   "cell_type": "code",
   "execution_count": 15,
   "metadata": {},
   "outputs": [
    {
     "data": {
      "text/plain": [
       "50279"
      ]
     },
     "execution_count": 15,
     "metadata": {},
     "output_type": "execute_result"
    }
   ],
   "source": [
    "len(year)"
   ]
  },
  {
   "cell_type": "code",
   "execution_count": 16,
   "metadata": {},
   "outputs": [
    {
     "data": {
      "text/plain": [
       "array([2011, 2011, 2011, ..., 2017, 2017, 2017])"
      ]
     },
     "execution_count": 16,
     "metadata": {},
     "output_type": "execute_result"
    }
   ],
   "source": [
    "year"
   ]
  },
  {
   "cell_type": "code",
   "execution_count": 1,
   "metadata": {},
   "outputs": [],
   "source": [
    "hora=18"
   ]
  },
  {
   "cell_type": "code",
   "execution_count": 2,
   "metadata": {},
   "outputs": [],
   "source": [
    "dia=6"
   ]
  },
  {
   "cell_type": "code",
   "execution_count": 3,
   "metadata": {},
   "outputs": [],
   "source": [
    "ano=2020"
   ]
  },
  {
   "cell_type": "code",
   "execution_count": 4,
   "metadata": {},
   "outputs": [],
   "source": [
    "mes=5"
   ]
  },
  {
   "cell_type": "code",
   "execution_count": 11,
   "metadata": {},
   "outputs": [],
   "source": [
    "hoy=dt.datetime(ano,mes,dia,hora)\n"
   ]
  },
  {
   "cell_type": "code",
   "execution_count": 12,
   "metadata": {},
   "outputs": [
    {
     "data": {
      "text/plain": [
       "datetime.datetime(2020, 5, 6, 18, 0)"
      ]
     },
     "execution_count": 12,
     "metadata": {},
     "output_type": "execute_result"
    }
   ],
   "source": [
    "hoy"
   ]
  },
  {
   "cell_type": "code",
   "execution_count": 13,
   "metadata": {},
   "outputs": [
    {
     "data": {
      "text/plain": [
       "datetime.datetime"
      ]
     },
     "execution_count": 13,
     "metadata": {},
     "output_type": "execute_result"
    }
   ],
   "source": [
    "type(hoy)"
   ]
  },
  {
   "cell_type": "code",
   "execution_count": 16,
   "metadata": {},
   "outputs": [
    {
     "data": {
      "text/plain": [
       "datetime.datetime(2020, 5, 4, 1, 0)"
      ]
     },
     "execution_count": 16,
     "metadata": {},
     "output_type": "execute_result"
    }
   ],
   "source": [
    "hoy+dt.timedelta(days=-2,hours=-17)"
   ]
  },
  {
   "cell_type": "code",
   "execution_count": 15,
   "metadata": {},
   "outputs": [
    {
     "data": {
      "text/plain": [
       "datetime.datetime(2020, 5, 4, 1, 0)"
      ]
     },
     "execution_count": 15,
     "metadata": {},
     "output_type": "execute_result"
    }
   ],
   "source": [
    "hoy-dt.timedelta(days=2,hours=17)"
   ]
  },
  {
   "cell_type": "code",
   "execution_count": 17,
   "metadata": {},
   "outputs": [],
   "source": [
    "finicio= dt.datetime(2020,1,1,12)"
   ]
  },
  {
   "cell_type": "code",
   "execution_count": 18,
   "metadata": {},
   "outputs": [
    {
     "data": {
      "text/plain": [
       "datetime.datetime(2020, 1, 1, 12, 0)"
      ]
     },
     "execution_count": 18,
     "metadata": {},
     "output_type": "execute_result"
    }
   ],
   "source": [
    "finicio"
   ]
  },
  {
   "cell_type": "code",
   "execution_count": 25,
   "metadata": {},
   "outputs": [
    {
     "data": {
      "text/plain": [
       "DatetimeIndex(['2020-01-01 12:00:00', '2020-01-01 13:00:00',\n",
       "               '2020-01-01 14:00:00', '2020-01-01 15:00:00',\n",
       "               '2020-01-01 16:00:00', '2020-01-01 17:00:00',\n",
       "               '2020-01-01 18:00:00', '2020-01-01 19:00:00',\n",
       "               '2020-01-01 20:00:00', '2020-01-01 21:00:00',\n",
       "               ...\n",
       "               '2020-05-06 09:00:00', '2020-05-06 10:00:00',\n",
       "               '2020-05-06 11:00:00', '2020-05-06 12:00:00',\n",
       "               '2020-05-06 13:00:00', '2020-05-06 14:00:00',\n",
       "               '2020-05-06 15:00:00', '2020-05-06 16:00:00',\n",
       "               '2020-05-06 17:00:00', '2020-05-06 18:00:00'],\n",
       "              dtype='datetime64[ns]', length=3031, freq='H')"
      ]
     },
     "execution_count": 25,
     "metadata": {},
     "output_type": "execute_result"
    }
   ],
   "source": [
    "date_range(finicio,hoy,freq=\"H\")"
   ]
  },
  {
   "cell_type": "code",
   "execution_count": 7,
   "metadata": {},
   "outputs": [
    {
     "data": {
      "text/html": [
       "<div>\n",
       "<style scoped>\n",
       "    .dataframe tbody tr th:only-of-type {\n",
       "        vertical-align: middle;\n",
       "    }\n",
       "\n",
       "    .dataframe tbody tr th {\n",
       "        vertical-align: top;\n",
       "    }\n",
       "\n",
       "    .dataframe thead th {\n",
       "        text-align: right;\n",
       "    }\n",
       "</style>\n",
       "<table border=\"1\" class=\"dataframe\">\n",
       "  <thead>\n",
       "    <tr style=\"text-align: right;\">\n",
       "      <th></th>\n",
       "      <th>0</th>\n",
       "      <th>1</th>\n",
       "      <th>2</th>\n",
       "      <th>3</th>\n",
       "      <th>4</th>\n",
       "      <th>5</th>\n",
       "      <th>6</th>\n",
       "    </tr>\n",
       "  </thead>\n",
       "  <tbody>\n",
       "    <tr>\n",
       "      <th>0</th>\n",
       "      <td>2011</td>\n",
       "      <td>1</td>\n",
       "      <td>1</td>\n",
       "      <td>2</td>\n",
       "      <td>0</td>\n",
       "      <td>0</td>\n",
       "      <td>20.4</td>\n",
       "    </tr>\n",
       "    <tr>\n",
       "      <th>1</th>\n",
       "      <td>2011</td>\n",
       "      <td>1</td>\n",
       "      <td>1</td>\n",
       "      <td>3</td>\n",
       "      <td>0</td>\n",
       "      <td>0</td>\n",
       "      <td>20.2</td>\n",
       "    </tr>\n",
       "    <tr>\n",
       "      <th>2</th>\n",
       "      <td>2011</td>\n",
       "      <td>1</td>\n",
       "      <td>1</td>\n",
       "      <td>4</td>\n",
       "      <td>0</td>\n",
       "      <td>0</td>\n",
       "      <td>19.4</td>\n",
       "    </tr>\n",
       "    <tr>\n",
       "      <th>3</th>\n",
       "      <td>2011</td>\n",
       "      <td>1</td>\n",
       "      <td>1</td>\n",
       "      <td>5</td>\n",
       "      <td>0</td>\n",
       "      <td>0</td>\n",
       "      <td>19.2</td>\n",
       "    </tr>\n",
       "    <tr>\n",
       "      <th>4</th>\n",
       "      <td>2011</td>\n",
       "      <td>1</td>\n",
       "      <td>1</td>\n",
       "      <td>6</td>\n",
       "      <td>0</td>\n",
       "      <td>0</td>\n",
       "      <td>18.6</td>\n",
       "    </tr>\n",
       "    <tr>\n",
       "      <th>...</th>\n",
       "      <td>...</td>\n",
       "      <td>...</td>\n",
       "      <td>...</td>\n",
       "      <td>...</td>\n",
       "      <td>...</td>\n",
       "      <td>...</td>\n",
       "      <td>...</td>\n",
       "    </tr>\n",
       "    <tr>\n",
       "      <th>50273</th>\n",
       "      <td>2017</td>\n",
       "      <td>12</td>\n",
       "      <td>31</td>\n",
       "      <td>19</td>\n",
       "      <td>0</td>\n",
       "      <td>0</td>\n",
       "      <td>20.7</td>\n",
       "    </tr>\n",
       "    <tr>\n",
       "      <th>50274</th>\n",
       "      <td>2017</td>\n",
       "      <td>12</td>\n",
       "      <td>31</td>\n",
       "      <td>20</td>\n",
       "      <td>0</td>\n",
       "      <td>0</td>\n",
       "      <td>20.5</td>\n",
       "    </tr>\n",
       "    <tr>\n",
       "      <th>50275</th>\n",
       "      <td>2017</td>\n",
       "      <td>12</td>\n",
       "      <td>31</td>\n",
       "      <td>21</td>\n",
       "      <td>0</td>\n",
       "      <td>0</td>\n",
       "      <td>20.4</td>\n",
       "    </tr>\n",
       "    <tr>\n",
       "      <th>50276</th>\n",
       "      <td>2017</td>\n",
       "      <td>12</td>\n",
       "      <td>31</td>\n",
       "      <td>22</td>\n",
       "      <td>0</td>\n",
       "      <td>0</td>\n",
       "      <td>20.8</td>\n",
       "    </tr>\n",
       "    <tr>\n",
       "      <th>50277</th>\n",
       "      <td>2017</td>\n",
       "      <td>12</td>\n",
       "      <td>31</td>\n",
       "      <td>23</td>\n",
       "      <td>0</td>\n",
       "      <td>0</td>\n",
       "      <td>20.6</td>\n",
       "    </tr>\n",
       "  </tbody>\n",
       "</table>\n",
       "<p>50278 rows × 7 columns</p>\n",
       "</div>"
      ],
      "text/plain": [
       "          0   1   2   3  4  5     6\n",
       "0      2011   1   1   2  0  0  20.4\n",
       "1      2011   1   1   3  0  0  20.2\n",
       "2      2011   1   1   4  0  0  19.4\n",
       "3      2011   1   1   5  0  0  19.2\n",
       "4      2011   1   1   6  0  0  18.6\n",
       "...     ...  ..  ..  .. .. ..   ...\n",
       "50273  2017  12  31  19  0  0  20.7\n",
       "50274  2017  12  31  20  0  0  20.5\n",
       "50275  2017  12  31  21  0  0  20.4\n",
       "50276  2017  12  31  22  0  0  20.8\n",
       "50277  2017  12  31  23  0  0  20.6\n",
       "\n",
       "[50278 rows x 7 columns]"
      ]
     },
     "execution_count": 7,
     "metadata": {},
     "output_type": "execute_result"
    }
   ],
   "source": [
    "read_csv(\"CHUCURI_TEMP_v2.txt\",delimiter=' ',header= None)"
   ]
  },
  {
   "cell_type": "code",
   "execution_count": 8,
   "metadata": {},
   "outputs": [
    {
     "data": {
      "text/html": [
       "<div>\n",
       "<style scoped>\n",
       "    .dataframe tbody tr th:only-of-type {\n",
       "        vertical-align: middle;\n",
       "    }\n",
       "\n",
       "    .dataframe tbody tr th {\n",
       "        vertical-align: top;\n",
       "    }\n",
       "\n",
       "    .dataframe thead th {\n",
       "        text-align: right;\n",
       "    }\n",
       "</style>\n",
       "<table border=\"1\" class=\"dataframe\">\n",
       "  <thead>\n",
       "    <tr style=\"text-align: right;\">\n",
       "      <th></th>\n",
       "      <th>Fecha</th>\n",
       "      <th>Hora</th>\n",
       "      <th>Valor</th>\n",
       "    </tr>\n",
       "  </thead>\n",
       "  <tbody>\n",
       "    <tr>\n",
       "      <th>0</th>\n",
       "      <td>20110101</td>\n",
       "      <td>01:00:00</td>\n",
       "      <td>20.6</td>\n",
       "    </tr>\n",
       "    <tr>\n",
       "      <th>1</th>\n",
       "      <td>20110101</td>\n",
       "      <td>02:00:00</td>\n",
       "      <td>20.4</td>\n",
       "    </tr>\n",
       "    <tr>\n",
       "      <th>2</th>\n",
       "      <td>20110101</td>\n",
       "      <td>03:00:00</td>\n",
       "      <td>20.2</td>\n",
       "    </tr>\n",
       "    <tr>\n",
       "      <th>3</th>\n",
       "      <td>20110101</td>\n",
       "      <td>04:00:00</td>\n",
       "      <td>19.4</td>\n",
       "    </tr>\n",
       "    <tr>\n",
       "      <th>4</th>\n",
       "      <td>20110101</td>\n",
       "      <td>05:00:00</td>\n",
       "      <td>19.2</td>\n",
       "    </tr>\n",
       "    <tr>\n",
       "      <th>...</th>\n",
       "      <td>...</td>\n",
       "      <td>...</td>\n",
       "      <td>...</td>\n",
       "    </tr>\n",
       "    <tr>\n",
       "      <th>50274</th>\n",
       "      <td>20171231</td>\n",
       "      <td>19:00:00</td>\n",
       "      <td>20.7</td>\n",
       "    </tr>\n",
       "    <tr>\n",
       "      <th>50275</th>\n",
       "      <td>20171231</td>\n",
       "      <td>20:00:00</td>\n",
       "      <td>20.5</td>\n",
       "    </tr>\n",
       "    <tr>\n",
       "      <th>50276</th>\n",
       "      <td>20171231</td>\n",
       "      <td>21:00:00</td>\n",
       "      <td>20.4</td>\n",
       "    </tr>\n",
       "    <tr>\n",
       "      <th>50277</th>\n",
       "      <td>20171231</td>\n",
       "      <td>22:00:00</td>\n",
       "      <td>20.8</td>\n",
       "    </tr>\n",
       "    <tr>\n",
       "      <th>50278</th>\n",
       "      <td>20171231</td>\n",
       "      <td>23:00:00</td>\n",
       "      <td>20.6</td>\n",
       "    </tr>\n",
       "  </tbody>\n",
       "</table>\n",
       "<p>50279 rows × 3 columns</p>\n",
       "</div>"
      ],
      "text/plain": [
       "          Fecha      Hora Valor\n",
       "0      20110101  01:00:00  20.6\n",
       "1      20110101  02:00:00  20.4\n",
       "2      20110101  03:00:00  20.2\n",
       "3      20110101  04:00:00  19.4\n",
       "4      20110101  05:00:00  19.2\n",
       "...         ...       ...   ...\n",
       "50274  20171231  19:00:00  20.7\n",
       "50275  20171231  20:00:00  20.5\n",
       "50276  20171231  21:00:00  20.4\n",
       "50277  20171231  22:00:00  20.8\n",
       "50278  20171231  23:00:00  20.6\n",
       "\n",
       "[50279 rows x 3 columns]"
      ]
     },
     "execution_count": 8,
     "metadata": {},
     "output_type": "execute_result"
    }
   ],
   "source": [
    "read_csv(\"CHUCURI_24055070_TEMP.txt\",delimiter='\t')"
   ]
  },
  {
   "cell_type": "code",
   "execution_count": 9,
   "metadata": {},
   "outputs": [],
   "source": [
    "datos=read_csv(\"CHUCURI_24055070_TEMP.txt\",delimiter='\t')"
   ]
  },
  {
   "cell_type": "code",
   "execution_count": 35,
   "metadata": {},
   "outputs": [
    {
     "data": {
      "text/plain": [
       "Fecha    20110101\n",
       "Hora     01:00:00\n",
       "Valor        20.6\n",
       "Name: 0, dtype: object"
      ]
     },
     "execution_count": 35,
     "metadata": {},
     "output_type": "execute_result"
    }
   ],
   "source": [
    "datos.iloc[0]"
   ]
  },
  {
   "cell_type": "code",
   "execution_count": 37,
   "metadata": {},
   "outputs": [
    {
     "data": {
      "text/plain": [
       "0        20110101\n",
       "1        20110101\n",
       "2        20110101\n",
       "3        20110101\n",
       "4        20110101\n",
       "           ...   \n",
       "50274    20171231\n",
       "50275    20171231\n",
       "50276    20171231\n",
       "50277    20171231\n",
       "50278    20171231\n",
       "Name: Fecha, Length: 50279, dtype: int64"
      ]
     },
     "execution_count": 37,
     "metadata": {},
     "output_type": "execute_result"
    }
   ],
   "source": [
    "datos.iloc[:,0]"
   ]
  },
  {
   "cell_type": "code",
   "execution_count": 39,
   "metadata": {},
   "outputs": [
    {
     "data": {
      "text/plain": [
       "0        20.6\n",
       "1        20.4\n",
       "2        20.2\n",
       "3        19.4\n",
       "4        19.2\n",
       "         ... \n",
       "50274    20.7\n",
       "50275    20.5\n",
       "50276    20.4\n",
       "50277    20.8\n",
       "50278    20.6\n",
       "Name: Valor, Length: 50279, dtype: object"
      ]
     },
     "execution_count": 39,
     "metadata": {},
     "output_type": "execute_result"
    }
   ],
   "source": [
    "datos.Valor"
   ]
  },
  {
   "cell_type": "code",
   "execution_count": 11,
   "metadata": {},
   "outputs": [],
   "source": [
    "a=datos.Fecha.iloc[0]"
   ]
  },
  {
   "cell_type": "code",
   "execution_count": 41,
   "metadata": {},
   "outputs": [
    {
     "data": {
      "text/plain": [
       "20171231"
      ]
     },
     "execution_count": 41,
     "metadata": {},
     "output_type": "execute_result"
    }
   ],
   "source": [
    "datos.Fecha.iloc[-1]"
   ]
  },
  {
   "cell_type": "code",
   "execution_count": 13,
   "metadata": {},
   "outputs": [
    {
     "data": {
      "text/plain": [
       "numpy.int64"
      ]
     },
     "execution_count": 13,
     "metadata": {},
     "output_type": "execute_result"
    }
   ],
   "source": [
    "type(a)"
   ]
  },
  {
   "cell_type": "code",
   "execution_count": 14,
   "metadata": {},
   "outputs": [
    {
     "data": {
      "text/plain": [
       "'20110101'"
      ]
     },
     "execution_count": 14,
     "metadata": {},
     "output_type": "execute_result"
    }
   ],
   "source": [
    "str(a)"
   ]
  },
  {
   "cell_type": "code",
   "execution_count": 16,
   "metadata": {},
   "outputs": [
    {
     "data": {
      "text/plain": [
       "'2011'"
      ]
     },
     "execution_count": 16,
     "metadata": {},
     "output_type": "execute_result"
    }
   ],
   "source": [
    "str(a)[0:4]"
   ]
  },
  {
   "cell_type": "code",
   "execution_count": 17,
   "metadata": {},
   "outputs": [
    {
     "data": {
      "text/plain": [
       "2011"
      ]
     },
     "execution_count": 17,
     "metadata": {},
     "output_type": "execute_result"
    }
   ],
   "source": [
    "int(str(a)[0:4])"
   ]
  },
  {
   "cell_type": "code",
   "execution_count": 18,
   "metadata": {},
   "outputs": [
    {
     "data": {
      "text/plain": [
       "1"
      ]
     },
     "execution_count": 18,
     "metadata": {},
     "output_type": "execute_result"
    }
   ],
   "source": [
    "int(str(a)[5:6])"
   ]
  },
  {
   "cell_type": "code",
   "execution_count": 19,
   "metadata": {},
   "outputs": [
    {
     "data": {
      "text/plain": [
       "1"
      ]
     },
     "execution_count": 19,
     "metadata": {},
     "output_type": "execute_result"
    }
   ],
   "source": [
    "int(str(a)[7:8])"
   ]
  },
  {
   "cell_type": "code",
   "execution_count": 26,
   "metadata": {},
   "outputs": [],
   "source": [
    "diax= dt.datetime(int(str(a)[0:4]),int(str(a)[4:6]),int(str(a)[6:8]))"
   ]
  },
  {
   "cell_type": "code",
   "execution_count": 29,
   "metadata": {},
   "outputs": [
    {
     "data": {
      "text/plain": [
       "datetime.datetime(2011, 1, 1, 0, 0)"
      ]
     },
     "execution_count": 29,
     "metadata": {},
     "output_type": "execute_result"
    }
   ],
   "source": [
    "diax"
   ]
  },
  {
   "cell_type": "code",
   "execution_count": 22,
   "metadata": {},
   "outputs": [],
   "source": [
    "b=datos.Fecha.iloc[-1]"
   ]
  },
  {
   "cell_type": "code",
   "execution_count": 23,
   "metadata": {},
   "outputs": [
    {
     "data": {
      "text/plain": [
       "'20171231'"
      ]
     },
     "execution_count": 23,
     "metadata": {},
     "output_type": "execute_result"
    }
   ],
   "source": [
    "str(b)"
   ]
  },
  {
   "cell_type": "code",
   "execution_count": 27,
   "metadata": {},
   "outputs": [],
   "source": [
    "diafinal=dt.datetime(int(str(b)[0:4]),int(str(b)[4:6]),int(str(b)[6:8]))"
   ]
  },
  {
   "cell_type": "code",
   "execution_count": 28,
   "metadata": {},
   "outputs": [
    {
     "data": {
      "text/plain": [
       "datetime.datetime(2017, 12, 31, 0, 0)"
      ]
     },
     "execution_count": 28,
     "metadata": {},
     "output_type": "execute_result"
    }
   ],
   "source": [
    "diafinal"
   ]
  },
  {
   "cell_type": "code",
   "execution_count": 31,
   "metadata": {},
   "outputs": [],
   "source": [
    "fechas=date_range(diax,diafinal,freq=\"H\")"
   ]
  },
  {
   "cell_type": "code",
   "execution_count": 32,
   "metadata": {},
   "outputs": [
    {
     "data": {
      "text/plain": [
       "DatetimeIndex(['2011-01-01 00:00:00', '2011-01-01 01:00:00',\n",
       "               '2011-01-01 02:00:00', '2011-01-01 03:00:00',\n",
       "               '2011-01-01 04:00:00', '2011-01-01 05:00:00',\n",
       "               '2011-01-01 06:00:00', '2011-01-01 07:00:00',\n",
       "               '2011-01-01 08:00:00', '2011-01-01 09:00:00',\n",
       "               ...\n",
       "               '2017-12-30 15:00:00', '2017-12-30 16:00:00',\n",
       "               '2017-12-30 17:00:00', '2017-12-30 18:00:00',\n",
       "               '2017-12-30 19:00:00', '2017-12-30 20:00:00',\n",
       "               '2017-12-30 21:00:00', '2017-12-30 22:00:00',\n",
       "               '2017-12-30 23:00:00', '2017-12-31 00:00:00'],\n",
       "              dtype='datetime64[ns]', length=61345, freq='H')"
      ]
     },
     "execution_count": 32,
     "metadata": {},
     "output_type": "execute_result"
    }
   ],
   "source": [
    "fechas"
   ]
  },
  {
   "cell_type": "code",
   "execution_count": 33,
   "metadata": {},
   "outputs": [
    {
     "data": {
      "text/plain": [
       "61345"
      ]
     },
     "execution_count": 33,
     "metadata": {},
     "output_type": "execute_result"
    }
   ],
   "source": [
    "len(fechas)"
   ]
  },
  {
   "cell_type": "code",
   "execution_count": 34,
   "metadata": {},
   "outputs": [],
   "source": [
    "valores=datos.Valor.tolist()"
   ]
  },
  {
   "cell_type": "code",
   "execution_count": 35,
   "metadata": {},
   "outputs": [
    {
     "data": {
      "text/plain": [
       "['20.6',\n",
       " '20.4',\n",
       " '20.2',\n",
       " '19.4',\n",
       " '19.2',\n",
       " '18.6',\n",
       " '20.6',\n",
       " '21.6',\n",
       " '21.7',\n",
       " '22.1',\n",
       " '22.1',\n",
       " '22.1',\n",
       " '22.5',\n",
       " '21.9',\n",
       " '22.9',\n",
       " '23.9',\n",
       " '24.5',\n",
       " '21.9',\n",
       " '21.6',\n",
       " '21.7',\n",
       " '20.5',\n",
       " '20.8',\n",
       " '20.9',\n",
       " '20.3',\n",
       " '19.6',\n",
       " '19.6',\n",
       " '19.1',\n",
       " '18.9',\n",
       " '19.5',\n",
       " '19.4',\n",
       " '20.8',\n",
       " '21.6',\n",
       " '20.6',\n",
       " '20.6',\n",
       " '23.7',\n",
       " '23.6',\n",
       " '23.1',\n",
       " '24.1',\n",
       " '24.7',\n",
       " '24.2',\n",
       " '23.1',\n",
       " '21.2',\n",
       " '20.7',\n",
       " '20',\n",
       " '20.3',\n",
       " '20.4',\n",
       " '20.4',\n",
       " '19.9',\n",
       " '19.7',\n",
       " '19.7',\n",
       " '19.5',\n",
       " '18.8',\n",
       " '19.1',\n",
       " '19.2',\n",
       " '19.7',\n",
       " '19.5',\n",
       " '20.3',\n",
       " '21.2',\n",
       " '21.7',\n",
       " '22.4',\n",
       " '21.6',\n",
       " '21.9',\n",
       " '20.5',\n",
       " '20.6',\n",
       " '19.9',\n",
       " '18.9',\n",
       " '19.3',\n",
       " '20.6',\n",
       " '20.2',\n",
       " '20.3',\n",
       " '20',\n",
       " '19.3',\n",
       " '19.4',\n",
       " '19.2',\n",
       " '19.2',\n",
       " '18.9',\n",
       " '18.5',\n",
       " '18.9',\n",
       " '19.4',\n",
       " '19.1',\n",
       " '18.9',\n",
       " '19.3',\n",
       " '20.6',\n",
       " '21.6',\n",
       " '20.8',\n",
       " '21.3',\n",
       " '21.4',\n",
       " '20.4',\n",
       " '19.8',\n",
       " '20',\n",
       " '20.1',\n",
       " '20.7',\n",
       " '20.2',\n",
       " '20',\n",
       " '19.5',\n",
       " '18.8',\n",
       " '18.7',\n",
       " '19',\n",
       " '19',\n",
       " '19',\n",
       " '18.8',\n",
       " '18.8',\n",
       " '19.7',\n",
       " '19.5',\n",
       " '20.2',\n",
       " '22.3',\n",
       " '20.7',\n",
       " '20.8',\n",
       " '23',\n",
       " '23',\n",
       " '21.9',\n",
       " '23.6',\n",
       " '23.2',\n",
       " '21.1',\n",
       " '20.3',\n",
       " '20',\n",
       " '19.9',\n",
       " '20.4',\n",
       " '21',\n",
       " '20.3',\n",
       " '19.6',\n",
       " '19.5',\n",
       " '18.9',\n",
       " '18.9',\n",
       " '19.1',\n",
       " '19.1',\n",
       " '21.8',\n",
       " '20.4',\n",
       " '20.7',\n",
       " '22',\n",
       " '22.6',\n",
       " '23.5',\n",
       " '22.7',\n",
       " '23',\n",
       " '21.9',\n",
       " '22.5',\n",
       " '23.4',\n",
       " '21.7',\n",
       " '21.3',\n",
       " '21',\n",
       " '20.9',\n",
       " '21.1',\n",
       " '20.8',\n",
       " '20.8',\n",
       " '20.4',\n",
       " '20.1',\n",
       " '19.8',\n",
       " '19.9',\n",
       " '19.7',\n",
       " '19.6',\n",
       " '20.1',\n",
       " '20.6',\n",
       " '21.3',\n",
       " '21.7',\n",
       " '22',\n",
       " '22.7',\n",
       " '21.1',\n",
       " '21.1',\n",
       " '21.8',\n",
       " '21.3',\n",
       " '20.7',\n",
       " '20.1',\n",
       " '20.5',\n",
       " '20.4',\n",
       " '20.9',\n",
       " '20.7',\n",
       " '19.7',\n",
       " '20.3',\n",
       " '20.5',\n",
       " '19.6',\n",
       " '19.4',\n",
       " '19.5',\n",
       " '19.2',\n",
       " '19.4',\n",
       " '21.7',\n",
       " '22.7',\n",
       " '20.4',\n",
       " '21.6',\n",
       " '21.2',\n",
       " '22',\n",
       " '23.3',\n",
       " '23.8',\n",
       " '26.1',\n",
       " '23.1',\n",
       " '22.5',\n",
       " '21.7',\n",
       " '21.4',\n",
       " '21.2',\n",
       " '21.2',\n",
       " '20.5',\n",
       " '20.7',\n",
       " '20.2',\n",
       " '20',\n",
       " '20',\n",
       " '20.4',\n",
       " '19.9',\n",
       " '19.9',\n",
       " '19.2',\n",
       " '19.7',\n",
       " '23',\n",
       " '21.3',\n",
       " '23',\n",
       " '21.5',\n",
       " '22.9',\n",
       " '21.9',\n",
       " '21.3',\n",
       " '22.1',\n",
       " '22.2',\n",
       " '22.2',\n",
       " '22.6',\n",
       " '22.3',\n",
       " '22',\n",
       " '21.8',\n",
       " '21.1',\n",
       " '21.6',\n",
       " '20.2',\n",
       " '20.9',\n",
       " '20.8',\n",
       " '20.6',\n",
       " '20.8',\n",
       " '20.2',\n",
       " '20.1',\n",
       " '21.4',\n",
       " '25.1',\n",
       " '22.9',\n",
       " '24.3',\n",
       " '24.3',\n",
       " '22',\n",
       " '22.7',\n",
       " '25.8',\n",
       " '25.4',\n",
       " '24.1',\n",
       " '22.3',\n",
       " '21.6',\n",
       " '21.8',\n",
       " '22.1',\n",
       " '22.3',\n",
       " '22.5',\n",
       " '22.2',\n",
       " '20.9',\n",
       " '20.8',\n",
       " '20.8',\n",
       " '20.9',\n",
       " '20.8',\n",
       " '20.8',\n",
       " '20.8',\n",
       " '21',\n",
       " '22.8',\n",
       " '22.8',\n",
       " '22.6',\n",
       " '21.9',\n",
       " '25',\n",
       " '24.2',\n",
       " '23.6',\n",
       " '24',\n",
       " '25.7',\n",
       " '24.6',\n",
       " '22.4',\n",
       " '22.3',\n",
       " '22',\n",
       " '21.9',\n",
       " '21.6',\n",
       " '21.5',\n",
       " '21.5',\n",
       " '20.9',\n",
       " '20.6',\n",
       " '20.7',\n",
       " '20.6',\n",
       " '20.6',\n",
       " '20.8',\n",
       " '21.5',\n",
       " '22.8',\n",
       " '24.8',\n",
       " '23.5',\n",
       " '23.4',\n",
       " '23.6',\n",
       " '23.2',\n",
       " '23.5',\n",
       " '25.2',\n",
       " '26.5',\n",
       " '23.4',\n",
       " '22.5',\n",
       " '22',\n",
       " '22.1',\n",
       " '22.2',\n",
       " '22.4',\n",
       " '21.6',\n",
       " '21.6',\n",
       " '21',\n",
       " '20.7',\n",
       " '21.4',\n",
       " '21.3',\n",
       " '20.7',\n",
       " '20.3',\n",
       " '20.8',\n",
       " '24',\n",
       " '25.2',\n",
       " '24.3',\n",
       " '24.2',\n",
       " '23.4',\n",
       " '24.7',\n",
       " '24.7',\n",
       " '23.9',\n",
       " '23.7',\n",
       " '23.6',\n",
       " '21.6',\n",
       " '21.5',\n",
       " '22.2',\n",
       " '22.7',\n",
       " '21.4',\n",
       " '22',\n",
       " '21.6',\n",
       " '21.7',\n",
       " '21.2',\n",
       " '20.3',\n",
       " '20.6',\n",
       " '19.9',\n",
       " '20.1',\n",
       " '21.9',\n",
       " '24.5',\n",
       " '22.7',\n",
       " '23.1',\n",
       " '24',\n",
       " '24.1',\n",
       " '23.4',\n",
       " '24.3',\n",
       " '25.3',\n",
       " '24.4',\n",
       " '23.4',\n",
       " '22.7',\n",
       " '21.6',\n",
       " '22.6',\n",
       " '23.8',\n",
       " '22.5',\n",
       " '22.4',\n",
       " '21.8',\n",
       " '21.1',\n",
       " '20.8',\n",
       " '20.6',\n",
       " '21.1',\n",
       " '20.7',\n",
       " '20.7',\n",
       " '22.3',\n",
       " '22.5',\n",
       " '24.1',\n",
       " '23.7',\n",
       " '23.4',\n",
       " '23.6',\n",
       " '23.3',\n",
       " '24.1',\n",
       " '25.3',\n",
       " '23.9',\n",
       " '23.8',\n",
       " '22.7',\n",
       " '22.1',\n",
       " '23.1',\n",
       " '22.6',\n",
       " '21.8',\n",
       " '21.3',\n",
       " '21.3',\n",
       " '21.5',\n",
       " '21.4',\n",
       " '21.3',\n",
       " '21.3',\n",
       " '19.1',\n",
       " '19.4',\n",
       " '21.5',\n",
       " '23.3',\n",
       " '22.8',\n",
       " '22.2',\n",
       " '22.5',\n",
       " '22',\n",
       " '22.6',\n",
       " '24.4',\n",
       " '23.3',\n",
       " '24.1',\n",
       " '23.6',\n",
       " '22.4',\n",
       " '22.3',\n",
       " '21.9',\n",
       " '21.8',\n",
       " '21.5',\n",
       " '21.5',\n",
       " '21.6',\n",
       " '21.2',\n",
       " '21',\n",
       " '21',\n",
       " '19.5',\n",
       " '19.9',\n",
       " '21.2',\n",
       " '21.3',\n",
       " '24.5',\n",
       " '23.3',\n",
       " '22.9',\n",
       " '21.8',\n",
       " '21.9',\n",
       " '23.6',\n",
       " '25.2',\n",
       " '25.2',\n",
       " '25.7',\n",
       " '24.9',\n",
       " '22.6',\n",
       " '22',\n",
       " '22',\n",
       " '22.1',\n",
       " '22.1',\n",
       " '22.1',\n",
       " '21.5',\n",
       " '20.6',\n",
       " '21',\n",
       " '20.7',\n",
       " '20.3',\n",
       " '20.2',\n",
       " '19.8',\n",
       " '21.3',\n",
       " '21.1',\n",
       " '21.8',\n",
       " '24.7',\n",
       " '21.6',\n",
       " '22',\n",
       " '24.3',\n",
       " '24.4',\n",
       " '24.5',\n",
       " '25.4',\n",
       " '24.6',\n",
       " '23',\n",
       " '21.9',\n",
       " '21.9',\n",
       " '21.7',\n",
       " '21.5',\n",
       " '21.4',\n",
       " '21.6',\n",
       " '21.3',\n",
       " '21',\n",
       " '20.7',\n",
       " '20.4',\n",
       " '20.6',\n",
       " '20.8',\n",
       " '21.1',\n",
       " '21.6',\n",
       " '21.6',\n",
       " '22',\n",
       " '22.4',\n",
       " '23.3',\n",
       " '23.8',\n",
       " '24.6',\n",
       " '25.4',\n",
       " '25.1',\n",
       " '23.6',\n",
       " '22.5',\n",
       " '21.8',\n",
       " '21.8',\n",
       " '21.6',\n",
       " '21.9',\n",
       " '21.5',\n",
       " '21.4',\n",
       " '20.5',\n",
       " '20.4',\n",
       " '20.7',\n",
       " '20.2',\n",
       " '20',\n",
       " '19.5',\n",
       " '21.3',\n",
       " '21.1',\n",
       " '21.7',\n",
       " '21.4',\n",
       " '22.8',\n",
       " '23.6',\n",
       " '24.6',\n",
       " '23.9',\n",
       " '24.2',\n",
       " '24.5',\n",
       " '23.7',\n",
       " '21.6',\n",
       " '21.2',\n",
       " '21.3',\n",
       " '20.9',\n",
       " '20.8',\n",
       " '21.1',\n",
       " '21.2',\n",
       " '20.7',\n",
       " '20.7',\n",
       " '20.3',\n",
       " '19',\n",
       " '19.1',\n",
       " '19.6',\n",
       " '20',\n",
       " '21.7',\n",
       " '23.5',\n",
       " '22.3',\n",
       " '22.8',\n",
       " '23.5',\n",
       " '24',\n",
       " '24.6',\n",
       " '24.6',\n",
       " '25.7',\n",
       " '25.3',\n",
       " '22.8',\n",
       " '21.6',\n",
       " '21.7',\n",
       " '22.4',\n",
       " '22.2',\n",
       " '21.1',\n",
       " '20.3',\n",
       " '20.8',\n",
       " '21',\n",
       " '20.2',\n",
       " '20.3',\n",
       " '20.3',\n",
       " '19',\n",
       " '20.4',\n",
       " '21.9',\n",
       " '21.3',\n",
       " '23.8',\n",
       " '22.8',\n",
       " '22.3',\n",
       " '23.3',\n",
       " '23.2',\n",
       " '26.4',\n",
       " '24.4',\n",
       " '25',\n",
       " '22.8',\n",
       " '21.6',\n",
       " '21.3',\n",
       " '22.2',\n",
       " '21.2',\n",
       " '20.7',\n",
       " '20.5',\n",
       " '20.6',\n",
       " '20.3',\n",
       " '20.3',\n",
       " '19.9',\n",
       " '19.1',\n",
       " '19.6',\n",
       " '20',\n",
       " '19.2',\n",
       " '20.4',\n",
       " '21',\n",
       " '21.9',\n",
       " '22.5',\n",
       " '23.7',\n",
       " '25',\n",
       " '25.3',\n",
       " '24.3',\n",
       " '24.6',\n",
       " '22.6',\n",
       " '21.3',\n",
       " '21.1',\n",
       " '21.4',\n",
       " '20.8',\n",
       " '21',\n",
       " '20.7',\n",
       " '20.5',\n",
       " '20',\n",
       " '19.7',\n",
       " '20.1',\n",
       " '18.8',\n",
       " '18.9',\n",
       " '20.3',\n",
       " '24.5',\n",
       " '22.2',\n",
       " '20.6',\n",
       " '22',\n",
       " '21.6',\n",
       " '22.9',\n",
       " '22.9',\n",
       " '22.9',\n",
       " '24.1',\n",
       " '23.1',\n",
       " '21.7',\n",
       " '21.3',\n",
       " '20.9',\n",
       " '21.3',\n",
       " '20.9',\n",
       " '20.9',\n",
       " '20.6',\n",
       " '20.1',\n",
       " '20.1',\n",
       " '20.1',\n",
       " '20',\n",
       " '20',\n",
       " '20.2',\n",
       " '20.7',\n",
       " '21.8',\n",
       " '22.2',\n",
       " '22.9',\n",
       " '22.3',\n",
       " '23.8',\n",
       " '24',\n",
       " '25.3',\n",
       " '27.2',\n",
       " '26.8',\n",
       " '25.4',\n",
       " '23.1',\n",
       " '22.1',\n",
       " '22.4',\n",
       " '22.9',\n",
       " '23',\n",
       " '22.6',\n",
       " '22.2',\n",
       " '21.2',\n",
       " '20.9',\n",
       " '20.6',\n",
       " '20.7',\n",
       " '20.2',\n",
       " '19.9',\n",
       " '20.9',\n",
       " '24.1',\n",
       " '25.3',\n",
       " '25',\n",
       " '23.8',\n",
       " '24.6',\n",
       " '24.4',\n",
       " '25.2',\n",
       " '25.2',\n",
       " '24.2',\n",
       " '25.5',\n",
       " '23.2',\n",
       " '22.8',\n",
       " '22.2',\n",
       " '22.6',\n",
       " '22.5',\n",
       " '20.9',\n",
       " '20.8',\n",
       " '20.6',\n",
       " '20.5',\n",
       " '20.3',\n",
       " '19.6',\n",
       " '19',\n",
       " '18.9',\n",
       " '18.5',\n",
       " '18.9',\n",
       " '21.1',\n",
       " '21.8',\n",
       " '22.2',\n",
       " '22.6',\n",
       " '22.3',\n",
       " '21.9',\n",
       " '23',\n",
       " '24.3',\n",
       " '24.5',\n",
       " '22.1',\n",
       " '20.9',\n",
       " '21.1',\n",
       " '21',\n",
       " '21.2',\n",
       " '21.3',\n",
       " '21.5',\n",
       " '21.1',\n",
       " '20.7',\n",
       " '19.7',\n",
       " '19.8',\n",
       " '20.4',\n",
       " '20.4',\n",
       " '20.6',\n",
       " '20.6',\n",
       " '21.9',\n",
       " '21',\n",
       " '21',\n",
       " '21.9',\n",
       " '22.1',\n",
       " '23.9',\n",
       " '23.1',\n",
       " '24.1',\n",
       " '24.2',\n",
       " '21.5',\n",
       " '21.2',\n",
       " '21.6',\n",
       " '21.7',\n",
       " '21.8',\n",
       " '21.7',\n",
       " '21',\n",
       " '20.9',\n",
       " '20.7',\n",
       " '20.7',\n",
       " '20.6',\n",
       " '20.3',\n",
       " '20.1',\n",
       " '20',\n",
       " '20.6',\n",
       " '21',\n",
       " '22',\n",
       " '23',\n",
       " '22.9',\n",
       " '21.9',\n",
       " '24.2',\n",
       " '23.1',\n",
       " '23.7',\n",
       " '23.8',\n",
       " '21.7',\n",
       " '21.4',\n",
       " '21.9',\n",
       " '21.8',\n",
       " '21.9',\n",
       " '21.2',\n",
       " '20.6',\n",
       " '20.7',\n",
       " '20.3',\n",
       " '20.2',\n",
       " '19.9',\n",
       " '19.3',\n",
       " '20',\n",
       " '20.4',\n",
       " '22.2',\n",
       " '22.8',\n",
       " '22.1',\n",
       " '22.6',\n",
       " '21.8',\n",
       " '21.9',\n",
       " '24.3',\n",
       " '22.5',\n",
       " '23.3',\n",
       " '23.5',\n",
       " '22.1',\n",
       " '21.7',\n",
       " '22.9',\n",
       " '23.5',\n",
       " '23.3',\n",
       " '22.1',\n",
       " '21.6',\n",
       " '21.3',\n",
       " '21.4',\n",
       " '21.4',\n",
       " '21.1',\n",
       " '21',\n",
       " '20.8',\n",
       " '20.6',\n",
       " '22.4',\n",
       " '22.4',\n",
       " '22.1',\n",
       " '23.1',\n",
       " '24.5',\n",
       " '25.1',\n",
       " '24.4',\n",
       " '26.1',\n",
       " '26.3',\n",
       " '26.4',\n",
       " '23.1',\n",
       " '23',\n",
       " '22.9',\n",
       " '23.1',\n",
       " '22.8',\n",
       " '21.9',\n",
       " '21.7',\n",
       " '21',\n",
       " '20.5',\n",
       " '20.6',\n",
       " '20.4',\n",
       " '20.4',\n",
       " '20.1',\n",
       " '20.4',\n",
       " '22.5',\n",
       " '22.5',\n",
       " '22.8',\n",
       " '23.8',\n",
       " '23.9',\n",
       " '24.4',\n",
       " '24.5',\n",
       " '25.1',\n",
       " '25.4',\n",
       " '24.8',\n",
       " '22.7',\n",
       " '22.3',\n",
       " '23.3',\n",
       " '24.2',\n",
       " '23.5',\n",
       " '23.4',\n",
       " '23.2',\n",
       " '22',\n",
       " '21.2',\n",
       " '21',\n",
       " '21.3',\n",
       " '21.3',\n",
       " '21.1',\n",
       " '21.9',\n",
       " '23.2',\n",
       " '21.5',\n",
       " '22.1',\n",
       " '24.6',\n",
       " '24.4',\n",
       " '24.7',\n",
       " '24.9',\n",
       " '26.4',\n",
       " '25.6',\n",
       " '25.2',\n",
       " '23.4',\n",
       " '23.1',\n",
       " '22.9',\n",
       " '23.8',\n",
       " '23.4',\n",
       " '23.4',\n",
       " '22.1',\n",
       " '22.3',\n",
       " '21.4',\n",
       " '21.4',\n",
       " '21.8',\n",
       " '21.6',\n",
       " '21.4',\n",
       " '22.8',\n",
       " '25.4',\n",
       " '24.8',\n",
       " '24.3',\n",
       " '23.8',\n",
       " '24',\n",
       " '25.5',\n",
       " '26.4',\n",
       " '25.1',\n",
       " '26.9',\n",
       " '26',\n",
       " '23.7',\n",
       " '23.6',\n",
       " '23.1',\n",
       " '23.8',\n",
       " '23.8',\n",
       " '23.8',\n",
       " '22.4',\n",
       " '21.4',\n",
       " '21.7',\n",
       " '21.4',\n",
       " '20.5',\n",
       " '---[10]',\n",
       " '---[10]',\n",
       " '---[10]',\n",
       " '24.9',\n",
       " '---[10]',\n",
       " '---[10]',\n",
       " '---[10]',\n",
       " '---[10]',\n",
       " '---[10]',\n",
       " '---[10]',\n",
       " '---[10]',\n",
       " '---[10]',\n",
       " '---[10]',\n",
       " '---[10]',\n",
       " '---[10]',\n",
       " '---[10]',\n",
       " '---[10]',\n",
       " '---[10]',\n",
       " '---[10]',\n",
       " '---[10]',\n",
       " '---[10]',\n",
       " '---[10]',\n",
       " '---[10]',\n",
       " '---[10]',\n",
       " '---[10]',\n",
       " '---[10]',\n",
       " '---[10]',\n",
       " '---[10]',\n",
       " '---[10]',\n",
       " '---[10]',\n",
       " '---[10]',\n",
       " '---[10]',\n",
       " '---[10]',\n",
       " '---[10]',\n",
       " '---[10]',\n",
       " '---[10]',\n",
       " '---[10]',\n",
       " '---[10]',\n",
       " '---[10]',\n",
       " '---[10]',\n",
       " '---[10]',\n",
       " '---[10]',\n",
       " '---[10]',\n",
       " '---[10]',\n",
       " '---[10]',\n",
       " '---[10]',\n",
       " '---[10]',\n",
       " '---[10]',\n",
       " '---[10]',\n",
       " '---[10]',\n",
       " '---[10]',\n",
       " '---[10]',\n",
       " '---[10]',\n",
       " '---[10]',\n",
       " '---[10]',\n",
       " '---[10]',\n",
       " '---[10]',\n",
       " '---[10]',\n",
       " '---[10]',\n",
       " '---[10]',\n",
       " '---[10]',\n",
       " '---[10]',\n",
       " '---[10]',\n",
       " '---[10]',\n",
       " '---[10]',\n",
       " '---[10]',\n",
       " '---[10]',\n",
       " '---[10]',\n",
       " '---[10]',\n",
       " '---[10]',\n",
       " '---[10]',\n",
       " '---[10]',\n",
       " '---[10]',\n",
       " '---[10]',\n",
       " '---[10]',\n",
       " '---[10]',\n",
       " '---[10]',\n",
       " '---[10]',\n",
       " '---[10]',\n",
       " '---[10]',\n",
       " '---[10]',\n",
       " '---[10]',\n",
       " '---[10]',\n",
       " '---[10]',\n",
       " '---[10]',\n",
       " '---[10]',\n",
       " '---[10]',\n",
       " '---[10]',\n",
       " '---[10]',\n",
       " '---[10]',\n",
       " '---[10]',\n",
       " '---[10]',\n",
       " '---[10]',\n",
       " '---[10]',\n",
       " '---[10]',\n",
       " '---[10]',\n",
       " '---[10]',\n",
       " '---[10]',\n",
       " '---[10]',\n",
       " '---[10]',\n",
       " '---[10]',\n",
       " '---[10]',\n",
       " '---[10]',\n",
       " '---[10]',\n",
       " '---[10]',\n",
       " '---[10]',\n",
       " '---[10]',\n",
       " '---[10]',\n",
       " '---[10]',\n",
       " '---[10]',\n",
       " '---[10]',\n",
       " '---[10]',\n",
       " '---[10]',\n",
       " '---[10]',\n",
       " '---[10]',\n",
       " '---[10]',\n",
       " '---[10]',\n",
       " '---[10]',\n",
       " '---[10]',\n",
       " '---[10]',\n",
       " '---[10]',\n",
       " '---[10]',\n",
       " '---[10]',\n",
       " '---[10]',\n",
       " '---[10]',\n",
       " '---[10]',\n",
       " '---[10]',\n",
       " '---[10]',\n",
       " '---[10]',\n",
       " '---[10]',\n",
       " '---[10]',\n",
       " '---[10]',\n",
       " '---[10]',\n",
       " '---[10]',\n",
       " '---[10]',\n",
       " '---[10]',\n",
       " '---[10]',\n",
       " '---[10]',\n",
       " '---[10]',\n",
       " '---[10]',\n",
       " '---[10]',\n",
       " '---[10]',\n",
       " '---[10]',\n",
       " '---[10]',\n",
       " '---[10]',\n",
       " '---[10]',\n",
       " '---[10]',\n",
       " '---[10]',\n",
       " '---[10]',\n",
       " '---[10]',\n",
       " '---[10]',\n",
       " '---[10]',\n",
       " '---[10]',\n",
       " '---[10]',\n",
       " '---[10]',\n",
       " '---[10]',\n",
       " '---[10]',\n",
       " '---[10]',\n",
       " '---[10]',\n",
       " '---[10]',\n",
       " '---[10]',\n",
       " '---[10]',\n",
       " '---[10]',\n",
       " '---[10]',\n",
       " '---[10]',\n",
       " '---[10]',\n",
       " '---[10]',\n",
       " '---[10]',\n",
       " '---[10]',\n",
       " '---[10]',\n",
       " '---[10]',\n",
       " '---[10]',\n",
       " '---[10]',\n",
       " '---[10]',\n",
       " '---[10]',\n",
       " '---[10]',\n",
       " '---[10]',\n",
       " '---[10]',\n",
       " '---[10]',\n",
       " '---[10]',\n",
       " ...]"
      ]
     },
     "execution_count": 35,
     "metadata": {},
     "output_type": "execute_result"
    }
   ],
   "source": [
    "valores"
   ]
  },
  {
   "cell_type": "code",
   "execution_count": 36,
   "metadata": {},
   "outputs": [
    {
     "data": {
      "text/plain": [
       "50279"
      ]
     },
     "execution_count": 36,
     "metadata": {},
     "output_type": "execute_result"
    }
   ],
   "source": [
    "len(valores)"
   ]
  },
  {
   "cell_type": "code",
   "execution_count": null,
   "metadata": {},
   "outputs": [],
   "source": []
  }
 ],
 "metadata": {
  "kernelspec": {
   "display_name": "Python 3",
   "language": "python",
   "name": "python3"
  },
  "language_info": {
   "codemirror_mode": {
    "name": "ipython",
    "version": 3
   },
   "file_extension": ".py",
   "mimetype": "text/x-python",
   "name": "python",
   "nbconvert_exporter": "python",
   "pygments_lexer": "ipython3",
   "version": "3.7.6"
  }
 },
 "nbformat": 4,
 "nbformat_minor": 4
}
