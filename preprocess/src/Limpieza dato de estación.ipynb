{
  "nbformat": 4,
  "nbformat_minor": 0,
  "metadata": {
    "kernelspec": {
      "display_name": "Python 3",
      "language": "python",
      "name": "python3"
    },
    "language_info": {
      "codemirror_mode": {
        "name": "ipython",
        "version": 3
      },
      "file_extension": ".py",
      "mimetype": "text/x-python",
      "name": "python",
      "nbconvert_exporter": "python",
      "pygments_lexer": "ipython3",
      "version": "3.8.5"
    },
    "colab": {
      "name": "Limpieza dato de estación.ipynb",
      "provenance": [],
      "include_colab_link": true
    }
  },
  "cells": [
    {
      "cell_type": "markdown",
      "metadata": {
        "id": "view-in-github",
        "colab_type": "text"
      },
      "source": [
        "<a href=\"https://colab.research.google.com/github/chris051091/Seminario-3/blob/master/preprocess/src/Limpieza%20dato%20de%20estaci%C3%B3n.ipynb\" target=\"_parent\"><img src=\"https://colab.research.google.com/assets/colab-badge.svg\" alt=\"Open In Colab\"/></a>"
      ]
    },
    {
      "cell_type": "markdown",
      "metadata": {
        "id": "gaa419ELF9UX"
      },
      "source": [
        "# Limpieza dato de estación\n",
        "\n",
        "Este script realiza la lectura de los datos de eventos que está en formato TXT, hace un pre-procesamiento de los mismos e guarda dentro de una planilla CSV para que sean usados posteriormente dentro de los análisis.\n",
        "\n",
        "Para una misma estácion, todos los datos serna juntados para criar una única tabela\n"
      ]
    },
    {
      "cell_type": "code",
      "metadata": {
        "id": "mmhW--NrF9Ul",
        "colab": {
          "base_uri": "https://localhost:8080/"
        },
        "outputId": "4fc065fb-e990-49e9-e7f4-6c16ae8fcdec"
      },
      "source": [
        "import pandas as pd\n",
        "import numpy as np\n",
        "import os\n",
        "import re\n",
        "from functools import reduce\n",
        "from google.colab import drive\n",
        "drive.mount('/content/drive')"
      ],
      "execution_count": 22,
      "outputs": [
        {
          "output_type": "stream",
          "text": [
            "Drive already mounted at /content/drive; to attempt to forcibly remount, call drive.mount(\"/content/drive\", force_remount=True).\n"
          ],
          "name": "stdout"
        }
      ]
    },
    {
      "cell_type": "code",
      "metadata": {
        "id": "Vx2FeZOvF9Um"
      },
      "source": [
        "PATH_DRIVE = 'drive/MyDrive/Seminario-3-master'\n",
        "PATH_DADOS = '/preprocess/dados/'\n",
        "\n",
        "NOMBRE_ESTACION = 'chucuri'\n",
        "# NOMBRE_ESTACION = 'vizcaina'\n",
        "# NOMBRE_ESTACION = 'palanquero'\n",
        "\n",
        "PATH_TIPO_DADO = '/hora/'\n",
        "FILE_DATOS_PROCESADOS = NOMBRE_ESTACION.lower() + '_procesado.csv'\n",
        "\n",
        "PATH_FINAL_DADOS = PATH_DRIVE + PATH_DADOS + NOMBRE_ESTACION + PATH_TIPO_DADO"
      ],
      "execution_count": 21,
      "outputs": []
    },
    {
      "cell_type": "code",
      "metadata": {
        "id": "kefkOvciF9Un",
        "colab": {
          "base_uri": "https://localhost:8080/"
        },
        "outputId": "ac6556c8-3601-41c8-d557-7e055c511ed3"
      },
      "source": [
        "fname = os.listdir(PATH_FINAL_DADOS)\n",
        "\n",
        "list_df = []\n",
        "\n",
        "for file in fname:\n",
        "    print(file)\n",
        "    name_column_data = re.search(r\"^.*_(.*)\\.txt\", file).group(1)\n",
        "    with open(f'{PATH_FINAL_DADOS}{file}') as f:\n",
        "        next(f); next(f) # Saltando dos lineas\n",
        "        list_data = []\n",
        "        for line in f:\n",
        "            dict_data = {}\n",
        "            if line:\n",
        "                line_split = line.strip().split()\n",
        "                dict_data['FECHA'] = ''.join(line_split[0:2])\n",
        "                dict_data[name_column_data] = line_split[2]\n",
        "                list_data.append(dict_data)\n",
        "    \n",
        "    df = pd.DataFrame(list_data)\n",
        "    list_df.append(df)\n",
        "                "
      ],
      "execution_count": 23,
      "outputs": [
        {
          "output_type": "stream",
          "text": [
            "PALANQUERO_23035030_TEMP.txt\n",
            "PALANQUERO_23035030_HUM.txt\n",
            "PALANQUERO_23035030_PRESION.txt\n"
          ],
          "name": "stdout"
        }
      ]
    },
    {
      "cell_type": "code",
      "metadata": {
        "id": "2BBJ-0JXF9Up"
      },
      "source": [
        "# Reduciendo dataframes en uno solo\n",
        "df = reduce(lambda df1,df2: pd.merge(df1,df2,on='FECHA', how='outer'), list_df)\n",
        "\n",
        "# Formatando data\n",
        "df['FECHA'] = pd.to_datetime(df['FECHA'], format='%Y%m%d%H:%M:%S').dt.tz_localize('America/Bogota')"
      ],
      "execution_count": 24,
      "outputs": []
    },
    {
      "cell_type": "code",
      "metadata": {
        "id": "cKSrsuT7JhVN",
        "colab": {
          "base_uri": "https://localhost:8080/",
          "height": 424
        },
        "outputId": "d4cdfcc1-882f-4e3d-a7d9-62bb44df4cce"
      },
      "source": [
        "df"
      ],
      "execution_count": 25,
      "outputs": [
        {
          "output_type": "execute_result",
          "data": {
            "text/html": [
              "<div>\n",
              "<style scoped>\n",
              "    .dataframe tbody tr th:only-of-type {\n",
              "        vertical-align: middle;\n",
              "    }\n",
              "\n",
              "    .dataframe tbody tr th {\n",
              "        vertical-align: top;\n",
              "    }\n",
              "\n",
              "    .dataframe thead th {\n",
              "        text-align: right;\n",
              "    }\n",
              "</style>\n",
              "<table border=\"1\" class=\"dataframe\">\n",
              "  <thead>\n",
              "    <tr style=\"text-align: right;\">\n",
              "      <th></th>\n",
              "      <th>FECHA</th>\n",
              "      <th>TEMP</th>\n",
              "      <th>HUM</th>\n",
              "      <th>PRESION</th>\n",
              "    </tr>\n",
              "  </thead>\n",
              "  <tbody>\n",
              "    <tr>\n",
              "      <th>0</th>\n",
              "      <td>2011-01-01 01:00:00-05:00</td>\n",
              "      <td>22.7</td>\n",
              "      <td>99</td>\n",
              "      <td>988.8</td>\n",
              "    </tr>\n",
              "    <tr>\n",
              "      <th>1</th>\n",
              "      <td>2011-01-01 02:00:00-05:00</td>\n",
              "      <td>23.1</td>\n",
              "      <td>99</td>\n",
              "      <td>988.4</td>\n",
              "    </tr>\n",
              "    <tr>\n",
              "      <th>2</th>\n",
              "      <td>2011-01-01 03:00:00-05:00</td>\n",
              "      <td>23.3</td>\n",
              "      <td>99</td>\n",
              "      <td>988.2</td>\n",
              "    </tr>\n",
              "    <tr>\n",
              "      <th>3</th>\n",
              "      <td>2011-01-01 04:00:00-05:00</td>\n",
              "      <td>24.1</td>\n",
              "      <td>95</td>\n",
              "      <td>988.7</td>\n",
              "    </tr>\n",
              "    <tr>\n",
              "      <th>4</th>\n",
              "      <td>2011-01-01 05:00:00-05:00</td>\n",
              "      <td>22.9</td>\n",
              "      <td>96</td>\n",
              "      <td>989.4</td>\n",
              "    </tr>\n",
              "    <tr>\n",
              "      <th>...</th>\n",
              "      <td>...</td>\n",
              "      <td>...</td>\n",
              "      <td>...</td>\n",
              "      <td>...</td>\n",
              "    </tr>\n",
              "    <tr>\n",
              "      <th>48875</th>\n",
              "      <td>2014-02-23 23:44:00-05:00</td>\n",
              "      <td>NaN</td>\n",
              "      <td>NaN</td>\n",
              "      <td>0</td>\n",
              "    </tr>\n",
              "    <tr>\n",
              "      <th>48876</th>\n",
              "      <td>2014-02-24 17:48:00-05:00</td>\n",
              "      <td>NaN</td>\n",
              "      <td>NaN</td>\n",
              "      <td>18.7</td>\n",
              "    </tr>\n",
              "    <tr>\n",
              "      <th>48877</th>\n",
              "      <td>2014-02-25 11:52:00-05:00</td>\n",
              "      <td>NaN</td>\n",
              "      <td>NaN</td>\n",
              "      <td>0</td>\n",
              "    </tr>\n",
              "    <tr>\n",
              "      <th>48878</th>\n",
              "      <td>2014-02-26 05:56:00-05:00</td>\n",
              "      <td>NaN</td>\n",
              "      <td>NaN</td>\n",
              "      <td>0</td>\n",
              "    </tr>\n",
              "    <tr>\n",
              "      <th>48879</th>\n",
              "      <td>2014-02-27 18:04:00-05:00</td>\n",
              "      <td>NaN</td>\n",
              "      <td>NaN</td>\n",
              "      <td>17</td>\n",
              "    </tr>\n",
              "  </tbody>\n",
              "</table>\n",
              "<p>48880 rows × 4 columns</p>\n",
              "</div>"
            ],
            "text/plain": [
              "                          FECHA  TEMP  HUM PRESION\n",
              "0     2011-01-01 01:00:00-05:00  22.7   99   988.8\n",
              "1     2011-01-01 02:00:00-05:00  23.1   99   988.4\n",
              "2     2011-01-01 03:00:00-05:00  23.3   99   988.2\n",
              "3     2011-01-01 04:00:00-05:00  24.1   95   988.7\n",
              "4     2011-01-01 05:00:00-05:00  22.9   96   989.4\n",
              "...                         ...   ...  ...     ...\n",
              "48875 2014-02-23 23:44:00-05:00   NaN  NaN       0\n",
              "48876 2014-02-24 17:48:00-05:00   NaN  NaN    18.7\n",
              "48877 2014-02-25 11:52:00-05:00   NaN  NaN       0\n",
              "48878 2014-02-26 05:56:00-05:00   NaN  NaN       0\n",
              "48879 2014-02-27 18:04:00-05:00   NaN  NaN      17\n",
              "\n",
              "[48880 rows x 4 columns]"
            ]
          },
          "metadata": {
            "tags": []
          },
          "execution_count": 25
        }
      ]
    },
    {
      "cell_type": "code",
      "metadata": {
        "id": "YR-0UY99F9Ur"
      },
      "source": [
        "columns = [col for col in df.columns if col != 'FECHA']\n",
        "\n",
        "for col in columns:\n",
        "    # Substituyendo valores no encontrados por np.nan\n",
        "    df[col] = df[col].replace(['---[10]', '---[2]', '---[5]', '---[15]', '---[3]', '---'], np.NaN)\n",
        "    # Transformando en formato numérico\n",
        "    df[col] = pd.to_numeric(df[col], downcast=\"float\")"
      ],
      "execution_count": 26,
      "outputs": []
    },
    {
      "cell_type": "code",
      "metadata": {
        "id": "r_f--joiF9Us"
      },
      "source": [
        "df.to_csv(PATH_FINAL_DADOS + '../' + FILE_DATOS_PROCESADOS, header=True, index=False, sep = ';')"
      ],
      "execution_count": 27,
      "outputs": []
    }
  ]
}