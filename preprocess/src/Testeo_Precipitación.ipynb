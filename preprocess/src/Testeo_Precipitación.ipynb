{
  "nbformat": 4,
  "nbformat_minor": 0,
  "metadata": {
    "kernelspec": {
      "display_name": "Python 3",
      "language": "python",
      "name": "python3"
    },
    "language_info": {
      "codemirror_mode": {
        "name": "ipython",
        "version": 3
      },
      "file_extension": ".py",
      "mimetype": "text/x-python",
      "name": "python",
      "nbconvert_exporter": "python",
      "pygments_lexer": "ipython3",
      "version": "3.8.5"
    },
    "colab": {
      "name": "Testeo Precipitación.ipynb",
      "provenance": [],
      "include_colab_link": true
    }
  },
  "cells": [
    {
      "cell_type": "markdown",
      "metadata": {
        "id": "view-in-github",
        "colab_type": "text"
      },
      "source": [
        "<a href=\"https://colab.research.google.com/github/chris051091/Seminario-3/blob/master/preprocess/src/Testeo_Precipitaci%C3%B3n.ipynb\" target=\"_parent\"><img src=\"https://colab.research.google.com/assets/colab-badge.svg\" alt=\"Open In Colab\"/></a>"
      ]
    },
    {
      "cell_type": "markdown",
      "metadata": {
        "id": "v45fg9bmLJvZ"
      },
      "source": [
        "# Testes - Precipitación"
      ]
    },
    {
      "cell_type": "code",
      "metadata": {
        "id": "EoapCLMALJvj",
        "colab": {
          "base_uri": "https://localhost:8080/"
        },
        "outputId": "3ab40518-e5b7-448a-efc8-b3af42b4e593"
      },
      "source": [
        "import pandas as pd\n",
        "import numpy as np\n",
        "import os\n",
        "import re\n",
        "from functools import reduce\n",
        "\n",
        "from google.colab import drive\n",
        "drive.mount('/content/drive')\n",
        "\n",
        "%matplotlib inline"
      ],
      "execution_count": 31,
      "outputs": [
        {
          "output_type": "stream",
          "text": [
            "Drive already mounted at /content/drive; to attempt to forcibly remount, call drive.mount(\"/content/drive\", force_remount=True).\n"
          ],
          "name": "stdout"
        }
      ]
    },
    {
      "cell_type": "code",
      "metadata": {
        "id": "nrp0DLfHLJvl"
      },
      "source": [
        "PATH_DRIVE = 'drive/MyDrive/Seminario-3-master'\n",
        "PATH_DADOS = '/preprocess/dados/'\n",
        "\n",
        "# NOMBRE_ESTACION = 'chucuri'\n",
        "# NOMBRE_ESTACION = 'palanquero'\n",
        "NOMBRE_ESTACION = 'vizcaina'\n",
        "\n",
        "PATH_FINAL_DADOS = PATH_DRIVE + PATH_DADOS + NOMBRE_ESTACION + '/'\n",
        "PATH_FINAL_DADOS_TRATADOS = PATH_DRIVE + PATH_DADOS + NOMBRE_ESTACION + '/tratados/'\n",
        "\n",
        "FILE_DATOS_PROCESADOS = NOMBRE_ESTACION.lower() + '_procesado_10min.csv'\n",
        "FILE_DATOS_TRATADOS = NOMBRE_ESTACION.lower() + '_tratados_prec.csv'\n"
      ],
      "execution_count": 32,
      "outputs": []
    },
    {
      "cell_type": "code",
      "metadata": {
        "id": "SNvEHyC4LJvp",
        "colab": {
          "base_uri": "https://localhost:8080/",
          "height": 424
        },
        "outputId": "835491f3-bf99-4ea7-c1de-bc7d216fa0db"
      },
      "source": [
        "df = pd.read_csv(PATH_FINAL_DADOS + FILE_DATOS_PROCESADOS, \n",
        "                 sep = ';', \n",
        "                 parse_dates = [\"FECHA\"],\n",
        "                 date_parser = lambda col: pd.to_datetime(col)\n",
        "                )\n",
        "\n",
        "dfVar = df[['FECHA', 'PREC']].copy()\n",
        "dfVar = dfVar.sort_values(by=['FECHA']).reset_index(drop = True)\n",
        "\n",
        "# Eliminando datos que no fueron tomados cada 10 min.\n",
        "# Para chucuri fueron 4 datos\n",
        "\n",
        "dfVar = dfVar[dfVar['FECHA'].dt.minute % 10 == 0].reset_index(drop = True)\n",
        "dfVar"
      ],
      "execution_count": 33,
      "outputs": [
        {
          "output_type": "execute_result",
          "data": {
            "text/html": [
              "<div>\n",
              "<style scoped>\n",
              "    .dataframe tbody tr th:only-of-type {\n",
              "        vertical-align: middle;\n",
              "    }\n",
              "\n",
              "    .dataframe tbody tr th {\n",
              "        vertical-align: top;\n",
              "    }\n",
              "\n",
              "    .dataframe thead th {\n",
              "        text-align: right;\n",
              "    }\n",
              "</style>\n",
              "<table border=\"1\" class=\"dataframe\">\n",
              "  <thead>\n",
              "    <tr style=\"text-align: right;\">\n",
              "      <th></th>\n",
              "      <th>FECHA</th>\n",
              "      <th>PREC</th>\n",
              "    </tr>\n",
              "  </thead>\n",
              "  <tbody>\n",
              "    <tr>\n",
              "      <th>0</th>\n",
              "      <td>2011-01-01 00:10:00-05:00</td>\n",
              "      <td>0.0</td>\n",
              "    </tr>\n",
              "    <tr>\n",
              "      <th>1</th>\n",
              "      <td>2011-01-01 00:20:00-05:00</td>\n",
              "      <td>0.0</td>\n",
              "    </tr>\n",
              "    <tr>\n",
              "      <th>2</th>\n",
              "      <td>2011-01-01 00:30:00-05:00</td>\n",
              "      <td>0.0</td>\n",
              "    </tr>\n",
              "    <tr>\n",
              "      <th>3</th>\n",
              "      <td>2011-01-01 00:40:00-05:00</td>\n",
              "      <td>0.0</td>\n",
              "    </tr>\n",
              "    <tr>\n",
              "      <th>4</th>\n",
              "      <td>2011-01-01 00:50:00-05:00</td>\n",
              "      <td>0.0</td>\n",
              "    </tr>\n",
              "    <tr>\n",
              "      <th>...</th>\n",
              "      <td>...</td>\n",
              "      <td>...</td>\n",
              "    </tr>\n",
              "    <tr>\n",
              "      <th>312925</th>\n",
              "      <td>2017-12-31 23:10:00-05:00</td>\n",
              "      <td>0.0</td>\n",
              "    </tr>\n",
              "    <tr>\n",
              "      <th>312926</th>\n",
              "      <td>2017-12-31 23:20:00-05:00</td>\n",
              "      <td>0.0</td>\n",
              "    </tr>\n",
              "    <tr>\n",
              "      <th>312927</th>\n",
              "      <td>2017-12-31 23:30:00-05:00</td>\n",
              "      <td>0.0</td>\n",
              "    </tr>\n",
              "    <tr>\n",
              "      <th>312928</th>\n",
              "      <td>2017-12-31 23:40:00-05:00</td>\n",
              "      <td>0.0</td>\n",
              "    </tr>\n",
              "    <tr>\n",
              "      <th>312929</th>\n",
              "      <td>2017-12-31 23:50:00-05:00</td>\n",
              "      <td>0.0</td>\n",
              "    </tr>\n",
              "  </tbody>\n",
              "</table>\n",
              "<p>312930 rows × 2 columns</p>\n",
              "</div>"
            ],
            "text/plain": [
              "                           FECHA  PREC\n",
              "0      2011-01-01 00:10:00-05:00   0.0\n",
              "1      2011-01-01 00:20:00-05:00   0.0\n",
              "2      2011-01-01 00:30:00-05:00   0.0\n",
              "3      2011-01-01 00:40:00-05:00   0.0\n",
              "4      2011-01-01 00:50:00-05:00   0.0\n",
              "...                          ...   ...\n",
              "312925 2017-12-31 23:10:00-05:00   0.0\n",
              "312926 2017-12-31 23:20:00-05:00   0.0\n",
              "312927 2017-12-31 23:30:00-05:00   0.0\n",
              "312928 2017-12-31 23:40:00-05:00   0.0\n",
              "312929 2017-12-31 23:50:00-05:00   0.0\n",
              "\n",
              "[312930 rows x 2 columns]"
            ]
          },
          "metadata": {
            "tags": []
          },
          "execution_count": 33
        }
      ]
    },
    {
      "cell_type": "markdown",
      "metadata": {
        "id": "UJPKton4LJvq"
      },
      "source": [
        "## Test de rango fijo"
      ]
    },
    {
      "cell_type": "code",
      "metadata": {
        "id": "boKo7L2yLJvr",
        "colab": {
          "base_uri": "https://localhost:8080/",
          "height": 424
        },
        "outputId": "d006dc7b-ec7b-4d33-c998-507836909071"
      },
      "source": [
        "prec_max = 100.\n",
        "prec_min = 0.\n",
        "\n",
        "lamb_func = lambda r: np.nan if ((r > prec_max) | (r < prec_min)) else r\n",
        "\n",
        "dfVar['PREC_RANGO_FIJO'] = dfVar['PREC'].apply(lamb_func)\n",
        "dfVar"
      ],
      "execution_count": 34,
      "outputs": [
        {
          "output_type": "execute_result",
          "data": {
            "text/html": [
              "<div>\n",
              "<style scoped>\n",
              "    .dataframe tbody tr th:only-of-type {\n",
              "        vertical-align: middle;\n",
              "    }\n",
              "\n",
              "    .dataframe tbody tr th {\n",
              "        vertical-align: top;\n",
              "    }\n",
              "\n",
              "    .dataframe thead th {\n",
              "        text-align: right;\n",
              "    }\n",
              "</style>\n",
              "<table border=\"1\" class=\"dataframe\">\n",
              "  <thead>\n",
              "    <tr style=\"text-align: right;\">\n",
              "      <th></th>\n",
              "      <th>FECHA</th>\n",
              "      <th>PREC</th>\n",
              "      <th>PREC_RANGO_FIJO</th>\n",
              "    </tr>\n",
              "  </thead>\n",
              "  <tbody>\n",
              "    <tr>\n",
              "      <th>0</th>\n",
              "      <td>2011-01-01 00:10:00-05:00</td>\n",
              "      <td>0.0</td>\n",
              "      <td>0.0</td>\n",
              "    </tr>\n",
              "    <tr>\n",
              "      <th>1</th>\n",
              "      <td>2011-01-01 00:20:00-05:00</td>\n",
              "      <td>0.0</td>\n",
              "      <td>0.0</td>\n",
              "    </tr>\n",
              "    <tr>\n",
              "      <th>2</th>\n",
              "      <td>2011-01-01 00:30:00-05:00</td>\n",
              "      <td>0.0</td>\n",
              "      <td>0.0</td>\n",
              "    </tr>\n",
              "    <tr>\n",
              "      <th>3</th>\n",
              "      <td>2011-01-01 00:40:00-05:00</td>\n",
              "      <td>0.0</td>\n",
              "      <td>0.0</td>\n",
              "    </tr>\n",
              "    <tr>\n",
              "      <th>4</th>\n",
              "      <td>2011-01-01 00:50:00-05:00</td>\n",
              "      <td>0.0</td>\n",
              "      <td>0.0</td>\n",
              "    </tr>\n",
              "    <tr>\n",
              "      <th>...</th>\n",
              "      <td>...</td>\n",
              "      <td>...</td>\n",
              "      <td>...</td>\n",
              "    </tr>\n",
              "    <tr>\n",
              "      <th>312925</th>\n",
              "      <td>2017-12-31 23:10:00-05:00</td>\n",
              "      <td>0.0</td>\n",
              "      <td>0.0</td>\n",
              "    </tr>\n",
              "    <tr>\n",
              "      <th>312926</th>\n",
              "      <td>2017-12-31 23:20:00-05:00</td>\n",
              "      <td>0.0</td>\n",
              "      <td>0.0</td>\n",
              "    </tr>\n",
              "    <tr>\n",
              "      <th>312927</th>\n",
              "      <td>2017-12-31 23:30:00-05:00</td>\n",
              "      <td>0.0</td>\n",
              "      <td>0.0</td>\n",
              "    </tr>\n",
              "    <tr>\n",
              "      <th>312928</th>\n",
              "      <td>2017-12-31 23:40:00-05:00</td>\n",
              "      <td>0.0</td>\n",
              "      <td>0.0</td>\n",
              "    </tr>\n",
              "    <tr>\n",
              "      <th>312929</th>\n",
              "      <td>2017-12-31 23:50:00-05:00</td>\n",
              "      <td>0.0</td>\n",
              "      <td>0.0</td>\n",
              "    </tr>\n",
              "  </tbody>\n",
              "</table>\n",
              "<p>312930 rows × 3 columns</p>\n",
              "</div>"
            ],
            "text/plain": [
              "                           FECHA  PREC  PREC_RANGO_FIJO\n",
              "0      2011-01-01 00:10:00-05:00   0.0              0.0\n",
              "1      2011-01-01 00:20:00-05:00   0.0              0.0\n",
              "2      2011-01-01 00:30:00-05:00   0.0              0.0\n",
              "3      2011-01-01 00:40:00-05:00   0.0              0.0\n",
              "4      2011-01-01 00:50:00-05:00   0.0              0.0\n",
              "...                          ...   ...              ...\n",
              "312925 2017-12-31 23:10:00-05:00   0.0              0.0\n",
              "312926 2017-12-31 23:20:00-05:00   0.0              0.0\n",
              "312927 2017-12-31 23:30:00-05:00   0.0              0.0\n",
              "312928 2017-12-31 23:40:00-05:00   0.0              0.0\n",
              "312929 2017-12-31 23:50:00-05:00   0.0              0.0\n",
              "\n",
              "[312930 rows x 3 columns]"
            ]
          },
          "metadata": {
            "tags": []
          },
          "execution_count": 34
        }
      ]
    },
    {
      "cell_type": "code",
      "metadata": {
        "id": "XDr-x4YSLJvs",
        "colab": {
          "base_uri": "https://localhost:8080/",
          "height": 296
        },
        "outputId": "1f2fdeea-b9db-4e15-9ea0-4b463691556d"
      },
      "source": [
        "ax = dfVar.plot(kind = 'scatter', x='FECHA', y='PREC')\n",
        "dfVar.plot(kind = 'scatter', x='FECHA', y='PREC_RANGO_FIJO', ax=ax, color='red')"
      ],
      "execution_count": 35,
      "outputs": [
        {
          "output_type": "execute_result",
          "data": {
            "text/plain": [
              "<matplotlib.axes._subplots.AxesSubplot at 0x7f9f67b1e650>"
            ]
          },
          "metadata": {
            "tags": []
          },
          "execution_count": 35
        },
        {
          "output_type": "display_data",
          "data": {
            "image/png": "[encoded data removed]",
            "text/plain": [
              "<Figure size 432x288 with 1 Axes>"
            ]
          },
          "metadata": {
            "tags": [],
            "needs_background": "light"
          }
        }
      ]
    },
    {
      "cell_type": "code",
      "metadata": {
        "id": "tOyVI0YvMKj-",
        "colab": {
          "base_uri": "https://localhost:8080/",
          "height": 424
        },
        "outputId": "b1fa1c3b-a751-4eaa-ec3b-0cb5947de101"
      },
      "source": [
        "## Para filtrar los valores finales\n",
        "dfFinal = dfVar[~dfVar['PREC_RANGO_FIJO'].isnull()].reset_index(drop=True)\n",
        "dfFinal"
      ],
      "execution_count": 36,
      "outputs": [
        {
          "output_type": "execute_result",
          "data": {
            "text/html": [
              "<div>\n",
              "<style scoped>\n",
              "    .dataframe tbody tr th:only-of-type {\n",
              "        vertical-align: middle;\n",
              "    }\n",
              "\n",
              "    .dataframe tbody tr th {\n",
              "        vertical-align: top;\n",
              "    }\n",
              "\n",
              "    .dataframe thead th {\n",
              "        text-align: right;\n",
              "    }\n",
              "</style>\n",
              "<table border=\"1\" class=\"dataframe\">\n",
              "  <thead>\n",
              "    <tr style=\"text-align: right;\">\n",
              "      <th></th>\n",
              "      <th>FECHA</th>\n",
              "      <th>PREC</th>\n",
              "      <th>PREC_RANGO_FIJO</th>\n",
              "    </tr>\n",
              "  </thead>\n",
              "  <tbody>\n",
              "    <tr>\n",
              "      <th>0</th>\n",
              "      <td>2011-01-01 00:10:00-05:00</td>\n",
              "      <td>0.0</td>\n",
              "      <td>0.0</td>\n",
              "    </tr>\n",
              "    <tr>\n",
              "      <th>1</th>\n",
              "      <td>2011-01-01 00:20:00-05:00</td>\n",
              "      <td>0.0</td>\n",
              "      <td>0.0</td>\n",
              "    </tr>\n",
              "    <tr>\n",
              "      <th>2</th>\n",
              "      <td>2011-01-01 00:30:00-05:00</td>\n",
              "      <td>0.0</td>\n",
              "      <td>0.0</td>\n",
              "    </tr>\n",
              "    <tr>\n",
              "      <th>3</th>\n",
              "      <td>2011-01-01 00:40:00-05:00</td>\n",
              "      <td>0.0</td>\n",
              "      <td>0.0</td>\n",
              "    </tr>\n",
              "    <tr>\n",
              "      <th>4</th>\n",
              "      <td>2011-01-01 00:50:00-05:00</td>\n",
              "      <td>0.0</td>\n",
              "      <td>0.0</td>\n",
              "    </tr>\n",
              "    <tr>\n",
              "      <th>...</th>\n",
              "      <td>...</td>\n",
              "      <td>...</td>\n",
              "      <td>...</td>\n",
              "    </tr>\n",
              "    <tr>\n",
              "      <th>307957</th>\n",
              "      <td>2017-12-31 23:10:00-05:00</td>\n",
              "      <td>0.0</td>\n",
              "      <td>0.0</td>\n",
              "    </tr>\n",
              "    <tr>\n",
              "      <th>307958</th>\n",
              "      <td>2017-12-31 23:20:00-05:00</td>\n",
              "      <td>0.0</td>\n",
              "      <td>0.0</td>\n",
              "    </tr>\n",
              "    <tr>\n",
              "      <th>307959</th>\n",
              "      <td>2017-12-31 23:30:00-05:00</td>\n",
              "      <td>0.0</td>\n",
              "      <td>0.0</td>\n",
              "    </tr>\n",
              "    <tr>\n",
              "      <th>307960</th>\n",
              "      <td>2017-12-31 23:40:00-05:00</td>\n",
              "      <td>0.0</td>\n",
              "      <td>0.0</td>\n",
              "    </tr>\n",
              "    <tr>\n",
              "      <th>307961</th>\n",
              "      <td>2017-12-31 23:50:00-05:00</td>\n",
              "      <td>0.0</td>\n",
              "      <td>0.0</td>\n",
              "    </tr>\n",
              "  </tbody>\n",
              "</table>\n",
              "<p>307962 rows × 3 columns</p>\n",
              "</div>"
            ],
            "text/plain": [
              "                           FECHA  PREC  PREC_RANGO_FIJO\n",
              "0      2011-01-01 00:10:00-05:00   0.0              0.0\n",
              "1      2011-01-01 00:20:00-05:00   0.0              0.0\n",
              "2      2011-01-01 00:30:00-05:00   0.0              0.0\n",
              "3      2011-01-01 00:40:00-05:00   0.0              0.0\n",
              "4      2011-01-01 00:50:00-05:00   0.0              0.0\n",
              "...                          ...   ...              ...\n",
              "307957 2017-12-31 23:10:00-05:00   0.0              0.0\n",
              "307958 2017-12-31 23:20:00-05:00   0.0              0.0\n",
              "307959 2017-12-31 23:30:00-05:00   0.0              0.0\n",
              "307960 2017-12-31 23:40:00-05:00   0.0              0.0\n",
              "307961 2017-12-31 23:50:00-05:00   0.0              0.0\n",
              "\n",
              "[307962 rows x 3 columns]"
            ]
          },
          "metadata": {
            "tags": []
          },
          "execution_count": 36
        }
      ]
    },
    {
      "cell_type": "code",
      "metadata": {
        "id": "UsndzNlyJPbU",
        "colab": {
          "base_uri": "https://localhost:8080/"
        },
        "outputId": "a692dc1c-eaf4-4e73-eeab-0026a70e601a"
      },
      "source": [
        "print(f'Datos iniciales : {dfVar.shape[0]}')\n",
        "print(f'Datos nulos iniciales : {dfVar[dfVar[\"PREC\"].isnull()].shape[0]}')\n",
        "print(f'Datos nulos después de los testes : {dfFinal[dfFinal[\"PREC_RANGO_FIJO\"].isnull()].shape[0]}')\n",
        "print(f'Datos finales después de testes : {dfFinal.shape[0]}')\n",
        "print(f'Datos no nulos que fueron eliminados en los testes : {dfVar.shape[0] - dfFinal.shape[0] - dfVar[dfVar[\"PREC\"].isnull()].shape[0]}')"
      ],
      "execution_count": 37,
      "outputs": [
        {
          "output_type": "stream",
          "text": [
            "Datos iniciales : 312930\n",
            "Datos nulos iniciales : 4629\n",
            "Datos nulos después de los testes : 0\n",
            "Datos finales después de testes : 307962\n",
            "Datos no nulos que fueron eliminados en los testes : 339\n"
          ],
          "name": "stdout"
        }
      ]
    },
    {
      "cell_type": "code",
      "metadata": {
        "id": "2hoa0fdKLJvv"
      },
      "source": [
        "(dfFinal[['FECHA', 'PREC_RANGO_FIJO']]\n",
        "          .rename(columns = {'PREC_RANGO_FIJO' : 'PREC'})\n",
        "          .to_csv(PATH_FINAL_DADOS_TRATADOS + FILE_DATOS_TRATADOS, header=True, index=False, sep = ';'))"
      ],
      "execution_count": 38,
      "outputs": []
    }
  ]
}