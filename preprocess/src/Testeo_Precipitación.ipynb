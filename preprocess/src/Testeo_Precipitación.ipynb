{
  "nbformat": 4,
  "nbformat_minor": 0,
  "metadata": {
    "kernelspec": {
      "display_name": "Python 3",
      "language": "python",
      "name": "python3"
    },
    "language_info": {
      "codemirror_mode": {
        "name": "ipython",
        "version": 3
      },
      "file_extension": ".py",
      "mimetype": "text/x-python",
      "name": "python",
      "nbconvert_exporter": "python",
      "pygments_lexer": "ipython3",
      "version": "3.8.5"
    },
    "colab": {
      "name": "Testeo Precipitación.ipynb",
      "provenance": [],
      "include_colab_link": true
    }
  },
  "cells": [
    {
      "cell_type": "markdown",
      "metadata": {
        "id": "view-in-github",
        "colab_type": "text"
      },
      "source": [
        "<a href=\"https://colab.research.google.com/github/chris051091/Tesis_Maestria/blob/main/preprocess/src/Testeo_Precipitaci%C3%B3n.ipynb\" target=\"_parent\"><img src=\"https://colab.research.google.com/assets/colab-badge.svg\" alt=\"Open In Colab\"/></a>"
      ]
    },
    {
      "cell_type": "markdown",
      "metadata": {
        "id": "v45fg9bmLJvZ"
      },
      "source": [
        "# Testes - Precipitación"
      ]
    },
    {
      "cell_type": "code",
      "metadata": {
        "id": "EoapCLMALJvj",
        "colab": {
          "base_uri": "https://localhost:8080/"
        },
        "outputId": "4c610c54-090b-4375-90e4-58795d751e81"
      },
      "source": [
        "import pandas as pd\n",
        "import numpy as np\n",
        "import os\n",
        "import re\n",
        "from functools import reduce\n",
        "import matplotlib.pyplot as plt\n",
        "import seaborn as sns\n",
        "from scipy import stats\n",
        "\n",
        "from google.colab import drive\n",
        "drive.mount('/content/drive')\n",
        "\n",
        "%matplotlib inline"
      ],
      "execution_count": 76,
      "outputs": [
        {
          "output_type": "stream",
          "name": "stdout",
          "text": [
            "Drive already mounted at /content/drive; to attempt to forcibly remount, call drive.mount(\"/content/drive\", force_remount=True).\n"
          ]
        }
      ]
    },
    {
      "cell_type": "code",
      "metadata": {
        "id": "nrp0DLfHLJvl"
      },
      "source": [
        "PATH_DRIVE = 'drive/MyDrive/Seminario-3-master'\n",
        "PATH_DADOS = '/preprocess/dados/'\n",
        "PATH_FIGURE = '/histograms/'\n",
        "\n",
        "# NOMBRE_ESTACION = 'chucuri'\n",
        "NOMBRE_ESTACION = 'palanquero'\n",
        "#NOMBRE_ESTACION = 'vizcaina'\n",
        "\n",
        "PATH_FINAL_DADOS = PATH_DRIVE + PATH_DADOS + NOMBRE_ESTACION + '/'\n",
        "PATH_FINAL_DADOS_TRATADOS = PATH_DRIVE + PATH_DADOS + NOMBRE_ESTACION + '/tratados/'\n",
        "\n",
        "FILE_DATOS_PROCESADOS = NOMBRE_ESTACION.lower() + '_procesado_10min.csv'\n",
        "FILE_DATOS_TRATADOS = NOMBRE_ESTACION.lower() + '_tratados_prec.csv'\n"
      ],
      "execution_count": 77,
      "outputs": []
    },
    {
      "cell_type": "code",
      "metadata": {
        "id": "SNvEHyC4LJvp",
        "colab": {
          "base_uri": "https://localhost:8080/",
          "height": 424
        },
        "outputId": "11cc896b-11ac-47c0-a231-c6a957f58945"
      },
      "source": [
        "df = pd.read_csv(PATH_FINAL_DADOS + FILE_DATOS_PROCESADOS,\n",
        "                 sep = ';',\n",
        "                 parse_dates = [\"FECHA\"],\n",
        "                 date_parser = lambda col: pd.to_datetime(col)\n",
        "                )\n",
        "\n",
        "dfVar = df[['FECHA', 'PREC']].copy()\n",
        "dfVar = dfVar.sort_values(by=['FECHA']).reset_index(drop = True)\n",
        "\n",
        "# Eliminando datos que no fueron tomados cada 10 min.\n",
        "# Para chucuri fueron 4 datos\n",
        "\n",
        "dfVar = dfVar[dfVar['FECHA'].dt.minute % 10 == 0].reset_index(drop = True)\n",
        "dfVar"
      ],
      "execution_count": 78,
      "outputs": [
        {
          "output_type": "execute_result",
          "data": {
            "text/plain": [
              "                           FECHA  PREC\n",
              "0      2011-01-01 00:10:00-05:00   0.0\n",
              "1      2011-01-01 00:20:00-05:00   0.0\n",
              "2      2011-01-01 00:30:00-05:00   0.0\n",
              "3      2011-01-01 00:40:00-05:00   0.0\n",
              "4      2011-01-01 00:50:00-05:00   0.0\n",
              "...                          ...   ...\n",
              "290605 2017-12-31 23:10:00-05:00   0.0\n",
              "290606 2017-12-31 23:20:00-05:00   0.0\n",
              "290607 2017-12-31 23:30:00-05:00   0.0\n",
              "290608 2017-12-31 23:40:00-05:00   0.0\n",
              "290609 2017-12-31 23:50:00-05:00   0.0\n",
              "\n",
              "[290610 rows x 2 columns]"
            ],
            "text/html": [
              "\n",
              "  <div id=\"df-e205f858-b729-4da0-b185-86e739994580\">\n",
              "    <div class=\"colab-df-container\">\n",
              "      <div>\n",
              "<style scoped>\n",
              "    .dataframe tbody tr th:only-of-type {\n",
              "        vertical-align: middle;\n",
              "    }\n",
              "\n",
              "    .dataframe tbody tr th {\n",
              "        vertical-align: top;\n",
              "    }\n",
              "\n",
              "    .dataframe thead th {\n",
              "        text-align: right;\n",
              "    }\n",
              "</style>\n",
              "<table border=\"1\" class=\"dataframe\">\n",
              "  <thead>\n",
              "    <tr style=\"text-align: right;\">\n",
              "      <th></th>\n",
              "      <th>FECHA</th>\n",
              "      <th>PREC</th>\n",
              "    </tr>\n",
              "  </thead>\n",
              "  <tbody>\n",
              "    <tr>\n",
              "      <th>0</th>\n",
              "      <td>2011-01-01 00:10:00-05:00</td>\n",
              "      <td>0.0</td>\n",
              "    </tr>\n",
              "    <tr>\n",
              "      <th>1</th>\n",
              "      <td>2011-01-01 00:20:00-05:00</td>\n",
              "      <td>0.0</td>\n",
              "    </tr>\n",
              "    <tr>\n",
              "      <th>2</th>\n",
              "      <td>2011-01-01 00:30:00-05:00</td>\n",
              "      <td>0.0</td>\n",
              "    </tr>\n",
              "    <tr>\n",
              "      <th>3</th>\n",
              "      <td>2011-01-01 00:40:00-05:00</td>\n",
              "      <td>0.0</td>\n",
              "    </tr>\n",
              "    <tr>\n",
              "      <th>4</th>\n",
              "      <td>2011-01-01 00:50:00-05:00</td>\n",
              "      <td>0.0</td>\n",
              "    </tr>\n",
              "    <tr>\n",
              "      <th>...</th>\n",
              "      <td>...</td>\n",
              "      <td>...</td>\n",
              "    </tr>\n",
              "    <tr>\n",
              "      <th>290605</th>\n",
              "      <td>2017-12-31 23:10:00-05:00</td>\n",
              "      <td>0.0</td>\n",
              "    </tr>\n",
              "    <tr>\n",
              "      <th>290606</th>\n",
              "      <td>2017-12-31 23:20:00-05:00</td>\n",
              "      <td>0.0</td>\n",
              "    </tr>\n",
              "    <tr>\n",
              "      <th>290607</th>\n",
              "      <td>2017-12-31 23:30:00-05:00</td>\n",
              "      <td>0.0</td>\n",
              "    </tr>\n",
              "    <tr>\n",
              "      <th>290608</th>\n",
              "      <td>2017-12-31 23:40:00-05:00</td>\n",
              "      <td>0.0</td>\n",
              "    </tr>\n",
              "    <tr>\n",
              "      <th>290609</th>\n",
              "      <td>2017-12-31 23:50:00-05:00</td>\n",
              "      <td>0.0</td>\n",
              "    </tr>\n",
              "  </tbody>\n",
              "</table>\n",
              "<p>290610 rows × 2 columns</p>\n",
              "</div>\n",
              "      <button class=\"colab-df-convert\" onclick=\"convertToInteractive('df-e205f858-b729-4da0-b185-86e739994580')\"\n",
              "              title=\"Convert this dataframe to an interactive table.\"\n",
              "              style=\"display:none;\">\n",
              "        \n",
              "  <svg xmlns=\"http://www.w3.org/2000/svg\" height=\"24px\"viewBox=\"0 0 24 24\"\n",
              "       width=\"24px\">\n",
              "    <path d=\"M0 0h24v24H0V0z\" fill=\"none\"/>\n",
              "    <path d=\"M18.56 5.44l.94 2.06.94-2.06 2.06-.94-2.06-.94-.94-2.06-.94 2.06-2.06.94zm-11 1L8.5 8.5l.94-2.06 2.06-.94-2.06-.94L8.5 2.5l-.94 2.06-2.06.94zm10 10l.94 2.06.94-2.06 2.06-.94-2.06-.94-.94-2.06-.94 2.06-2.06.94z\"/><path d=\"M17.41 7.96l-1.37-1.37c-.4-.4-.92-.59-1.43-.59-.52 0-1.04.2-1.43.59L10.3 9.45l-7.72 7.72c-.78.78-.78 2.05 0 2.83L4 21.41c.39.39.9.59 1.41.59.51 0 1.02-.2 1.41-.59l7.78-7.78 2.81-2.81c.8-.78.8-2.07 0-2.86zM5.41 20L4 18.59l7.72-7.72 1.47 1.35L5.41 20z\"/>\n",
              "  </svg>\n",
              "      </button>\n",
              "      \n",
              "  <style>\n",
              "    .colab-df-container {\n",
              "      display:flex;\n",
              "      flex-wrap:wrap;\n",
              "      gap: 12px;\n",
              "    }\n",
              "\n",
              "    .colab-df-convert {\n",
              "      background-color: #E8F0FE;\n",
              "      border: none;\n",
              "      border-radius: 50%;\n",
              "      cursor: pointer;\n",
              "      display: none;\n",
              "      fill: #1967D2;\n",
              "      height: 32px;\n",
              "      padding: 0 0 0 0;\n",
              "      width: 32px;\n",
              "    }\n",
              "\n",
              "    .colab-df-convert:hover {\n",
              "      background-color: #E2EBFA;\n",
              "      box-shadow: 0px 1px 2px rgba(60, 64, 67, 0.3), 0px 1px 3px 1px rgba(60, 64, 67, 0.15);\n",
              "      fill: #174EA6;\n",
              "    }\n",
              "\n",
              "    [theme=dark] .colab-df-convert {\n",
              "      background-color: #3B4455;\n",
              "      fill: #D2E3FC;\n",
              "    }\n",
              "\n",
              "    [theme=dark] .colab-df-convert:hover {\n",
              "      background-color: #434B5C;\n",
              "      box-shadow: 0px 1px 3px 1px rgba(0, 0, 0, 0.15);\n",
              "      filter: drop-shadow(0px 1px 2px rgba(0, 0, 0, 0.3));\n",
              "      fill: #FFFFFF;\n",
              "    }\n",
              "  </style>\n",
              "\n",
              "      <script>\n",
              "        const buttonEl =\n",
              "          document.querySelector('#df-e205f858-b729-4da0-b185-86e739994580 button.colab-df-convert');\n",
              "        buttonEl.style.display =\n",
              "          google.colab.kernel.accessAllowed ? 'block' : 'none';\n",
              "\n",
              "        async function convertToInteractive(key) {\n",
              "          const element = document.querySelector('#df-e205f858-b729-4da0-b185-86e739994580');\n",
              "          const dataTable =\n",
              "            await google.colab.kernel.invokeFunction('convertToInteractive',\n",
              "                                                     [key], {});\n",
              "          if (!dataTable) return;\n",
              "\n",
              "          const docLinkHtml = 'Like what you see? Visit the ' +\n",
              "            '<a target=\"_blank\" href=https://colab.research.google.com/notebooks/data_table.ipynb>data table notebook</a>'\n",
              "            + ' to learn more about interactive tables.';\n",
              "          element.innerHTML = '';\n",
              "          dataTable['output_type'] = 'display_data';\n",
              "          await google.colab.output.renderOutput(dataTable, element);\n",
              "          const docLink = document.createElement('div');\n",
              "          docLink.innerHTML = docLinkHtml;\n",
              "          element.appendChild(docLink);\n",
              "        }\n",
              "      </script>\n",
              "    </div>\n",
              "  </div>\n",
              "  "
            ]
          },
          "metadata": {},
          "execution_count": 78
        }
      ]
    },
    {
      "cell_type": "code",
      "source": [
        "fig, ax = plt.subplots()\n",
        "\n",
        "# Gráfico del histograma\n",
        "df['PREC'].plot(kind = 'line')\n",
        "\n",
        "# # Gráfico de la estimativa de la densidad del kernel en el mismo gráfico sobre el mismo gráfico\n",
        "# ax2 = df['hour_min_t'].plot(kind='kde', secondary_y=True, ax=ax, color='red')\n",
        "# ax2.set_ylabel(\"Densidad\")\n",
        "\n",
        "ax.set_ylim(0,60)\n",
        "#ax.set_xlim(0,50)\n",
        "ax.grid(True)\n",
        "ax.set_xlabel(\"Valor\")\n",
        "ax.set_title('Precipitación')\n",
        "ax.set_ylabel(\"Datos \")\n",
        "plt.savefig(PATH_DRIVE + PATH_FIGURE + f'Histograma_TOTALES{NOMBRE_ESTACION}.png', format='png')"
      ],
      "metadata": {
        "id": "YZAciOBD2Guq",
        "outputId": "e541297e-ceca-49c4-b7e4-bfc9f85b4a48",
        "colab": {
          "base_uri": "https://localhost:8080/",
          "height": 472
        }
      },
      "execution_count": 79,
      "outputs": [
        {
          "output_type": "display_data",
          "data": {
            "text/plain": [
              "<Figure size 640x480 with 1 Axes>"
            ],
            "image/png": "[encoded data removed]"
          },
          "metadata": {}
        }
      ]
    },
    {
      "cell_type": "markdown",
      "metadata": {
        "id": "UJPKton4LJvq"
      },
      "source": [
        "## Test de rango fijo"
      ]
    },
    {
      "cell_type": "code",
      "metadata": {
        "id": "boKo7L2yLJvr",
        "colab": {
          "base_uri": "https://localhost:8080/",
          "height": 424
        },
        "outputId": "97a224a3-e78d-4845-fbc4-b8b3ffd1a62d"
      },
      "source": [
        "prec_max = 20.\n",
        "prec_min = 0.\n",
        "\n",
        "lamb_func = lambda r: np.nan if ((r > prec_max) | (r < prec_min)) else r\n",
        "\n",
        "dfVar['PREC_RANGO_FIJO'] = dfVar['PREC'].apply(lamb_func)\n",
        "dfVar"
      ],
      "execution_count": 80,
      "outputs": [
        {
          "output_type": "execute_result",
          "data": {
            "text/plain": [
              "                           FECHA  PREC  PREC_RANGO_FIJO\n",
              "0      2011-01-01 00:10:00-05:00   0.0              0.0\n",
              "1      2011-01-01 00:20:00-05:00   0.0              0.0\n",
              "2      2011-01-01 00:30:00-05:00   0.0              0.0\n",
              "3      2011-01-01 00:40:00-05:00   0.0              0.0\n",
              "4      2011-01-01 00:50:00-05:00   0.0              0.0\n",
              "...                          ...   ...              ...\n",
              "290605 2017-12-31 23:10:00-05:00   0.0              0.0\n",
              "290606 2017-12-31 23:20:00-05:00   0.0              0.0\n",
              "290607 2017-12-31 23:30:00-05:00   0.0              0.0\n",
              "290608 2017-12-31 23:40:00-05:00   0.0              0.0\n",
              "290609 2017-12-31 23:50:00-05:00   0.0              0.0\n",
              "\n",
              "[290610 rows x 3 columns]"
            ],
            "text/html": [
              "\n",
              "  <div id=\"df-afb47c52-a8ed-4683-8418-38dacabf319c\">\n",
              "    <div class=\"colab-df-container\">\n",
              "      <div>\n",
              "<style scoped>\n",
              "    .dataframe tbody tr th:only-of-type {\n",
              "        vertical-align: middle;\n",
              "    }\n",
              "\n",
              "    .dataframe tbody tr th {\n",
              "        vertical-align: top;\n",
              "    }\n",
              "\n",
              "    .dataframe thead th {\n",
              "        text-align: right;\n",
              "    }\n",
              "</style>\n",
              "<table border=\"1\" class=\"dataframe\">\n",
              "  <thead>\n",
              "    <tr style=\"text-align: right;\">\n",
              "      <th></th>\n",
              "      <th>FECHA</th>\n",
              "      <th>PREC</th>\n",
              "      <th>PREC_RANGO_FIJO</th>\n",
              "    </tr>\n",
              "  </thead>\n",
              "  <tbody>\n",
              "    <tr>\n",
              "      <th>0</th>\n",
              "      <td>2011-01-01 00:10:00-05:00</td>\n",
              "      <td>0.0</td>\n",
              "      <td>0.0</td>\n",
              "    </tr>\n",
              "    <tr>\n",
              "      <th>1</th>\n",
              "      <td>2011-01-01 00:20:00-05:00</td>\n",
              "      <td>0.0</td>\n",
              "      <td>0.0</td>\n",
              "    </tr>\n",
              "    <tr>\n",
              "      <th>2</th>\n",
              "      <td>2011-01-01 00:30:00-05:00</td>\n",
              "      <td>0.0</td>\n",
              "      <td>0.0</td>\n",
              "    </tr>\n",
              "    <tr>\n",
              "      <th>3</th>\n",
              "      <td>2011-01-01 00:40:00-05:00</td>\n",
              "      <td>0.0</td>\n",
              "      <td>0.0</td>\n",
              "    </tr>\n",
              "    <tr>\n",
              "      <th>4</th>\n",
              "      <td>2011-01-01 00:50:00-05:00</td>\n",
              "      <td>0.0</td>\n",
              "      <td>0.0</td>\n",
              "    </tr>\n",
              "    <tr>\n",
              "      <th>...</th>\n",
              "      <td>...</td>\n",
              "      <td>...</td>\n",
              "      <td>...</td>\n",
              "    </tr>\n",
              "    <tr>\n",
              "      <th>290605</th>\n",
              "      <td>2017-12-31 23:10:00-05:00</td>\n",
              "      <td>0.0</td>\n",
              "      <td>0.0</td>\n",
              "    </tr>\n",
              "    <tr>\n",
              "      <th>290606</th>\n",
              "      <td>2017-12-31 23:20:00-05:00</td>\n",
              "      <td>0.0</td>\n",
              "      <td>0.0</td>\n",
              "    </tr>\n",
              "    <tr>\n",
              "      <th>290607</th>\n",
              "      <td>2017-12-31 23:30:00-05:00</td>\n",
              "      <td>0.0</td>\n",
              "      <td>0.0</td>\n",
              "    </tr>\n",
              "    <tr>\n",
              "      <th>290608</th>\n",
              "      <td>2017-12-31 23:40:00-05:00</td>\n",
              "      <td>0.0</td>\n",
              "      <td>0.0</td>\n",
              "    </tr>\n",
              "    <tr>\n",
              "      <th>290609</th>\n",
              "      <td>2017-12-31 23:50:00-05:00</td>\n",
              "      <td>0.0</td>\n",
              "      <td>0.0</td>\n",
              "    </tr>\n",
              "  </tbody>\n",
              "</table>\n",
              "<p>290610 rows × 3 columns</p>\n",
              "</div>\n",
              "      <button class=\"colab-df-convert\" onclick=\"convertToInteractive('df-afb47c52-a8ed-4683-8418-38dacabf319c')\"\n",
              "              title=\"Convert this dataframe to an interactive table.\"\n",
              "              style=\"display:none;\">\n",
              "        \n",
              "  <svg xmlns=\"http://www.w3.org/2000/svg\" height=\"24px\"viewBox=\"0 0 24 24\"\n",
              "       width=\"24px\">\n",
              "    <path d=\"M0 0h24v24H0V0z\" fill=\"none\"/>\n",
              "    <path d=\"M18.56 5.44l.94 2.06.94-2.06 2.06-.94-2.06-.94-.94-2.06-.94 2.06-2.06.94zm-11 1L8.5 8.5l.94-2.06 2.06-.94-2.06-.94L8.5 2.5l-.94 2.06-2.06.94zm10 10l.94 2.06.94-2.06 2.06-.94-2.06-.94-.94-2.06-.94 2.06-2.06.94z\"/><path d=\"M17.41 7.96l-1.37-1.37c-.4-.4-.92-.59-1.43-.59-.52 0-1.04.2-1.43.59L10.3 9.45l-7.72 7.72c-.78.78-.78 2.05 0 2.83L4 21.41c.39.39.9.59 1.41.59.51 0 1.02-.2 1.41-.59l7.78-7.78 2.81-2.81c.8-.78.8-2.07 0-2.86zM5.41 20L4 18.59l7.72-7.72 1.47 1.35L5.41 20z\"/>\n",
              "  </svg>\n",
              "      </button>\n",
              "      \n",
              "  <style>\n",
              "    .colab-df-container {\n",
              "      display:flex;\n",
              "      flex-wrap:wrap;\n",
              "      gap: 12px;\n",
              "    }\n",
              "\n",
              "    .colab-df-convert {\n",
              "      background-color: #E8F0FE;\n",
              "      border: none;\n",
              "      border-radius: 50%;\n",
              "      cursor: pointer;\n",
              "      display: none;\n",
              "      fill: #1967D2;\n",
              "      height: 32px;\n",
              "      padding: 0 0 0 0;\n",
              "      width: 32px;\n",
              "    }\n",
              "\n",
              "    .colab-df-convert:hover {\n",
              "      background-color: #E2EBFA;\n",
              "      box-shadow: 0px 1px 2px rgba(60, 64, 67, 0.3), 0px 1px 3px 1px rgba(60, 64, 67, 0.15);\n",
              "      fill: #174EA6;\n",
              "    }\n",
              "\n",
              "    [theme=dark] .colab-df-convert {\n",
              "      background-color: #3B4455;\n",
              "      fill: #D2E3FC;\n",
              "    }\n",
              "\n",
              "    [theme=dark] .colab-df-convert:hover {\n",
              "      background-color: #434B5C;\n",
              "      box-shadow: 0px 1px 3px 1px rgba(0, 0, 0, 0.15);\n",
              "      filter: drop-shadow(0px 1px 2px rgba(0, 0, 0, 0.3));\n",
              "      fill: #FFFFFF;\n",
              "    }\n",
              "  </style>\n",
              "\n",
              "      <script>\n",
              "        const buttonEl =\n",
              "          document.querySelector('#df-afb47c52-a8ed-4683-8418-38dacabf319c button.colab-df-convert');\n",
              "        buttonEl.style.display =\n",
              "          google.colab.kernel.accessAllowed ? 'block' : 'none';\n",
              "\n",
              "        async function convertToInteractive(key) {\n",
              "          const element = document.querySelector('#df-afb47c52-a8ed-4683-8418-38dacabf319c');\n",
              "          const dataTable =\n",
              "            await google.colab.kernel.invokeFunction('convertToInteractive',\n",
              "                                                     [key], {});\n",
              "          if (!dataTable) return;\n",
              "\n",
              "          const docLinkHtml = 'Like what you see? Visit the ' +\n",
              "            '<a target=\"_blank\" href=https://colab.research.google.com/notebooks/data_table.ipynb>data table notebook</a>'\n",
              "            + ' to learn more about interactive tables.';\n",
              "          element.innerHTML = '';\n",
              "          dataTable['output_type'] = 'display_data';\n",
              "          await google.colab.output.renderOutput(dataTable, element);\n",
              "          const docLink = document.createElement('div');\n",
              "          docLink.innerHTML = docLinkHtml;\n",
              "          element.appendChild(docLink);\n",
              "        }\n",
              "      </script>\n",
              "    </div>\n",
              "  </div>\n",
              "  "
            ]
          },
          "metadata": {},
          "execution_count": 80
        }
      ]
    },
    {
      "cell_type": "code",
      "metadata": {
        "id": "XDr-x4YSLJvs",
        "colab": {
          "base_uri": "https://localhost:8080/",
          "height": 466
        },
        "outputId": "b682801d-7131-4be9-a6d1-c76cd39a00db"
      },
      "source": [
        "ax = dfVar.plot(kind = 'scatter', x='FECHA', y='PREC')\n",
        "dfVar.plot(kind = 'scatter', x='FECHA', y='PREC_RANGO_FIJO', ax=ax, color='red')"
      ],
      "execution_count": 81,
      "outputs": [
        {
          "output_type": "execute_result",
          "data": {
            "text/plain": [
              "<Axes: xlabel='FECHA', ylabel='PREC_RANGO_FIJO'>"
            ]
          },
          "metadata": {},
          "execution_count": 81
        },
        {
          "output_type": "display_data",
          "data": {
            "text/plain": [
              "<Figure size 640x480 with 1 Axes>"
            ],
            "image/png": "[encoded data removed]"
          },
          "metadata": {}
        }
      ]
    },
    {
      "cell_type": "code",
      "metadata": {
        "id": "tOyVI0YvMKj-",
        "colab": {
          "base_uri": "https://localhost:8080/",
          "height": 424
        },
        "outputId": "0613da12-16a9-463c-b750-2b2f5b885e98"
      },
      "source": [
        "## Para filtrar los valores finales\n",
        "dfFinal = dfVar[~dfVar['PREC_RANGO_FIJO'].isnull()].reset_index(drop=True)\n",
        "dfFinal"
      ],
      "execution_count": 82,
      "outputs": [
        {
          "output_type": "execute_result",
          "data": {
            "text/plain": [
              "                           FECHA  PREC  PREC_RANGO_FIJO\n",
              "0      2011-01-01 00:10:00-05:00   0.0              0.0\n",
              "1      2011-01-01 00:20:00-05:00   0.0              0.0\n",
              "2      2011-01-01 00:30:00-05:00   0.0              0.0\n",
              "3      2011-01-01 00:40:00-05:00   0.0              0.0\n",
              "4      2011-01-01 00:50:00-05:00   0.0              0.0\n",
              "...                          ...   ...              ...\n",
              "278093 2017-12-31 23:10:00-05:00   0.0              0.0\n",
              "278094 2017-12-31 23:20:00-05:00   0.0              0.0\n",
              "278095 2017-12-31 23:30:00-05:00   0.0              0.0\n",
              "278096 2017-12-31 23:40:00-05:00   0.0              0.0\n",
              "278097 2017-12-31 23:50:00-05:00   0.0              0.0\n",
              "\n",
              "[278098 rows x 3 columns]"
            ],
            "text/html": [
              "\n",
              "  <div id=\"df-c489f8f2-1240-4c28-bd18-c7ae29f9fb95\">\n",
              "    <div class=\"colab-df-container\">\n",
              "      <div>\n",
              "<style scoped>\n",
              "    .dataframe tbody tr th:only-of-type {\n",
              "        vertical-align: middle;\n",
              "    }\n",
              "\n",
              "    .dataframe tbody tr th {\n",
              "        vertical-align: top;\n",
              "    }\n",
              "\n",
              "    .dataframe thead th {\n",
              "        text-align: right;\n",
              "    }\n",
              "</style>\n",
              "<table border=\"1\" class=\"dataframe\">\n",
              "  <thead>\n",
              "    <tr style=\"text-align: right;\">\n",
              "      <th></th>\n",
              "      <th>FECHA</th>\n",
              "      <th>PREC</th>\n",
              "      <th>PREC_RANGO_FIJO</th>\n",
              "    </tr>\n",
              "  </thead>\n",
              "  <tbody>\n",
              "    <tr>\n",
              "      <th>0</th>\n",
              "      <td>2011-01-01 00:10:00-05:00</td>\n",
              "      <td>0.0</td>\n",
              "      <td>0.0</td>\n",
              "    </tr>\n",
              "    <tr>\n",
              "      <th>1</th>\n",
              "      <td>2011-01-01 00:20:00-05:00</td>\n",
              "      <td>0.0</td>\n",
              "      <td>0.0</td>\n",
              "    </tr>\n",
              "    <tr>\n",
              "      <th>2</th>\n",
              "      <td>2011-01-01 00:30:00-05:00</td>\n",
              "      <td>0.0</td>\n",
              "      <td>0.0</td>\n",
              "    </tr>\n",
              "    <tr>\n",
              "      <th>3</th>\n",
              "      <td>2011-01-01 00:40:00-05:00</td>\n",
              "      <td>0.0</td>\n",
              "      <td>0.0</td>\n",
              "    </tr>\n",
              "    <tr>\n",
              "      <th>4</th>\n",
              "      <td>2011-01-01 00:50:00-05:00</td>\n",
              "      <td>0.0</td>\n",
              "      <td>0.0</td>\n",
              "    </tr>\n",
              "    <tr>\n",
              "      <th>...</th>\n",
              "      <td>...</td>\n",
              "      <td>...</td>\n",
              "      <td>...</td>\n",
              "    </tr>\n",
              "    <tr>\n",
              "      <th>278093</th>\n",
              "      <td>2017-12-31 23:10:00-05:00</td>\n",
              "      <td>0.0</td>\n",
              "      <td>0.0</td>\n",
              "    </tr>\n",
              "    <tr>\n",
              "      <th>278094</th>\n",
              "      <td>2017-12-31 23:20:00-05:00</td>\n",
              "      <td>0.0</td>\n",
              "      <td>0.0</td>\n",
              "    </tr>\n",
              "    <tr>\n",
              "      <th>278095</th>\n",
              "      <td>2017-12-31 23:30:00-05:00</td>\n",
              "      <td>0.0</td>\n",
              "      <td>0.0</td>\n",
              "    </tr>\n",
              "    <tr>\n",
              "      <th>278096</th>\n",
              "      <td>2017-12-31 23:40:00-05:00</td>\n",
              "      <td>0.0</td>\n",
              "      <td>0.0</td>\n",
              "    </tr>\n",
              "    <tr>\n",
              "      <th>278097</th>\n",
              "      <td>2017-12-31 23:50:00-05:00</td>\n",
              "      <td>0.0</td>\n",
              "      <td>0.0</td>\n",
              "    </tr>\n",
              "  </tbody>\n",
              "</table>\n",
              "<p>278098 rows × 3 columns</p>\n",
              "</div>\n",
              "      <button class=\"colab-df-convert\" onclick=\"convertToInteractive('df-c489f8f2-1240-4c28-bd18-c7ae29f9fb95')\"\n",
              "              title=\"Convert this dataframe to an interactive table.\"\n",
              "              style=\"display:none;\">\n",
              "        \n",
              "  <svg xmlns=\"http://www.w3.org/2000/svg\" height=\"24px\"viewBox=\"0 0 24 24\"\n",
              "       width=\"24px\">\n",
              "    <path d=\"M0 0h24v24H0V0z\" fill=\"none\"/>\n",
              "    <path d=\"M18.56 5.44l.94 2.06.94-2.06 2.06-.94-2.06-.94-.94-2.06-.94 2.06-2.06.94zm-11 1L8.5 8.5l.94-2.06 2.06-.94-2.06-.94L8.5 2.5l-.94 2.06-2.06.94zm10 10l.94 2.06.94-2.06 2.06-.94-2.06-.94-.94-2.06-.94 2.06-2.06.94z\"/><path d=\"M17.41 7.96l-1.37-1.37c-.4-.4-.92-.59-1.43-.59-.52 0-1.04.2-1.43.59L10.3 9.45l-7.72 7.72c-.78.78-.78 2.05 0 2.83L4 21.41c.39.39.9.59 1.41.59.51 0 1.02-.2 1.41-.59l7.78-7.78 2.81-2.81c.8-.78.8-2.07 0-2.86zM5.41 20L4 18.59l7.72-7.72 1.47 1.35L5.41 20z\"/>\n",
              "  </svg>\n",
              "      </button>\n",
              "      \n",
              "  <style>\n",
              "    .colab-df-container {\n",
              "      display:flex;\n",
              "      flex-wrap:wrap;\n",
              "      gap: 12px;\n",
              "    }\n",
              "\n",
              "    .colab-df-convert {\n",
              "      background-color: #E8F0FE;\n",
              "      border: none;\n",
              "      border-radius: 50%;\n",
              "      cursor: pointer;\n",
              "      display: none;\n",
              "      fill: #1967D2;\n",
              "      height: 32px;\n",
              "      padding: 0 0 0 0;\n",
              "      width: 32px;\n",
              "    }\n",
              "\n",
              "    .colab-df-convert:hover {\n",
              "      background-color: #E2EBFA;\n",
              "      box-shadow: 0px 1px 2px rgba(60, 64, 67, 0.3), 0px 1px 3px 1px rgba(60, 64, 67, 0.15);\n",
              "      fill: #174EA6;\n",
              "    }\n",
              "\n",
              "    [theme=dark] .colab-df-convert {\n",
              "      background-color: #3B4455;\n",
              "      fill: #D2E3FC;\n",
              "    }\n",
              "\n",
              "    [theme=dark] .colab-df-convert:hover {\n",
              "      background-color: #434B5C;\n",
              "      box-shadow: 0px 1px 3px 1px rgba(0, 0, 0, 0.15);\n",
              "      filter: drop-shadow(0px 1px 2px rgba(0, 0, 0, 0.3));\n",
              "      fill: #FFFFFF;\n",
              "    }\n",
              "  </style>\n",
              "\n",
              "      <script>\n",
              "        const buttonEl =\n",
              "          document.querySelector('#df-c489f8f2-1240-4c28-bd18-c7ae29f9fb95 button.colab-df-convert');\n",
              "        buttonEl.style.display =\n",
              "          google.colab.kernel.accessAllowed ? 'block' : 'none';\n",
              "\n",
              "        async function convertToInteractive(key) {\n",
              "          const element = document.querySelector('#df-c489f8f2-1240-4c28-bd18-c7ae29f9fb95');\n",
              "          const dataTable =\n",
              "            await google.colab.kernel.invokeFunction('convertToInteractive',\n",
              "                                                     [key], {});\n",
              "          if (!dataTable) return;\n",
              "\n",
              "          const docLinkHtml = 'Like what you see? Visit the ' +\n",
              "            '<a target=\"_blank\" href=https://colab.research.google.com/notebooks/data_table.ipynb>data table notebook</a>'\n",
              "            + ' to learn more about interactive tables.';\n",
              "          element.innerHTML = '';\n",
              "          dataTable['output_type'] = 'display_data';\n",
              "          await google.colab.output.renderOutput(dataTable, element);\n",
              "          const docLink = document.createElement('div');\n",
              "          docLink.innerHTML = docLinkHtml;\n",
              "          element.appendChild(docLink);\n",
              "        }\n",
              "      </script>\n",
              "    </div>\n",
              "  </div>\n",
              "  "
            ]
          },
          "metadata": {},
          "execution_count": 82
        }
      ]
    },
    {
      "cell_type": "code",
      "source": [
        "print(dfFinal['PREC'].max())\n",
        "#print(dfFinal['TEMP_MAX_DIARIA'].max())\n",
        "print(dfFinal['PREC'].mean())"
      ],
      "metadata": {
        "id": "2m7NOuA6egf6",
        "outputId": "4696f7cd-c619-4e43-ee43-3e5277a62f49",
        "colab": {
          "base_uri": "https://localhost:8080/"
        }
      },
      "execution_count": 83,
      "outputs": [
        {
          "output_type": "stream",
          "name": "stdout",
          "text": [
            "19.6\n",
            "0.028697437593941697\n"
          ]
        }
      ]
    },
    {
      "cell_type": "code",
      "source": [
        "print(dfFinal['PREC'].min())\n",
        "#print(dfFinal['TEMP_MIN_DIARIA'].min())"
      ],
      "metadata": {
        "id": "ExWcfMSZegST",
        "outputId": "8756dd72-47f3-43c2-c9dc-4e4f18016bae",
        "colab": {
          "base_uri": "https://localhost:8080/"
        }
      },
      "execution_count": 84,
      "outputs": [
        {
          "output_type": "stream",
          "name": "stdout",
          "text": [
            "0.0\n"
          ]
        }
      ]
    },
    {
      "cell_type": "code",
      "metadata": {
        "id": "UsndzNlyJPbU",
        "colab": {
          "base_uri": "https://localhost:8080/"
        },
        "outputId": "197a2b75-43ae-46b7-d65f-96c42d6b0663"
      },
      "source": [
        "print(f'Datos iniciales : {dfVar.shape[0]}')\n",
        "print(f'Datos nulos iniciales : {dfVar[dfVar[\"PREC\"].isnull()].shape[0]}')\n",
        "dfPrec_null= dfVar[dfVar[\"PREC\"].isnull()]\n",
        "print(f'Datos nulos después de los testes : {dfFinal[dfFinal[\"PREC_RANGO_FIJO\"].isnull()].shape[0]}')\n",
        "print(f'Datos finales después de testes : {dfFinal.shape[0]}')\n",
        "print(f'Datos no nulos que fueron eliminados en los testes : {dfVar.shape[0] - dfFinal.shape[0] - dfVar[dfVar[\"PREC\"].isnull()].shape[0]}')"
      ],
      "execution_count": 85,
      "outputs": [
        {
          "output_type": "stream",
          "name": "stdout",
          "text": [
            "Datos iniciales : 290610\n",
            "Datos nulos iniciales : 12480\n",
            "Datos nulos después de los testes : 0\n",
            "Datos finales después de testes : 278098\n",
            "Datos no nulos que fueron eliminados en los testes : 32\n"
          ]
        }
      ]
    },
    {
      "cell_type": "code",
      "metadata": {
        "id": "2hoa0fdKLJvv"
      },
      "source": [
        "(dfFinal[['FECHA', 'PREC_RANGO_FIJO']]\n",
        "          .rename(columns = {'PREC_RANGO_FIJO' : 'PREC'})\n",
        "          .to_csv(PATH_FINAL_DADOS_TRATADOS + FILE_DATOS_TRATADOS, header=True, index=False, sep = ';'))"
      ],
      "execution_count": 86,
      "outputs": []
    },
    {
      "cell_type": "code",
      "source": [
        "dfPrec_null['FECHA'] = pd.to_datetime(dfPrec_null['FECHA'], format='%Y %m %d %H %M').dt.tz_convert('America/Bogota')"
      ],
      "metadata": {
        "id": "k14W9FwgdxYL",
        "outputId": "94d1f23b-0507-442d-9d9f-47d6614b16af",
        "colab": {
          "base_uri": "https://localhost:8080/"
        }
      },
      "execution_count": 87,
      "outputs": [
        {
          "output_type": "stream",
          "name": "stderr",
          "text": [
            "<ipython-input-87-fcfef4adfec2>:1: SettingWithCopyWarning: \n",
            "A value is trying to be set on a copy of a slice from a DataFrame.\n",
            "Try using .loc[row_indexer,col_indexer] = value instead\n",
            "\n",
            "See the caveats in the documentation: https://pandas.pydata.org/pandas-docs/stable/user_guide/indexing.html#returning-a-view-versus-a-copy\n",
            "  dfPrec_null['FECHA'] = pd.to_datetime(dfPrec_null['FECHA'], format='%Y %m %d %H %M').dt.tz_convert('America/Bogota')\n"
          ]
        }
      ]
    },
    {
      "cell_type": "code",
      "source": [
        "dfPrec_null['HORA_FECHA'] = dfPrec_null['FECHA'].dt.hour\n",
        "dfPrec_null['MES_FECHA'] = dfPrec_null['FECHA'].dt.month\n",
        "dfPrec_null['ANO_FECHA'] = dfPrec_null['FECHA'].dt.year\n",
        "dfPrec_null"
      ],
      "metadata": {
        "id": "ggXMF6SneIxq",
        "outputId": "f0b0fcd1-48d3-479b-b3b9-977ecb3b5f53",
        "colab": {
          "base_uri": "https://localhost:8080/",
          "height": 736
        }
      },
      "execution_count": 88,
      "outputs": [
        {
          "output_type": "stream",
          "name": "stderr",
          "text": [
            "<ipython-input-88-e9b4e00f938e>:1: SettingWithCopyWarning: \n",
            "A value is trying to be set on a copy of a slice from a DataFrame.\n",
            "Try using .loc[row_indexer,col_indexer] = value instead\n",
            "\n",
            "See the caveats in the documentation: https://pandas.pydata.org/pandas-docs/stable/user_guide/indexing.html#returning-a-view-versus-a-copy\n",
            "  dfPrec_null['HORA_FECHA'] = dfPrec_null['FECHA'].dt.hour\n",
            "<ipython-input-88-e9b4e00f938e>:2: SettingWithCopyWarning: \n",
            "A value is trying to be set on a copy of a slice from a DataFrame.\n",
            "Try using .loc[row_indexer,col_indexer] = value instead\n",
            "\n",
            "See the caveats in the documentation: https://pandas.pydata.org/pandas-docs/stable/user_guide/indexing.html#returning-a-view-versus-a-copy\n",
            "  dfPrec_null['MES_FECHA'] = dfPrec_null['FECHA'].dt.month\n",
            "<ipython-input-88-e9b4e00f938e>:3: SettingWithCopyWarning: \n",
            "A value is trying to be set on a copy of a slice from a DataFrame.\n",
            "Try using .loc[row_indexer,col_indexer] = value instead\n",
            "\n",
            "See the caveats in the documentation: https://pandas.pydata.org/pandas-docs/stable/user_guide/indexing.html#returning-a-view-versus-a-copy\n",
            "  dfPrec_null['ANO_FECHA'] = dfPrec_null['FECHA'].dt.year\n"
          ]
        },
        {
          "output_type": "execute_result",
          "data": {
            "text/plain": [
              "                           FECHA  PREC  PREC_RANGO_FIJO  HORA_FECHA  \\\n",
              "21670  2011-05-31 11:50:00-05:00   NaN              NaN          11   \n",
              "21671  2011-05-31 12:00:00-05:00   NaN              NaN          12   \n",
              "21672  2011-05-31 12:10:00-05:00   NaN              NaN          12   \n",
              "21673  2011-05-31 12:20:00-05:00   NaN              NaN          12   \n",
              "21674  2011-05-31 12:30:00-05:00   NaN              NaN          12   \n",
              "...                          ...   ...              ...         ...   \n",
              "260522 2017-04-05 10:10:00-05:00   NaN              NaN          10   \n",
              "260527 2017-04-05 11:10:00-05:00   NaN              NaN          11   \n",
              "260560 2017-04-06 07:10:00-05:00   NaN              NaN           7   \n",
              "260584 2017-04-06 12:10:00-05:00   NaN              NaN          12   \n",
              "260732 2017-05-20 09:00:00-05:00   NaN              NaN           9   \n",
              "\n",
              "        MES_FECHA  ANO_FECHA  \n",
              "21670           5       2011  \n",
              "21671           5       2011  \n",
              "21672           5       2011  \n",
              "21673           5       2011  \n",
              "21674           5       2011  \n",
              "...           ...        ...  \n",
              "260522          4       2017  \n",
              "260527          4       2017  \n",
              "260560          4       2017  \n",
              "260584          4       2017  \n",
              "260732          5       2017  \n",
              "\n",
              "[12480 rows x 6 columns]"
            ],
            "text/html": [
              "\n",
              "  <div id=\"df-8cce657f-b0d4-4eb3-b989-0225979c1da5\">\n",
              "    <div class=\"colab-df-container\">\n",
              "      <div>\n",
              "<style scoped>\n",
              "    .dataframe tbody tr th:only-of-type {\n",
              "        vertical-align: middle;\n",
              "    }\n",
              "\n",
              "    .dataframe tbody tr th {\n",
              "        vertical-align: top;\n",
              "    }\n",
              "\n",
              "    .dataframe thead th {\n",
              "        text-align: right;\n",
              "    }\n",
              "</style>\n",
              "<table border=\"1\" class=\"dataframe\">\n",
              "  <thead>\n",
              "    <tr style=\"text-align: right;\">\n",
              "      <th></th>\n",
              "      <th>FECHA</th>\n",
              "      <th>PREC</th>\n",
              "      <th>PREC_RANGO_FIJO</th>\n",
              "      <th>HORA_FECHA</th>\n",
              "      <th>MES_FECHA</th>\n",
              "      <th>ANO_FECHA</th>\n",
              "    </tr>\n",
              "  </thead>\n",
              "  <tbody>\n",
              "    <tr>\n",
              "      <th>21670</th>\n",
              "      <td>2011-05-31 11:50:00-05:00</td>\n",
              "      <td>NaN</td>\n",
              "      <td>NaN</td>\n",
              "      <td>11</td>\n",
              "      <td>5</td>\n",
              "      <td>2011</td>\n",
              "    </tr>\n",
              "    <tr>\n",
              "      <th>21671</th>\n",
              "      <td>2011-05-31 12:00:00-05:00</td>\n",
              "      <td>NaN</td>\n",
              "      <td>NaN</td>\n",
              "      <td>12</td>\n",
              "      <td>5</td>\n",
              "      <td>2011</td>\n",
              "    </tr>\n",
              "    <tr>\n",
              "      <th>21672</th>\n",
              "      <td>2011-05-31 12:10:00-05:00</td>\n",
              "      <td>NaN</td>\n",
              "      <td>NaN</td>\n",
              "      <td>12</td>\n",
              "      <td>5</td>\n",
              "      <td>2011</td>\n",
              "    </tr>\n",
              "    <tr>\n",
              "      <th>21673</th>\n",
              "      <td>2011-05-31 12:20:00-05:00</td>\n",
              "      <td>NaN</td>\n",
              "      <td>NaN</td>\n",
              "      <td>12</td>\n",
              "      <td>5</td>\n",
              "      <td>2011</td>\n",
              "    </tr>\n",
              "    <tr>\n",
              "      <th>21674</th>\n",
              "      <td>2011-05-31 12:30:00-05:00</td>\n",
              "      <td>NaN</td>\n",
              "      <td>NaN</td>\n",
              "      <td>12</td>\n",
              "      <td>5</td>\n",
              "      <td>2011</td>\n",
              "    </tr>\n",
              "    <tr>\n",
              "      <th>...</th>\n",
              "      <td>...</td>\n",
              "      <td>...</td>\n",
              "      <td>...</td>\n",
              "      <td>...</td>\n",
              "      <td>...</td>\n",
              "      <td>...</td>\n",
              "    </tr>\n",
              "    <tr>\n",
              "      <th>260522</th>\n",
              "      <td>2017-04-05 10:10:00-05:00</td>\n",
              "      <td>NaN</td>\n",
              "      <td>NaN</td>\n",
              "      <td>10</td>\n",
              "      <td>4</td>\n",
              "      <td>2017</td>\n",
              "    </tr>\n",
              "    <tr>\n",
              "      <th>260527</th>\n",
              "      <td>2017-04-05 11:10:00-05:00</td>\n",
              "      <td>NaN</td>\n",
              "      <td>NaN</td>\n",
              "      <td>11</td>\n",
              "      <td>4</td>\n",
              "      <td>2017</td>\n",
              "    </tr>\n",
              "    <tr>\n",
              "      <th>260560</th>\n",
              "      <td>2017-04-06 07:10:00-05:00</td>\n",
              "      <td>NaN</td>\n",
              "      <td>NaN</td>\n",
              "      <td>7</td>\n",
              "      <td>4</td>\n",
              "      <td>2017</td>\n",
              "    </tr>\n",
              "    <tr>\n",
              "      <th>260584</th>\n",
              "      <td>2017-04-06 12:10:00-05:00</td>\n",
              "      <td>NaN</td>\n",
              "      <td>NaN</td>\n",
              "      <td>12</td>\n",
              "      <td>4</td>\n",
              "      <td>2017</td>\n",
              "    </tr>\n",
              "    <tr>\n",
              "      <th>260732</th>\n",
              "      <td>2017-05-20 09:00:00-05:00</td>\n",
              "      <td>NaN</td>\n",
              "      <td>NaN</td>\n",
              "      <td>9</td>\n",
              "      <td>5</td>\n",
              "      <td>2017</td>\n",
              "    </tr>\n",
              "  </tbody>\n",
              "</table>\n",
              "<p>12480 rows × 6 columns</p>\n",
              "</div>\n",
              "      <button class=\"colab-df-convert\" onclick=\"convertToInteractive('df-8cce657f-b0d4-4eb3-b989-0225979c1da5')\"\n",
              "              title=\"Convert this dataframe to an interactive table.\"\n",
              "              style=\"display:none;\">\n",
              "        \n",
              "  <svg xmlns=\"http://www.w3.org/2000/svg\" height=\"24px\"viewBox=\"0 0 24 24\"\n",
              "       width=\"24px\">\n",
              "    <path d=\"M0 0h24v24H0V0z\" fill=\"none\"/>\n",
              "    <path d=\"M18.56 5.44l.94 2.06.94-2.06 2.06-.94-2.06-.94-.94-2.06-.94 2.06-2.06.94zm-11 1L8.5 8.5l.94-2.06 2.06-.94-2.06-.94L8.5 2.5l-.94 2.06-2.06.94zm10 10l.94 2.06.94-2.06 2.06-.94-2.06-.94-.94-2.06-.94 2.06-2.06.94z\"/><path d=\"M17.41 7.96l-1.37-1.37c-.4-.4-.92-.59-1.43-.59-.52 0-1.04.2-1.43.59L10.3 9.45l-7.72 7.72c-.78.78-.78 2.05 0 2.83L4 21.41c.39.39.9.59 1.41.59.51 0 1.02-.2 1.41-.59l7.78-7.78 2.81-2.81c.8-.78.8-2.07 0-2.86zM5.41 20L4 18.59l7.72-7.72 1.47 1.35L5.41 20z\"/>\n",
              "  </svg>\n",
              "      </button>\n",
              "      \n",
              "  <style>\n",
              "    .colab-df-container {\n",
              "      display:flex;\n",
              "      flex-wrap:wrap;\n",
              "      gap: 12px;\n",
              "    }\n",
              "\n",
              "    .colab-df-convert {\n",
              "      background-color: #E8F0FE;\n",
              "      border: none;\n",
              "      border-radius: 50%;\n",
              "      cursor: pointer;\n",
              "      display: none;\n",
              "      fill: #1967D2;\n",
              "      height: 32px;\n",
              "      padding: 0 0 0 0;\n",
              "      width: 32px;\n",
              "    }\n",
              "\n",
              "    .colab-df-convert:hover {\n",
              "      background-color: #E2EBFA;\n",
              "      box-shadow: 0px 1px 2px rgba(60, 64, 67, 0.3), 0px 1px 3px 1px rgba(60, 64, 67, 0.15);\n",
              "      fill: #174EA6;\n",
              "    }\n",
              "\n",
              "    [theme=dark] .colab-df-convert {\n",
              "      background-color: #3B4455;\n",
              "      fill: #D2E3FC;\n",
              "    }\n",
              "\n",
              "    [theme=dark] .colab-df-convert:hover {\n",
              "      background-color: #434B5C;\n",
              "      box-shadow: 0px 1px 3px 1px rgba(0, 0, 0, 0.15);\n",
              "      filter: drop-shadow(0px 1px 2px rgba(0, 0, 0, 0.3));\n",
              "      fill: #FFFFFF;\n",
              "    }\n",
              "  </style>\n",
              "\n",
              "      <script>\n",
              "        const buttonEl =\n",
              "          document.querySelector('#df-8cce657f-b0d4-4eb3-b989-0225979c1da5 button.colab-df-convert');\n",
              "        buttonEl.style.display =\n",
              "          google.colab.kernel.accessAllowed ? 'block' : 'none';\n",
              "\n",
              "        async function convertToInteractive(key) {\n",
              "          const element = document.querySelector('#df-8cce657f-b0d4-4eb3-b989-0225979c1da5');\n",
              "          const dataTable =\n",
              "            await google.colab.kernel.invokeFunction('convertToInteractive',\n",
              "                                                     [key], {});\n",
              "          if (!dataTable) return;\n",
              "\n",
              "          const docLinkHtml = 'Like what you see? Visit the ' +\n",
              "            '<a target=\"_blank\" href=https://colab.research.google.com/notebooks/data_table.ipynb>data table notebook</a>'\n",
              "            + ' to learn more about interactive tables.';\n",
              "          element.innerHTML = '';\n",
              "          dataTable['output_type'] = 'display_data';\n",
              "          await google.colab.output.renderOutput(dataTable, element);\n",
              "          const docLink = document.createElement('div');\n",
              "          docLink.innerHTML = docLinkHtml;\n",
              "          element.appendChild(docLink);\n",
              "        }\n",
              "      </script>\n",
              "    </div>\n",
              "  </div>\n",
              "  "
            ]
          },
          "metadata": {},
          "execution_count": 88
        }
      ]
    },
    {
      "cell_type": "code",
      "source": [
        "fig, ax = plt.subplots()\n",
        "\n",
        "# Gráfico del histograma\n",
        "dfPrec_null['ANO_FECHA'].plot(kind = 'hist', ax=ax, edgecolor='black', color='skyblue', bins = range(2011, 2019))\n",
        "\n",
        "# # Gráfico de la estimativa de la densidad del kernel en el mismo gráfico sobre el mismo gráfico\n",
        "# ax2 = df['hour_min_t'].plot(kind='kde', secondary_y=True, ax=ax, color='red')\n",
        "# ax2.set_ylabel(\"Densidad\")\n",
        "\n",
        "ax.set_ylim(0)\n",
        "ax.set_xlim()\n",
        "ax.grid(True)\n",
        "ax.set_xlabel(\"Años\")\n",
        "ax.set_xticks(range(2011, 2019))\n",
        "ax.set_title('Precipitación')\n",
        "ax.set_ylabel(\"Datos faltantes\")\n",
        "plt.savefig(PATH_DRIVE + PATH_FIGURE + f'Histograma_año_datos_faltantes_prec_{NOMBRE_ESTACION}.png', format='png')"
      ],
      "metadata": {
        "id": "XJ9w69gHeP86",
        "outputId": "46e80c12-6188-4f67-d7ce-ff6445d08422",
        "colab": {
          "base_uri": "https://localhost:8080/",
          "height": 472
        }
      },
      "execution_count": 89,
      "outputs": [
        {
          "output_type": "display_data",
          "data": {
            "text/plain": [
              "<Figure size 640x480 with 1 Axes>"
            ],
            "image/png": "[encoded data removed]"
          },
          "metadata": {}
        }
      ]
    },
    {
      "cell_type": "code",
      "source": [
        "fig, ax = plt.subplots()\n",
        "\n",
        "# Gráfico del histograma\n",
        "dfPrec_null['HORA_FECHA'].plot(kind = 'hist', ax=ax, edgecolor='black', color='skyblue', bins = range(0, 25))\n",
        "\n",
        "# # Gráfico de la estimativa de la densidad del kernel en el mismo gráfico sobre el mismo gráfico\n",
        "# ax2 = df['hour_min_t'].plot(kind='kde', secondary_y=True, ax=ax, color='red')\n",
        "# ax2.set_ylabel(\"Densidad\")\n",
        "\n",
        "ax.set_ylim(0)\n",
        "ax.set_xlim(-1, 25)\n",
        "ax.grid(True)\n",
        "ax.set_xlabel(\"Hora\")\n",
        "ax.set_xticks(range(0, 25, 3))\n",
        "ax.set_title('Precipitación')\n",
        "ax.set_ylabel(\"Datos faltantes\")\n",
        "plt.savefig(PATH_DRIVE + PATH_FIGURE + f'Histograma_hora_datos_faltantes_Prec_{NOMBRE_ESTACION}.png', format='png')"
      ],
      "metadata": {
        "id": "LJKZjs7feaj6",
        "outputId": "392f8593-be7a-4f52-d52d-a66d8124f592",
        "colab": {
          "base_uri": "https://localhost:8080/",
          "height": 472
        }
      },
      "execution_count": 90,
      "outputs": [
        {
          "output_type": "display_data",
          "data": {
            "text/plain": [
              "<Figure size 640x480 with 1 Axes>"
            ],
            "image/png": "[encoded data removed]"
          },
          "metadata": {}
        }
      ]
    },
    {
      "cell_type": "code",
      "source": [
        "fig, ax = plt.subplots()\n",
        "\n",
        "# Gráfico del histograma\n",
        "dfPrec_null['MES_FECHA'].plot(kind = 'hist', ax=ax, edgecolor='black', color='skyblue', bins = range(0,14), align='left')\n",
        "\n",
        "# # Gráfico de la estimativa de la densidad del kernel en el mismo gráfico sobre el mismo gráfico\n",
        "# ax2 = df['month_min_t'].plot(kind='kde', secondary_y=True, ax=ax, color='red')\n",
        "# ax2.set_ylabel(\"Densidad\")\n",
        "\n",
        "ax.set_ylim(0)\n",
        "ax.set_xlim(0, 13)\n",
        "# bins_labels(range(0,14), 20)\n",
        "ax.grid(True)\n",
        "ax.set_xlabel(\"Mes\")\n",
        "ax.set_xticks(range(1, 13, 1))\n",
        "Meses = ['Enero', 'Febrero',\n",
        "         'Marzo', 'Abril',\n",
        "         'Mayo', 'Junio',\n",
        "         'Julio', 'Agosto',\n",
        "         'Septiembre', 'Octubre',\n",
        "         'Noviembre', 'Diciembre']\n",
        "ax.set_xticklabels(Meses, rotation=75)\n",
        "ax.set_title('Precipitación')\n",
        "ax.set_ylabel(\"Datos faltantes\")\n",
        "plt.savefig(PATH_DRIVE + PATH_FIGURE + f'Histograma_mes_datos_faltantes_Prec_{NOMBRE_ESTACION}.png', format='png')"
      ],
      "metadata": {
        "id": "v4iZNOD5eg2L",
        "outputId": "93ac236b-2e94-47e3-9738-ce9ad4bd052c",
        "colab": {
          "base_uri": "https://localhost:8080/",
          "height": 539
        }
      },
      "execution_count": 91,
      "outputs": [
        {
          "output_type": "display_data",
          "data": {
            "text/plain": [
              "<Figure size 640x480 with 1 Axes>"
            ],
            "image/png": "[encoded data removed]"
          },
          "metadata": {}
        }
      ]
    },
    {
      "cell_type": "markdown",
      "source": [
        "## Análisis de datos faltantes"
      ],
      "metadata": {
        "id": "rF82zOYJergq"
      }
    },
    {
      "cell_type": "code",
      "source": [
        "from calendar import isleap"
      ],
      "metadata": {
        "id": "g-D7IYdFerIz"
      },
      "execution_count": 92,
      "outputs": []
    },
    {
      "cell_type": "code",
      "source": [
        "dfEliminados = dfVar[dfVar[\"PREC_RANGO_FIJO\"].isnull()].reset_index(drop=True)[['FECHA', 'PREC']].copy()\n",
        "dfEliminados['HORA_FECHA'] = dfEliminados['FECHA'].dt.hour\n",
        "dfEliminados['MES_FECHA'] = dfEliminados['FECHA'].dt.month\n",
        "dfEliminados['ANO_FECHA'] = dfEliminados['FECHA'].dt.year\n",
        "dfEliminados['DIAS_EN_MES'] = dfEliminados['FECHA'].dt.days_in_month\n",
        "dfEliminados['DIAS_EN_ANO'] = dfEliminados[\"ANO_FECHA\"].apply(lambda x:365 + isleap(x))"
      ],
      "metadata": {
        "id": "84XXgiI9et-S"
      },
      "execution_count": 93,
      "outputs": []
    },
    {
      "cell_type": "code",
      "source": [
        "dfEliminados_HORA = (dfEliminados.groupby('HORA_FECHA')\n",
        "       .agg({'HORA_FECHA': ['count']})\n",
        "       .reset_index(level = [0])\n",
        "      )\n",
        "\n",
        "dfEliminados_HORA[\"TOTAL_FALTANTES\"] = dfEliminados_HORA[(\"HORA_FECHA\", \"count\")]\n",
        "dfEliminados_HORA[\"HORA\"] = dfEliminados_HORA[(\"HORA_FECHA\", \"\")]\n",
        "dfEliminados_HORA[\"TOTAL_HORA\"] = 7*365*6\n",
        "dfEliminados_HORA[\"PORC_HORA_FALTANTE\"] = dfEliminados_HORA[\"TOTAL_FALTANTES\"] / dfEliminados_HORA[\"TOTAL_HORA\"] * 100\n",
        "\n",
        "fig, ax = plt.subplots()\n",
        "\n",
        "dfEliminados_HORA.plot.bar(x='HORA', y='PORC_HORA_FALTANTE', rot=0, edgecolor='black', color='skyblue', width=1.0, ax=ax)\n",
        "ax.grid(True)\n",
        "ax.set_xlabel(\"Hora\")\n",
        "ax.set_ylabel(\"% Datos no utilizados de precipitación\")\n",
        "ax.get_legend().remove()\n",
        "ax.set_title(f'{NOMBRE_ESTACION.capitalize()}')\n",
        "plt.savefig(PATH_DRIVE + PATH_FIGURE + f'Histograma_datos_faltantes_porcentual_Prec_hora_{NOMBRE_ESTACION}.png', format='png')"
      ],
      "metadata": {
        "id": "hn9N--Bfe5fm",
        "outputId": "aefe3458-edb5-4b7e-a729-4880c63a796d",
        "colab": {
          "base_uri": "https://localhost:8080/",
          "height": 472
        }
      },
      "execution_count": 94,
      "outputs": [
        {
          "output_type": "display_data",
          "data": {
            "text/plain": [
              "<Figure size 640x480 with 1 Axes>"
            ],
            "image/png": "[encoded data removed]"
          },
          "metadata": {}
        }
      ]
    },
    {
      "cell_type": "code",
      "source": [
        "dfEliminados_MES = (dfEliminados\n",
        "       .groupby(['MES_FECHA', 'ANO_FECHA', 'DIAS_EN_MES'])\n",
        "       .agg({'HORA_FECHA': ['count']})\n",
        "       .reset_index(level = [0, 1, 2])\n",
        "      )\n",
        "\n",
        "dfEliminados_MES[\"TOTAL_FALTANTES\"] = dfEliminados_MES[(\"HORA_FECHA\", \"count\")]\n",
        "dfEliminados_MES = dfEliminados_MES.drop(columns=[(\"HORA_FECHA\", \"count\")])\n",
        "dfEliminados_MES[\"TOTAL_DATOS_POR_MES_ANO\"] = dfEliminados_MES['DIAS_EN_MES']*24*7*6\n",
        "dfEliminados_MES[\"PORC_DATOS_POR_MES_ANO_FALTANTE\"] = dfEliminados_MES[\"TOTAL_FALTANTES\"] / dfEliminados_MES[\"TOTAL_DATOS_POR_MES_ANO\"] * 100\n",
        "dfEliminados_MES.columns=dfEliminados_MES.columns.droplevel(1)\n",
        "dfEliminados_MES.reset_index(inplace=True)\n",
        "dfEliminados_MES = (dfEliminados_MES\n",
        "       .groupby('MES_FECHA')\n",
        "       .agg({'PORC_DATOS_POR_MES_ANO_FALTANTE': ['sum']})\n",
        "       .reset_index(level = [0])\n",
        "      )\n",
        "dfEliminados_MES[\"PORC_MES_FALTANTES\"] = dfEliminados_MES[(\"PORC_DATOS_POR_MES_ANO_FALTANTE\", \"sum\")]\n",
        "\n",
        "fig, ax = plt.subplots()\n",
        "\n",
        "dfEliminados_MES.plot.bar(x='MES_FECHA', y='PORC_MES_FALTANTES', rot=0, edgecolor='black', color='skyblue', width=1.0, ax=ax)\n",
        "ax.grid(True)\n",
        "ax.set_xlabel(\"Mes\")\n",
        "ax.set_ylabel(\"% Datos no utilizados de precipitación\")\n",
        "ax.get_legend().remove()\n",
        "Meses = ['Enero', 'Febrero',\n",
        "         'Marzo', 'Abril',\n",
        "         'Mayo', 'Junio',\n",
        "         'Julio', 'Agosto',\n",
        "         'Septiembre', 'Octubre',\n",
        "         'Noviembre', 'Diciembre']\n",
        "ax.set_xticklabels(Meses, rotation=75)\n",
        "ax.set_title(f'{NOMBRE_ESTACION.capitalize()}')\n",
        "plt.savefig(PATH_DRIVE + PATH_FIGURE + f'Histograma_datos_faltantes_porcentual_Prec_mes_{NOMBRE_ESTACION}.png', format='png')"
      ],
      "metadata": {
        "id": "JHfcs7MUfOnk",
        "outputId": "fc4c99c3-8763-44b5-b96d-960c0986d434",
        "colab": {
          "base_uri": "https://localhost:8080/",
          "height": 539
        }
      },
      "execution_count": 95,
      "outputs": [
        {
          "output_type": "display_data",
          "data": {
            "text/plain": [
              "<Figure size 640x480 with 1 Axes>"
            ],
            "image/png": "[encoded data removed]"
          },
          "metadata": {}
        }
      ]
    },
    {
      "cell_type": "code",
      "source": [
        "dfEliminados_ANO = (dfEliminados\n",
        "       .groupby(['ANO_FECHA', 'DIAS_EN_ANO'])\n",
        "       .agg({'HORA_FECHA': ['count']})\n",
        "       .reset_index(level = [0, 1])\n",
        "      )\n",
        "\n",
        "dfEliminados_ANO[\"TOTAL_FALTANTES\"] = dfEliminados_ANO[(\"HORA_FECHA\", \"count\")]\n",
        "dfEliminados_ANO = dfEliminados_ANO.drop(columns=[(\"HORA_FECHA\", \"count\")])\n",
        "dfEliminados_ANO[\"TOTAL_DATOS_POR_ANO\"] = dfEliminados_ANO['DIAS_EN_ANO']*24*6\n",
        "dfEliminados_ANO[\"PORC_ANO_FALTANTES\"] = dfEliminados_ANO[\"TOTAL_FALTANTES\"] / dfEliminados_ANO[\"TOTAL_DATOS_POR_ANO\"] * 100\n",
        "dfEliminados_ANO\n",
        "fig, ax = plt.subplots()\n",
        "\n",
        "dfEliminados_ANO.plot.bar(x='ANO_FECHA', y='PORC_ANO_FALTANTES', rot=0, edgecolor='black', color='skyblue', width=1.0, ax=ax)\n",
        "ax.grid(True)\n",
        "ax.set_xlabel(\"Año\")\n",
        "ax.set_ylabel(\"% Datos no utilizados de precipitación\")\n",
        "ax.get_legend().remove()\n",
        "ax.set_title(f'{NOMBRE_ESTACION.capitalize()}')\n",
        "plt.savefig(PATH_DRIVE + PATH_FIGURE + f'Histograma_datos_faltantes_porcentual_Prec_ano_{NOMBRE_ESTACION}.png', format='png')"
      ],
      "metadata": {
        "id": "TVS96Z1wflsc",
        "outputId": "361df140-26c6-4450-db3a-8fe4578b09d0",
        "colab": {
          "base_uri": "https://localhost:8080/",
          "height": 472
        }
      },
      "execution_count": 96,
      "outputs": [
        {
          "output_type": "display_data",
          "data": {
            "text/plain": [
              "<Figure size 640x480 with 1 Axes>"
            ],
            "image/png": "[encoded data removed]"
          },
          "metadata": {}
        }
      ]
    }
  ]
}