{
  "nbformat": 4,
  "nbformat_minor": 0,
  "metadata": {
    "kernelspec": {
      "display_name": "Python 3",
      "language": "python",
      "name": "python3"
    },
    "language_info": {
      "codemirror_mode": {
        "name": "ipython",
        "version": 3
      },
      "file_extension": ".py",
      "mimetype": "text/x-python",
      "name": "python",
      "nbconvert_exporter": "python",
      "pygments_lexer": "ipython3",
      "version": "3.8.5"
    },
    "colab": {
      "name": "Testeo Precipitación.ipynb",
      "provenance": [],
      "include_colab_link": true
    }
  },
  "cells": [
    {
      "cell_type": "markdown",
      "metadata": {
        "id": "view-in-github",
        "colab_type": "text"
      },
      "source": [
        "<a href=\"https://colab.research.google.com/github/chris051091/Seminario-3/blob/master/preprocess/src/Testeo_Precipitaci%C3%B3n.ipynb\" target=\"_parent\"><img src=\"https://colab.research.google.com/assets/colab-badge.svg\" alt=\"Open In Colab\"/></a>"
      ]
    },
    {
      "cell_type": "markdown",
      "metadata": {
        "id": "v45fg9bmLJvZ"
      },
      "source": [
        "# Testes - Precipitación"
      ]
    },
    {
      "cell_type": "code",
      "metadata": {
        "id": "EoapCLMALJvj",
        "colab": {
          "base_uri": "https://localhost:8080/"
        },
        "outputId": "a2f53424-2516-41f1-85fb-e0a56e300627"
      },
      "source": [
        "import pandas as pd\n",
        "import numpy as np\n",
        "import os\n",
        "import re\n",
        "from functools import reduce\n",
        "import matplotlib.pyplot as plt\n",
        "import seaborn as sns\n",
        "from scipy import stats\n",
        "\n",
        "from google.colab import drive\n",
        "drive.mount('/content/drive')\n",
        "\n",
        "%matplotlib inline"
      ],
      "execution_count": 45,
      "outputs": [
        {
          "output_type": "stream",
          "name": "stdout",
          "text": [
            "Drive already mounted at /content/drive; to attempt to forcibly remount, call drive.mount(\"/content/drive\", force_remount=True).\n"
          ]
        }
      ]
    },
    {
      "cell_type": "code",
      "metadata": {
        "id": "nrp0DLfHLJvl"
      },
      "source": [
        "PATH_DRIVE = 'drive/MyDrive/Seminario-3-master'\n",
        "PATH_DADOS = '/preprocess/dados/'\n",
        "PATH_FIGURE = '/histograms/'\n",
        "\n",
        "# NOMBRE_ESTACION = 'chucuri'\n",
        "#NOMBRE_ESTACION = 'palanquero'\n",
        "NOMBRE_ESTACION = 'vizcaina'\n",
        "\n",
        "PATH_FINAL_DADOS = PATH_DRIVE + PATH_DADOS + NOMBRE_ESTACION + '/'\n",
        "PATH_FINAL_DADOS_TRATADOS = PATH_DRIVE + PATH_DADOS + NOMBRE_ESTACION + '/tratados/'\n",
        "\n",
        "FILE_DATOS_PROCESADOS = NOMBRE_ESTACION.lower() + '_procesado_10min.csv'\n",
        "FILE_DATOS_TRATADOS = NOMBRE_ESTACION.lower() + '_tratados_prec.csv'\n"
      ],
      "execution_count": 46,
      "outputs": []
    },
    {
      "cell_type": "code",
      "metadata": {
        "id": "SNvEHyC4LJvp",
        "colab": {
          "base_uri": "https://localhost:8080/",
          "height": 424
        },
        "outputId": "5805b00c-08b2-40d7-a116-6d68b141c748"
      },
      "source": [
        "df = pd.read_csv(PATH_FINAL_DADOS + FILE_DATOS_PROCESADOS, \n",
        "                 sep = ';', \n",
        "                 parse_dates = [\"FECHA\"],\n",
        "                 date_parser = lambda col: pd.to_datetime(col)\n",
        "                )\n",
        "\n",
        "dfVar = df[['FECHA', 'PREC']].copy()\n",
        "dfVar = dfVar.sort_values(by=['FECHA']).reset_index(drop = True)\n",
        "\n",
        "# Eliminando datos que no fueron tomados cada 10 min.\n",
        "# Para chucuri fueron 4 datos\n",
        "\n",
        "dfVar = dfVar[dfVar['FECHA'].dt.minute % 10 == 0].reset_index(drop = True)\n",
        "dfVar"
      ],
      "execution_count": 47,
      "outputs": [
        {
          "output_type": "execute_result",
          "data": {
            "text/plain": [
              "                           FECHA  PREC\n",
              "0      2011-01-01 00:10:00-05:00   0.0\n",
              "1      2011-01-01 00:20:00-05:00   0.0\n",
              "2      2011-01-01 00:30:00-05:00   0.0\n",
              "3      2011-01-01 00:40:00-05:00   0.0\n",
              "4      2011-01-01 00:50:00-05:00   0.0\n",
              "...                          ...   ...\n",
              "312925 2017-12-31 23:10:00-05:00   0.0\n",
              "312926 2017-12-31 23:20:00-05:00   0.0\n",
              "312927 2017-12-31 23:30:00-05:00   0.0\n",
              "312928 2017-12-31 23:40:00-05:00   0.0\n",
              "312929 2017-12-31 23:50:00-05:00   0.0\n",
              "\n",
              "[312930 rows x 2 columns]"
            ],
            "text/html": [
              "\n",
              "  <div id=\"df-4dbdf823-e2c2-40cb-a266-af2f139815f6\">\n",
              "    <div class=\"colab-df-container\">\n",
              "      <div>\n",
              "<style scoped>\n",
              "    .dataframe tbody tr th:only-of-type {\n",
              "        vertical-align: middle;\n",
              "    }\n",
              "\n",
              "    .dataframe tbody tr th {\n",
              "        vertical-align: top;\n",
              "    }\n",
              "\n",
              "    .dataframe thead th {\n",
              "        text-align: right;\n",
              "    }\n",
              "</style>\n",
              "<table border=\"1\" class=\"dataframe\">\n",
              "  <thead>\n",
              "    <tr style=\"text-align: right;\">\n",
              "      <th></th>\n",
              "      <th>FECHA</th>\n",
              "      <th>PREC</th>\n",
              "    </tr>\n",
              "  </thead>\n",
              "  <tbody>\n",
              "    <tr>\n",
              "      <th>0</th>\n",
              "      <td>2011-01-01 00:10:00-05:00</td>\n",
              "      <td>0.0</td>\n",
              "    </tr>\n",
              "    <tr>\n",
              "      <th>1</th>\n",
              "      <td>2011-01-01 00:20:00-05:00</td>\n",
              "      <td>0.0</td>\n",
              "    </tr>\n",
              "    <tr>\n",
              "      <th>2</th>\n",
              "      <td>2011-01-01 00:30:00-05:00</td>\n",
              "      <td>0.0</td>\n",
              "    </tr>\n",
              "    <tr>\n",
              "      <th>3</th>\n",
              "      <td>2011-01-01 00:40:00-05:00</td>\n",
              "      <td>0.0</td>\n",
              "    </tr>\n",
              "    <tr>\n",
              "      <th>4</th>\n",
              "      <td>2011-01-01 00:50:00-05:00</td>\n",
              "      <td>0.0</td>\n",
              "    </tr>\n",
              "    <tr>\n",
              "      <th>...</th>\n",
              "      <td>...</td>\n",
              "      <td>...</td>\n",
              "    </tr>\n",
              "    <tr>\n",
              "      <th>312925</th>\n",
              "      <td>2017-12-31 23:10:00-05:00</td>\n",
              "      <td>0.0</td>\n",
              "    </tr>\n",
              "    <tr>\n",
              "      <th>312926</th>\n",
              "      <td>2017-12-31 23:20:00-05:00</td>\n",
              "      <td>0.0</td>\n",
              "    </tr>\n",
              "    <tr>\n",
              "      <th>312927</th>\n",
              "      <td>2017-12-31 23:30:00-05:00</td>\n",
              "      <td>0.0</td>\n",
              "    </tr>\n",
              "    <tr>\n",
              "      <th>312928</th>\n",
              "      <td>2017-12-31 23:40:00-05:00</td>\n",
              "      <td>0.0</td>\n",
              "    </tr>\n",
              "    <tr>\n",
              "      <th>312929</th>\n",
              "      <td>2017-12-31 23:50:00-05:00</td>\n",
              "      <td>0.0</td>\n",
              "    </tr>\n",
              "  </tbody>\n",
              "</table>\n",
              "<p>312930 rows × 2 columns</p>\n",
              "</div>\n",
              "      <button class=\"colab-df-convert\" onclick=\"convertToInteractive('df-4dbdf823-e2c2-40cb-a266-af2f139815f6')\"\n",
              "              title=\"Convert this dataframe to an interactive table.\"\n",
              "              style=\"display:none;\">\n",
              "        \n",
              "  <svg xmlns=\"http://www.w3.org/2000/svg\" height=\"24px\"viewBox=\"0 0 24 24\"\n",
              "       width=\"24px\">\n",
              "    <path d=\"M0 0h24v24H0V0z\" fill=\"none\"/>\n",
              "    <path d=\"M18.56 5.44l.94 2.06.94-2.06 2.06-.94-2.06-.94-.94-2.06-.94 2.06-2.06.94zm-11 1L8.5 8.5l.94-2.06 2.06-.94-2.06-.94L8.5 2.5l-.94 2.06-2.06.94zm10 10l.94 2.06.94-2.06 2.06-.94-2.06-.94-.94-2.06-.94 2.06-2.06.94z\"/><path d=\"M17.41 7.96l-1.37-1.37c-.4-.4-.92-.59-1.43-.59-.52 0-1.04.2-1.43.59L10.3 9.45l-7.72 7.72c-.78.78-.78 2.05 0 2.83L4 21.41c.39.39.9.59 1.41.59.51 0 1.02-.2 1.41-.59l7.78-7.78 2.81-2.81c.8-.78.8-2.07 0-2.86zM5.41 20L4 18.59l7.72-7.72 1.47 1.35L5.41 20z\"/>\n",
              "  </svg>\n",
              "      </button>\n",
              "      \n",
              "  <style>\n",
              "    .colab-df-container {\n",
              "      display:flex;\n",
              "      flex-wrap:wrap;\n",
              "      gap: 12px;\n",
              "    }\n",
              "\n",
              "    .colab-df-convert {\n",
              "      background-color: #E8F0FE;\n",
              "      border: none;\n",
              "      border-radius: 50%;\n",
              "      cursor: pointer;\n",
              "      display: none;\n",
              "      fill: #1967D2;\n",
              "      height: 32px;\n",
              "      padding: 0 0 0 0;\n",
              "      width: 32px;\n",
              "    }\n",
              "\n",
              "    .colab-df-convert:hover {\n",
              "      background-color: #E2EBFA;\n",
              "      box-shadow: 0px 1px 2px rgba(60, 64, 67, 0.3), 0px 1px 3px 1px rgba(60, 64, 67, 0.15);\n",
              "      fill: #174EA6;\n",
              "    }\n",
              "\n",
              "    [theme=dark] .colab-df-convert {\n",
              "      background-color: #3B4455;\n",
              "      fill: #D2E3FC;\n",
              "    }\n",
              "\n",
              "    [theme=dark] .colab-df-convert:hover {\n",
              "      background-color: #434B5C;\n",
              "      box-shadow: 0px 1px 3px 1px rgba(0, 0, 0, 0.15);\n",
              "      filter: drop-shadow(0px 1px 2px rgba(0, 0, 0, 0.3));\n",
              "      fill: #FFFFFF;\n",
              "    }\n",
              "  </style>\n",
              "\n",
              "      <script>\n",
              "        const buttonEl =\n",
              "          document.querySelector('#df-4dbdf823-e2c2-40cb-a266-af2f139815f6 button.colab-df-convert');\n",
              "        buttonEl.style.display =\n",
              "          google.colab.kernel.accessAllowed ? 'block' : 'none';\n",
              "\n",
              "        async function convertToInteractive(key) {\n",
              "          const element = document.querySelector('#df-4dbdf823-e2c2-40cb-a266-af2f139815f6');\n",
              "          const dataTable =\n",
              "            await google.colab.kernel.invokeFunction('convertToInteractive',\n",
              "                                                     [key], {});\n",
              "          if (!dataTable) return;\n",
              "\n",
              "          const docLinkHtml = 'Like what you see? Visit the ' +\n",
              "            '<a target=\"_blank\" href=https://colab.research.google.com/notebooks/data_table.ipynb>data table notebook</a>'\n",
              "            + ' to learn more about interactive tables.';\n",
              "          element.innerHTML = '';\n",
              "          dataTable['output_type'] = 'display_data';\n",
              "          await google.colab.output.renderOutput(dataTable, element);\n",
              "          const docLink = document.createElement('div');\n",
              "          docLink.innerHTML = docLinkHtml;\n",
              "          element.appendChild(docLink);\n",
              "        }\n",
              "      </script>\n",
              "    </div>\n",
              "  </div>\n",
              "  "
            ]
          },
          "metadata": {},
          "execution_count": 47
        }
      ]
    },
    {
      "cell_type": "markdown",
      "metadata": {
        "id": "UJPKton4LJvq"
      },
      "source": [
        "## Test de rango fijo"
      ]
    },
    {
      "cell_type": "code",
      "metadata": {
        "id": "boKo7L2yLJvr",
        "colab": {
          "base_uri": "https://localhost:8080/",
          "height": 424
        },
        "outputId": "61c0e39a-25dc-45b3-b280-53b76b7a0d34"
      },
      "source": [
        "prec_max = 100.\n",
        "prec_min = 0.\n",
        "\n",
        "lamb_func = lambda r: np.nan if ((r > prec_max) | (r < prec_min)) else r\n",
        "\n",
        "dfVar['PREC_RANGO_FIJO'] = dfVar['PREC'].apply(lamb_func)\n",
        "dfVar"
      ],
      "execution_count": 48,
      "outputs": [
        {
          "output_type": "execute_result",
          "data": {
            "text/plain": [
              "                           FECHA  PREC  PREC_RANGO_FIJO\n",
              "0      2011-01-01 00:10:00-05:00   0.0              0.0\n",
              "1      2011-01-01 00:20:00-05:00   0.0              0.0\n",
              "2      2011-01-01 00:30:00-05:00   0.0              0.0\n",
              "3      2011-01-01 00:40:00-05:00   0.0              0.0\n",
              "4      2011-01-01 00:50:00-05:00   0.0              0.0\n",
              "...                          ...   ...              ...\n",
              "312925 2017-12-31 23:10:00-05:00   0.0              0.0\n",
              "312926 2017-12-31 23:20:00-05:00   0.0              0.0\n",
              "312927 2017-12-31 23:30:00-05:00   0.0              0.0\n",
              "312928 2017-12-31 23:40:00-05:00   0.0              0.0\n",
              "312929 2017-12-31 23:50:00-05:00   0.0              0.0\n",
              "\n",
              "[312930 rows x 3 columns]"
            ],
            "text/html": [
              "\n",
              "  <div id=\"df-54727b96-2d01-469b-b363-31f83746378b\">\n",
              "    <div class=\"colab-df-container\">\n",
              "      <div>\n",
              "<style scoped>\n",
              "    .dataframe tbody tr th:only-of-type {\n",
              "        vertical-align: middle;\n",
              "    }\n",
              "\n",
              "    .dataframe tbody tr th {\n",
              "        vertical-align: top;\n",
              "    }\n",
              "\n",
              "    .dataframe thead th {\n",
              "        text-align: right;\n",
              "    }\n",
              "</style>\n",
              "<table border=\"1\" class=\"dataframe\">\n",
              "  <thead>\n",
              "    <tr style=\"text-align: right;\">\n",
              "      <th></th>\n",
              "      <th>FECHA</th>\n",
              "      <th>PREC</th>\n",
              "      <th>PREC_RANGO_FIJO</th>\n",
              "    </tr>\n",
              "  </thead>\n",
              "  <tbody>\n",
              "    <tr>\n",
              "      <th>0</th>\n",
              "      <td>2011-01-01 00:10:00-05:00</td>\n",
              "      <td>0.0</td>\n",
              "      <td>0.0</td>\n",
              "    </tr>\n",
              "    <tr>\n",
              "      <th>1</th>\n",
              "      <td>2011-01-01 00:20:00-05:00</td>\n",
              "      <td>0.0</td>\n",
              "      <td>0.0</td>\n",
              "    </tr>\n",
              "    <tr>\n",
              "      <th>2</th>\n",
              "      <td>2011-01-01 00:30:00-05:00</td>\n",
              "      <td>0.0</td>\n",
              "      <td>0.0</td>\n",
              "    </tr>\n",
              "    <tr>\n",
              "      <th>3</th>\n",
              "      <td>2011-01-01 00:40:00-05:00</td>\n",
              "      <td>0.0</td>\n",
              "      <td>0.0</td>\n",
              "    </tr>\n",
              "    <tr>\n",
              "      <th>4</th>\n",
              "      <td>2011-01-01 00:50:00-05:00</td>\n",
              "      <td>0.0</td>\n",
              "      <td>0.0</td>\n",
              "    </tr>\n",
              "    <tr>\n",
              "      <th>...</th>\n",
              "      <td>...</td>\n",
              "      <td>...</td>\n",
              "      <td>...</td>\n",
              "    </tr>\n",
              "    <tr>\n",
              "      <th>312925</th>\n",
              "      <td>2017-12-31 23:10:00-05:00</td>\n",
              "      <td>0.0</td>\n",
              "      <td>0.0</td>\n",
              "    </tr>\n",
              "    <tr>\n",
              "      <th>312926</th>\n",
              "      <td>2017-12-31 23:20:00-05:00</td>\n",
              "      <td>0.0</td>\n",
              "      <td>0.0</td>\n",
              "    </tr>\n",
              "    <tr>\n",
              "      <th>312927</th>\n",
              "      <td>2017-12-31 23:30:00-05:00</td>\n",
              "      <td>0.0</td>\n",
              "      <td>0.0</td>\n",
              "    </tr>\n",
              "    <tr>\n",
              "      <th>312928</th>\n",
              "      <td>2017-12-31 23:40:00-05:00</td>\n",
              "      <td>0.0</td>\n",
              "      <td>0.0</td>\n",
              "    </tr>\n",
              "    <tr>\n",
              "      <th>312929</th>\n",
              "      <td>2017-12-31 23:50:00-05:00</td>\n",
              "      <td>0.0</td>\n",
              "      <td>0.0</td>\n",
              "    </tr>\n",
              "  </tbody>\n",
              "</table>\n",
              "<p>312930 rows × 3 columns</p>\n",
              "</div>\n",
              "      <button class=\"colab-df-convert\" onclick=\"convertToInteractive('df-54727b96-2d01-469b-b363-31f83746378b')\"\n",
              "              title=\"Convert this dataframe to an interactive table.\"\n",
              "              style=\"display:none;\">\n",
              "        \n",
              "  <svg xmlns=\"http://www.w3.org/2000/svg\" height=\"24px\"viewBox=\"0 0 24 24\"\n",
              "       width=\"24px\">\n",
              "    <path d=\"M0 0h24v24H0V0z\" fill=\"none\"/>\n",
              "    <path d=\"M18.56 5.44l.94 2.06.94-2.06 2.06-.94-2.06-.94-.94-2.06-.94 2.06-2.06.94zm-11 1L8.5 8.5l.94-2.06 2.06-.94-2.06-.94L8.5 2.5l-.94 2.06-2.06.94zm10 10l.94 2.06.94-2.06 2.06-.94-2.06-.94-.94-2.06-.94 2.06-2.06.94z\"/><path d=\"M17.41 7.96l-1.37-1.37c-.4-.4-.92-.59-1.43-.59-.52 0-1.04.2-1.43.59L10.3 9.45l-7.72 7.72c-.78.78-.78 2.05 0 2.83L4 21.41c.39.39.9.59 1.41.59.51 0 1.02-.2 1.41-.59l7.78-7.78 2.81-2.81c.8-.78.8-2.07 0-2.86zM5.41 20L4 18.59l7.72-7.72 1.47 1.35L5.41 20z\"/>\n",
              "  </svg>\n",
              "      </button>\n",
              "      \n",
              "  <style>\n",
              "    .colab-df-container {\n",
              "      display:flex;\n",
              "      flex-wrap:wrap;\n",
              "      gap: 12px;\n",
              "    }\n",
              "\n",
              "    .colab-df-convert {\n",
              "      background-color: #E8F0FE;\n",
              "      border: none;\n",
              "      border-radius: 50%;\n",
              "      cursor: pointer;\n",
              "      display: none;\n",
              "      fill: #1967D2;\n",
              "      height: 32px;\n",
              "      padding: 0 0 0 0;\n",
              "      width: 32px;\n",
              "    }\n",
              "\n",
              "    .colab-df-convert:hover {\n",
              "      background-color: #E2EBFA;\n",
              "      box-shadow: 0px 1px 2px rgba(60, 64, 67, 0.3), 0px 1px 3px 1px rgba(60, 64, 67, 0.15);\n",
              "      fill: #174EA6;\n",
              "    }\n",
              "\n",
              "    [theme=dark] .colab-df-convert {\n",
              "      background-color: #3B4455;\n",
              "      fill: #D2E3FC;\n",
              "    }\n",
              "\n",
              "    [theme=dark] .colab-df-convert:hover {\n",
              "      background-color: #434B5C;\n",
              "      box-shadow: 0px 1px 3px 1px rgba(0, 0, 0, 0.15);\n",
              "      filter: drop-shadow(0px 1px 2px rgba(0, 0, 0, 0.3));\n",
              "      fill: #FFFFFF;\n",
              "    }\n",
              "  </style>\n",
              "\n",
              "      <script>\n",
              "        const buttonEl =\n",
              "          document.querySelector('#df-54727b96-2d01-469b-b363-31f83746378b button.colab-df-convert');\n",
              "        buttonEl.style.display =\n",
              "          google.colab.kernel.accessAllowed ? 'block' : 'none';\n",
              "\n",
              "        async function convertToInteractive(key) {\n",
              "          const element = document.querySelector('#df-54727b96-2d01-469b-b363-31f83746378b');\n",
              "          const dataTable =\n",
              "            await google.colab.kernel.invokeFunction('convertToInteractive',\n",
              "                                                     [key], {});\n",
              "          if (!dataTable) return;\n",
              "\n",
              "          const docLinkHtml = 'Like what you see? Visit the ' +\n",
              "            '<a target=\"_blank\" href=https://colab.research.google.com/notebooks/data_table.ipynb>data table notebook</a>'\n",
              "            + ' to learn more about interactive tables.';\n",
              "          element.innerHTML = '';\n",
              "          dataTable['output_type'] = 'display_data';\n",
              "          await google.colab.output.renderOutput(dataTable, element);\n",
              "          const docLink = document.createElement('div');\n",
              "          docLink.innerHTML = docLinkHtml;\n",
              "          element.appendChild(docLink);\n",
              "        }\n",
              "      </script>\n",
              "    </div>\n",
              "  </div>\n",
              "  "
            ]
          },
          "metadata": {},
          "execution_count": 48
        }
      ]
    },
    {
      "cell_type": "code",
      "metadata": {
        "id": "XDr-x4YSLJvs",
        "colab": {
          "base_uri": "https://localhost:8080/",
          "height": 466
        },
        "outputId": "33aa5cf2-64ab-4a09-b008-1564bfd587e1"
      },
      "source": [
        "ax = dfVar.plot(kind = 'scatter', x='FECHA', y='PREC')\n",
        "dfVar.plot(kind = 'scatter', x='FECHA', y='PREC_RANGO_FIJO', ax=ax, color='red')"
      ],
      "execution_count": 49,
      "outputs": [
        {
          "output_type": "execute_result",
          "data": {
            "text/plain": [
              "<Axes: xlabel='FECHA', ylabel='PREC_RANGO_FIJO'>"
            ]
          },
          "metadata": {},
          "execution_count": 49
        },
        {
          "output_type": "display_data",
          "data": {
            "text/plain": [
              "<Figure size 640x480 with 1 Axes>"
            ],
            "image/png": "[encoded data removed]"
          },
          "metadata": {}
        }
      ]
    },
    {
      "cell_type": "code",
      "metadata": {
        "id": "tOyVI0YvMKj-",
        "colab": {
          "base_uri": "https://localhost:8080/",
          "height": 424
        },
        "outputId": "5eb84135-be32-441e-9e87-fa286549f973"
      },
      "source": [
        "## Para filtrar los valores finales\n",
        "dfFinal = dfVar[~dfVar['PREC_RANGO_FIJO'].isnull()].reset_index(drop=True)\n",
        "dfFinal"
      ],
      "execution_count": 50,
      "outputs": [
        {
          "output_type": "execute_result",
          "data": {
            "text/plain": [
              "                           FECHA  PREC  PREC_RANGO_FIJO\n",
              "0      2011-01-01 00:10:00-05:00   0.0              0.0\n",
              "1      2011-01-01 00:20:00-05:00   0.0              0.0\n",
              "2      2011-01-01 00:30:00-05:00   0.0              0.0\n",
              "3      2011-01-01 00:40:00-05:00   0.0              0.0\n",
              "4      2011-01-01 00:50:00-05:00   0.0              0.0\n",
              "...                          ...   ...              ...\n",
              "307957 2017-12-31 23:10:00-05:00   0.0              0.0\n",
              "307958 2017-12-31 23:20:00-05:00   0.0              0.0\n",
              "307959 2017-12-31 23:30:00-05:00   0.0              0.0\n",
              "307960 2017-12-31 23:40:00-05:00   0.0              0.0\n",
              "307961 2017-12-31 23:50:00-05:00   0.0              0.0\n",
              "\n",
              "[307962 rows x 3 columns]"
            ],
            "text/html": [
              "\n",
              "  <div id=\"df-b74b9822-b0c2-40c9-8df1-33867cef9cc5\">\n",
              "    <div class=\"colab-df-container\">\n",
              "      <div>\n",
              "<style scoped>\n",
              "    .dataframe tbody tr th:only-of-type {\n",
              "        vertical-align: middle;\n",
              "    }\n",
              "\n",
              "    .dataframe tbody tr th {\n",
              "        vertical-align: top;\n",
              "    }\n",
              "\n",
              "    .dataframe thead th {\n",
              "        text-align: right;\n",
              "    }\n",
              "</style>\n",
              "<table border=\"1\" class=\"dataframe\">\n",
              "  <thead>\n",
              "    <tr style=\"text-align: right;\">\n",
              "      <th></th>\n",
              "      <th>FECHA</th>\n",
              "      <th>PREC</th>\n",
              "      <th>PREC_RANGO_FIJO</th>\n",
              "    </tr>\n",
              "  </thead>\n",
              "  <tbody>\n",
              "    <tr>\n",
              "      <th>0</th>\n",
              "      <td>2011-01-01 00:10:00-05:00</td>\n",
              "      <td>0.0</td>\n",
              "      <td>0.0</td>\n",
              "    </tr>\n",
              "    <tr>\n",
              "      <th>1</th>\n",
              "      <td>2011-01-01 00:20:00-05:00</td>\n",
              "      <td>0.0</td>\n",
              "      <td>0.0</td>\n",
              "    </tr>\n",
              "    <tr>\n",
              "      <th>2</th>\n",
              "      <td>2011-01-01 00:30:00-05:00</td>\n",
              "      <td>0.0</td>\n",
              "      <td>0.0</td>\n",
              "    </tr>\n",
              "    <tr>\n",
              "      <th>3</th>\n",
              "      <td>2011-01-01 00:40:00-05:00</td>\n",
              "      <td>0.0</td>\n",
              "      <td>0.0</td>\n",
              "    </tr>\n",
              "    <tr>\n",
              "      <th>4</th>\n",
              "      <td>2011-01-01 00:50:00-05:00</td>\n",
              "      <td>0.0</td>\n",
              "      <td>0.0</td>\n",
              "    </tr>\n",
              "    <tr>\n",
              "      <th>...</th>\n",
              "      <td>...</td>\n",
              "      <td>...</td>\n",
              "      <td>...</td>\n",
              "    </tr>\n",
              "    <tr>\n",
              "      <th>307957</th>\n",
              "      <td>2017-12-31 23:10:00-05:00</td>\n",
              "      <td>0.0</td>\n",
              "      <td>0.0</td>\n",
              "    </tr>\n",
              "    <tr>\n",
              "      <th>307958</th>\n",
              "      <td>2017-12-31 23:20:00-05:00</td>\n",
              "      <td>0.0</td>\n",
              "      <td>0.0</td>\n",
              "    </tr>\n",
              "    <tr>\n",
              "      <th>307959</th>\n",
              "      <td>2017-12-31 23:30:00-05:00</td>\n",
              "      <td>0.0</td>\n",
              "      <td>0.0</td>\n",
              "    </tr>\n",
              "    <tr>\n",
              "      <th>307960</th>\n",
              "      <td>2017-12-31 23:40:00-05:00</td>\n",
              "      <td>0.0</td>\n",
              "      <td>0.0</td>\n",
              "    </tr>\n",
              "    <tr>\n",
              "      <th>307961</th>\n",
              "      <td>2017-12-31 23:50:00-05:00</td>\n",
              "      <td>0.0</td>\n",
              "      <td>0.0</td>\n",
              "    </tr>\n",
              "  </tbody>\n",
              "</table>\n",
              "<p>307962 rows × 3 columns</p>\n",
              "</div>\n",
              "      <button class=\"colab-df-convert\" onclick=\"convertToInteractive('df-b74b9822-b0c2-40c9-8df1-33867cef9cc5')\"\n",
              "              title=\"Convert this dataframe to an interactive table.\"\n",
              "              style=\"display:none;\">\n",
              "        \n",
              "  <svg xmlns=\"http://www.w3.org/2000/svg\" height=\"24px\"viewBox=\"0 0 24 24\"\n",
              "       width=\"24px\">\n",
              "    <path d=\"M0 0h24v24H0V0z\" fill=\"none\"/>\n",
              "    <path d=\"M18.56 5.44l.94 2.06.94-2.06 2.06-.94-2.06-.94-.94-2.06-.94 2.06-2.06.94zm-11 1L8.5 8.5l.94-2.06 2.06-.94-2.06-.94L8.5 2.5l-.94 2.06-2.06.94zm10 10l.94 2.06.94-2.06 2.06-.94-2.06-.94-.94-2.06-.94 2.06-2.06.94z\"/><path d=\"M17.41 7.96l-1.37-1.37c-.4-.4-.92-.59-1.43-.59-.52 0-1.04.2-1.43.59L10.3 9.45l-7.72 7.72c-.78.78-.78 2.05 0 2.83L4 21.41c.39.39.9.59 1.41.59.51 0 1.02-.2 1.41-.59l7.78-7.78 2.81-2.81c.8-.78.8-2.07 0-2.86zM5.41 20L4 18.59l7.72-7.72 1.47 1.35L5.41 20z\"/>\n",
              "  </svg>\n",
              "      </button>\n",
              "      \n",
              "  <style>\n",
              "    .colab-df-container {\n",
              "      display:flex;\n",
              "      flex-wrap:wrap;\n",
              "      gap: 12px;\n",
              "    }\n",
              "\n",
              "    .colab-df-convert {\n",
              "      background-color: #E8F0FE;\n",
              "      border: none;\n",
              "      border-radius: 50%;\n",
              "      cursor: pointer;\n",
              "      display: none;\n",
              "      fill: #1967D2;\n",
              "      height: 32px;\n",
              "      padding: 0 0 0 0;\n",
              "      width: 32px;\n",
              "    }\n",
              "\n",
              "    .colab-df-convert:hover {\n",
              "      background-color: #E2EBFA;\n",
              "      box-shadow: 0px 1px 2px rgba(60, 64, 67, 0.3), 0px 1px 3px 1px rgba(60, 64, 67, 0.15);\n",
              "      fill: #174EA6;\n",
              "    }\n",
              "\n",
              "    [theme=dark] .colab-df-convert {\n",
              "      background-color: #3B4455;\n",
              "      fill: #D2E3FC;\n",
              "    }\n",
              "\n",
              "    [theme=dark] .colab-df-convert:hover {\n",
              "      background-color: #434B5C;\n",
              "      box-shadow: 0px 1px 3px 1px rgba(0, 0, 0, 0.15);\n",
              "      filter: drop-shadow(0px 1px 2px rgba(0, 0, 0, 0.3));\n",
              "      fill: #FFFFFF;\n",
              "    }\n",
              "  </style>\n",
              "\n",
              "      <script>\n",
              "        const buttonEl =\n",
              "          document.querySelector('#df-b74b9822-b0c2-40c9-8df1-33867cef9cc5 button.colab-df-convert');\n",
              "        buttonEl.style.display =\n",
              "          google.colab.kernel.accessAllowed ? 'block' : 'none';\n",
              "\n",
              "        async function convertToInteractive(key) {\n",
              "          const element = document.querySelector('#df-b74b9822-b0c2-40c9-8df1-33867cef9cc5');\n",
              "          const dataTable =\n",
              "            await google.colab.kernel.invokeFunction('convertToInteractive',\n",
              "                                                     [key], {});\n",
              "          if (!dataTable) return;\n",
              "\n",
              "          const docLinkHtml = 'Like what you see? Visit the ' +\n",
              "            '<a target=\"_blank\" href=https://colab.research.google.com/notebooks/data_table.ipynb>data table notebook</a>'\n",
              "            + ' to learn more about interactive tables.';\n",
              "          element.innerHTML = '';\n",
              "          dataTable['output_type'] = 'display_data';\n",
              "          await google.colab.output.renderOutput(dataTable, element);\n",
              "          const docLink = document.createElement('div');\n",
              "          docLink.innerHTML = docLinkHtml;\n",
              "          element.appendChild(docLink);\n",
              "        }\n",
              "      </script>\n",
              "    </div>\n",
              "  </div>\n",
              "  "
            ]
          },
          "metadata": {},
          "execution_count": 50
        }
      ]
    },
    {
      "cell_type": "code",
      "source": [
        "print(dfFinal['PREC'].max())\n",
        "#print(dfFinal['TEMP_MAX_DIARIA'].max())\n",
        "print(dfFinal['PREC'].mean())"
      ],
      "metadata": {
        "id": "2m7NOuA6egf6",
        "outputId": "4700f5ee-5c26-40e1-8b2d-d216faaee01f",
        "colab": {
          "base_uri": "https://localhost:8080/"
        }
      },
      "execution_count": 51,
      "outputs": [
        {
          "output_type": "stream",
          "name": "stdout",
          "text": [
            "96.8\n",
            "0.03898240692033434\n"
          ]
        }
      ]
    },
    {
      "cell_type": "code",
      "source": [
        "print(dfFinal['PREC'].min())\n",
        "#print(dfFinal['TEMP_MIN_DIARIA'].min())"
      ],
      "metadata": {
        "id": "ExWcfMSZegST",
        "outputId": "23dfdc05-a704-41e5-e9c5-5defe0580269",
        "colab": {
          "base_uri": "https://localhost:8080/"
        }
      },
      "execution_count": 52,
      "outputs": [
        {
          "output_type": "stream",
          "name": "stdout",
          "text": [
            "0.0\n"
          ]
        }
      ]
    },
    {
      "cell_type": "code",
      "metadata": {
        "id": "UsndzNlyJPbU",
        "colab": {
          "base_uri": "https://localhost:8080/"
        },
        "outputId": "64a833dd-3c17-430a-f816-00346945a109"
      },
      "source": [
        "print(f'Datos iniciales : {dfVar.shape[0]}')\n",
        "print(f'Datos nulos iniciales : {dfVar[dfVar[\"PREC\"].isnull()].shape[0]}')\n",
        "dfPrec_null= dfVar[dfVar[\"PREC\"].isnull()]\n",
        "print(f'Datos nulos después de los testes : {dfFinal[dfFinal[\"PREC_RANGO_FIJO\"].isnull()].shape[0]}')\n",
        "print(f'Datos finales después de testes : {dfFinal.shape[0]}')\n",
        "print(f'Datos no nulos que fueron eliminados en los testes : {dfVar.shape[0] - dfFinal.shape[0] - dfVar[dfVar[\"PREC\"].isnull()].shape[0]}')"
      ],
      "execution_count": 53,
      "outputs": [
        {
          "output_type": "stream",
          "name": "stdout",
          "text": [
            "Datos iniciales : 312930\n",
            "Datos nulos iniciales : 4629\n",
            "Datos nulos después de los testes : 0\n",
            "Datos finales después de testes : 307962\n",
            "Datos no nulos que fueron eliminados en los testes : 339\n"
          ]
        }
      ]
    },
    {
      "cell_type": "code",
      "metadata": {
        "id": "2hoa0fdKLJvv"
      },
      "source": [
        "(dfFinal[['FECHA', 'PREC_RANGO_FIJO']]\n",
        "          .rename(columns = {'PREC_RANGO_FIJO' : 'PREC'})\n",
        "          .to_csv(PATH_FINAL_DADOS_TRATADOS + FILE_DATOS_TRATADOS, header=True, index=False, sep = ';'))"
      ],
      "execution_count": 54,
      "outputs": []
    },
    {
      "cell_type": "code",
      "source": [
        "dfPrec_null['FECHA'] = pd.to_datetime(dfPrec_null['FECHA'], format='%Y %m %d %H %M').dt.tz_convert('America/Bogota')"
      ],
      "metadata": {
        "id": "k14W9FwgdxYL",
        "outputId": "e7db96b6-e5fc-434c-8f1a-5603f2532bfc",
        "colab": {
          "base_uri": "https://localhost:8080/"
        }
      },
      "execution_count": 55,
      "outputs": [
        {
          "output_type": "stream",
          "name": "stderr",
          "text": [
            "<ipython-input-55-fcfef4adfec2>:1: SettingWithCopyWarning: \n",
            "A value is trying to be set on a copy of a slice from a DataFrame.\n",
            "Try using .loc[row_indexer,col_indexer] = value instead\n",
            "\n",
            "See the caveats in the documentation: https://pandas.pydata.org/pandas-docs/stable/user_guide/indexing.html#returning-a-view-versus-a-copy\n",
            "  dfPrec_null['FECHA'] = pd.to_datetime(dfPrec_null['FECHA'], format='%Y %m %d %H %M').dt.tz_convert('America/Bogota')\n"
          ]
        }
      ]
    },
    {
      "cell_type": "code",
      "source": [
        "dfPrec_null['HORA_FECHA'] = dfPrec_null['FECHA'].dt.hour\n",
        "dfPrec_null['MES_FECHA'] = dfPrec_null['FECHA'].dt.month\n",
        "dfPrec_null['ANO_FECHA'] = dfPrec_null['FECHA'].dt.year\n",
        "dfPrec_null"
      ],
      "metadata": {
        "id": "ggXMF6SneIxq",
        "outputId": "fcb8957b-4254-4f9f-c8d0-0365b9eab1c6",
        "colab": {
          "base_uri": "https://localhost:8080/",
          "height": 736
        }
      },
      "execution_count": 56,
      "outputs": [
        {
          "output_type": "stream",
          "name": "stderr",
          "text": [
            "<ipython-input-56-e9b4e00f938e>:1: SettingWithCopyWarning: \n",
            "A value is trying to be set on a copy of a slice from a DataFrame.\n",
            "Try using .loc[row_indexer,col_indexer] = value instead\n",
            "\n",
            "See the caveats in the documentation: https://pandas.pydata.org/pandas-docs/stable/user_guide/indexing.html#returning-a-view-versus-a-copy\n",
            "  dfPrec_null['HORA_FECHA'] = dfPrec_null['FECHA'].dt.hour\n",
            "<ipython-input-56-e9b4e00f938e>:2: SettingWithCopyWarning: \n",
            "A value is trying to be set on a copy of a slice from a DataFrame.\n",
            "Try using .loc[row_indexer,col_indexer] = value instead\n",
            "\n",
            "See the caveats in the documentation: https://pandas.pydata.org/pandas-docs/stable/user_guide/indexing.html#returning-a-view-versus-a-copy\n",
            "  dfPrec_null['MES_FECHA'] = dfPrec_null['FECHA'].dt.month\n",
            "<ipython-input-56-e9b4e00f938e>:3: SettingWithCopyWarning: \n",
            "A value is trying to be set on a copy of a slice from a DataFrame.\n",
            "Try using .loc[row_indexer,col_indexer] = value instead\n",
            "\n",
            "See the caveats in the documentation: https://pandas.pydata.org/pandas-docs/stable/user_guide/indexing.html#returning-a-view-versus-a-copy\n",
            "  dfPrec_null['ANO_FECHA'] = dfPrec_null['FECHA'].dt.year\n"
          ]
        },
        {
          "output_type": "execute_result",
          "data": {
            "text/plain": [
              "                           FECHA  PREC  PREC_RANGO_FIJO  HORA_FECHA  \\\n",
              "6538   2011-02-15 09:50:00-05:00   NaN              NaN           9   \n",
              "6539   2011-02-15 10:00:00-05:00   NaN              NaN          10   \n",
              "6540   2011-02-15 10:10:00-05:00   NaN              NaN          10   \n",
              "6541   2011-02-15 10:20:00-05:00   NaN              NaN          10   \n",
              "6542   2011-02-15 10:30:00-05:00   NaN              NaN          10   \n",
              "...                          ...   ...              ...         ...   \n",
              "309390 2017-12-04 18:20:00-05:00   NaN              NaN          18   \n",
              "310032 2017-12-09 05:30:00-05:00   NaN              NaN           5   \n",
              "310768 2017-12-14 10:30:00-05:00   NaN              NaN          10   \n",
              "310792 2017-12-14 14:30:00-05:00   NaN              NaN          14   \n",
              "312416 2017-12-28 10:20:00-05:00   NaN              NaN          10   \n",
              "\n",
              "        MES_FECHA  ANO_FECHA  \n",
              "6538            2       2011  \n",
              "6539            2       2011  \n",
              "6540            2       2011  \n",
              "6541            2       2011  \n",
              "6542            2       2011  \n",
              "...           ...        ...  \n",
              "309390         12       2017  \n",
              "310032         12       2017  \n",
              "310768         12       2017  \n",
              "310792         12       2017  \n",
              "312416         12       2017  \n",
              "\n",
              "[4629 rows x 6 columns]"
            ],
            "text/html": [
              "\n",
              "  <div id=\"df-a2513f6a-4b50-476c-8cc1-917df71f69b6\">\n",
              "    <div class=\"colab-df-container\">\n",
              "      <div>\n",
              "<style scoped>\n",
              "    .dataframe tbody tr th:only-of-type {\n",
              "        vertical-align: middle;\n",
              "    }\n",
              "\n",
              "    .dataframe tbody tr th {\n",
              "        vertical-align: top;\n",
              "    }\n",
              "\n",
              "    .dataframe thead th {\n",
              "        text-align: right;\n",
              "    }\n",
              "</style>\n",
              "<table border=\"1\" class=\"dataframe\">\n",
              "  <thead>\n",
              "    <tr style=\"text-align: right;\">\n",
              "      <th></th>\n",
              "      <th>FECHA</th>\n",
              "      <th>PREC</th>\n",
              "      <th>PREC_RANGO_FIJO</th>\n",
              "      <th>HORA_FECHA</th>\n",
              "      <th>MES_FECHA</th>\n",
              "      <th>ANO_FECHA</th>\n",
              "    </tr>\n",
              "  </thead>\n",
              "  <tbody>\n",
              "    <tr>\n",
              "      <th>6538</th>\n",
              "      <td>2011-02-15 09:50:00-05:00</td>\n",
              "      <td>NaN</td>\n",
              "      <td>NaN</td>\n",
              "      <td>9</td>\n",
              "      <td>2</td>\n",
              "      <td>2011</td>\n",
              "    </tr>\n",
              "    <tr>\n",
              "      <th>6539</th>\n",
              "      <td>2011-02-15 10:00:00-05:00</td>\n",
              "      <td>NaN</td>\n",
              "      <td>NaN</td>\n",
              "      <td>10</td>\n",
              "      <td>2</td>\n",
              "      <td>2011</td>\n",
              "    </tr>\n",
              "    <tr>\n",
              "      <th>6540</th>\n",
              "      <td>2011-02-15 10:10:00-05:00</td>\n",
              "      <td>NaN</td>\n",
              "      <td>NaN</td>\n",
              "      <td>10</td>\n",
              "      <td>2</td>\n",
              "      <td>2011</td>\n",
              "    </tr>\n",
              "    <tr>\n",
              "      <th>6541</th>\n",
              "      <td>2011-02-15 10:20:00-05:00</td>\n",
              "      <td>NaN</td>\n",
              "      <td>NaN</td>\n",
              "      <td>10</td>\n",
              "      <td>2</td>\n",
              "      <td>2011</td>\n",
              "    </tr>\n",
              "    <tr>\n",
              "      <th>6542</th>\n",
              "      <td>2011-02-15 10:30:00-05:00</td>\n",
              "      <td>NaN</td>\n",
              "      <td>NaN</td>\n",
              "      <td>10</td>\n",
              "      <td>2</td>\n",
              "      <td>2011</td>\n",
              "    </tr>\n",
              "    <tr>\n",
              "      <th>...</th>\n",
              "      <td>...</td>\n",
              "      <td>...</td>\n",
              "      <td>...</td>\n",
              "      <td>...</td>\n",
              "      <td>...</td>\n",
              "      <td>...</td>\n",
              "    </tr>\n",
              "    <tr>\n",
              "      <th>309390</th>\n",
              "      <td>2017-12-04 18:20:00-05:00</td>\n",
              "      <td>NaN</td>\n",
              "      <td>NaN</td>\n",
              "      <td>18</td>\n",
              "      <td>12</td>\n",
              "      <td>2017</td>\n",
              "    </tr>\n",
              "    <tr>\n",
              "      <th>310032</th>\n",
              "      <td>2017-12-09 05:30:00-05:00</td>\n",
              "      <td>NaN</td>\n",
              "      <td>NaN</td>\n",
              "      <td>5</td>\n",
              "      <td>12</td>\n",
              "      <td>2017</td>\n",
              "    </tr>\n",
              "    <tr>\n",
              "      <th>310768</th>\n",
              "      <td>2017-12-14 10:30:00-05:00</td>\n",
              "      <td>NaN</td>\n",
              "      <td>NaN</td>\n",
              "      <td>10</td>\n",
              "      <td>12</td>\n",
              "      <td>2017</td>\n",
              "    </tr>\n",
              "    <tr>\n",
              "      <th>310792</th>\n",
              "      <td>2017-12-14 14:30:00-05:00</td>\n",
              "      <td>NaN</td>\n",
              "      <td>NaN</td>\n",
              "      <td>14</td>\n",
              "      <td>12</td>\n",
              "      <td>2017</td>\n",
              "    </tr>\n",
              "    <tr>\n",
              "      <th>312416</th>\n",
              "      <td>2017-12-28 10:20:00-05:00</td>\n",
              "      <td>NaN</td>\n",
              "      <td>NaN</td>\n",
              "      <td>10</td>\n",
              "      <td>12</td>\n",
              "      <td>2017</td>\n",
              "    </tr>\n",
              "  </tbody>\n",
              "</table>\n",
              "<p>4629 rows × 6 columns</p>\n",
              "</div>\n",
              "      <button class=\"colab-df-convert\" onclick=\"convertToInteractive('df-a2513f6a-4b50-476c-8cc1-917df71f69b6')\"\n",
              "              title=\"Convert this dataframe to an interactive table.\"\n",
              "              style=\"display:none;\">\n",
              "        \n",
              "  <svg xmlns=\"http://www.w3.org/2000/svg\" height=\"24px\"viewBox=\"0 0 24 24\"\n",
              "       width=\"24px\">\n",
              "    <path d=\"M0 0h24v24H0V0z\" fill=\"none\"/>\n",
              "    <path d=\"M18.56 5.44l.94 2.06.94-2.06 2.06-.94-2.06-.94-.94-2.06-.94 2.06-2.06.94zm-11 1L8.5 8.5l.94-2.06 2.06-.94-2.06-.94L8.5 2.5l-.94 2.06-2.06.94zm10 10l.94 2.06.94-2.06 2.06-.94-2.06-.94-.94-2.06-.94 2.06-2.06.94z\"/><path d=\"M17.41 7.96l-1.37-1.37c-.4-.4-.92-.59-1.43-.59-.52 0-1.04.2-1.43.59L10.3 9.45l-7.72 7.72c-.78.78-.78 2.05 0 2.83L4 21.41c.39.39.9.59 1.41.59.51 0 1.02-.2 1.41-.59l7.78-7.78 2.81-2.81c.8-.78.8-2.07 0-2.86zM5.41 20L4 18.59l7.72-7.72 1.47 1.35L5.41 20z\"/>\n",
              "  </svg>\n",
              "      </button>\n",
              "      \n",
              "  <style>\n",
              "    .colab-df-container {\n",
              "      display:flex;\n",
              "      flex-wrap:wrap;\n",
              "      gap: 12px;\n",
              "    }\n",
              "\n",
              "    .colab-df-convert {\n",
              "      background-color: #E8F0FE;\n",
              "      border: none;\n",
              "      border-radius: 50%;\n",
              "      cursor: pointer;\n",
              "      display: none;\n",
              "      fill: #1967D2;\n",
              "      height: 32px;\n",
              "      padding: 0 0 0 0;\n",
              "      width: 32px;\n",
              "    }\n",
              "\n",
              "    .colab-df-convert:hover {\n",
              "      background-color: #E2EBFA;\n",
              "      box-shadow: 0px 1px 2px rgba(60, 64, 67, 0.3), 0px 1px 3px 1px rgba(60, 64, 67, 0.15);\n",
              "      fill: #174EA6;\n",
              "    }\n",
              "\n",
              "    [theme=dark] .colab-df-convert {\n",
              "      background-color: #3B4455;\n",
              "      fill: #D2E3FC;\n",
              "    }\n",
              "\n",
              "    [theme=dark] .colab-df-convert:hover {\n",
              "      background-color: #434B5C;\n",
              "      box-shadow: 0px 1px 3px 1px rgba(0, 0, 0, 0.15);\n",
              "      filter: drop-shadow(0px 1px 2px rgba(0, 0, 0, 0.3));\n",
              "      fill: #FFFFFF;\n",
              "    }\n",
              "  </style>\n",
              "\n",
              "      <script>\n",
              "        const buttonEl =\n",
              "          document.querySelector('#df-a2513f6a-4b50-476c-8cc1-917df71f69b6 button.colab-df-convert');\n",
              "        buttonEl.style.display =\n",
              "          google.colab.kernel.accessAllowed ? 'block' : 'none';\n",
              "\n",
              "        async function convertToInteractive(key) {\n",
              "          const element = document.querySelector('#df-a2513f6a-4b50-476c-8cc1-917df71f69b6');\n",
              "          const dataTable =\n",
              "            await google.colab.kernel.invokeFunction('convertToInteractive',\n",
              "                                                     [key], {});\n",
              "          if (!dataTable) return;\n",
              "\n",
              "          const docLinkHtml = 'Like what you see? Visit the ' +\n",
              "            '<a target=\"_blank\" href=https://colab.research.google.com/notebooks/data_table.ipynb>data table notebook</a>'\n",
              "            + ' to learn more about interactive tables.';\n",
              "          element.innerHTML = '';\n",
              "          dataTable['output_type'] = 'display_data';\n",
              "          await google.colab.output.renderOutput(dataTable, element);\n",
              "          const docLink = document.createElement('div');\n",
              "          docLink.innerHTML = docLinkHtml;\n",
              "          element.appendChild(docLink);\n",
              "        }\n",
              "      </script>\n",
              "    </div>\n",
              "  </div>\n",
              "  "
            ]
          },
          "metadata": {},
          "execution_count": 56
        }
      ]
    },
    {
      "cell_type": "code",
      "source": [
        "fig, ax = plt.subplots()\n",
        "\n",
        "# Gráfico del histograma\n",
        "dfPrec_null['ANO_FECHA'].plot(kind = 'hist', ax=ax, edgecolor='black', color='skyblue', bins = range(2011, 2019))\n",
        "\n",
        "# # Gráfico de la estimativa de la densidad del kernel en el mismo gráfico sobre el mismo gráfico\n",
        "# ax2 = df['hour_min_t'].plot(kind='kde', secondary_y=True, ax=ax, color='red')\n",
        "# ax2.set_ylabel(\"Densidad\")\n",
        "\n",
        "ax.set_ylim(0)\n",
        "ax.set_xlim()\n",
        "ax.grid(True)\n",
        "ax.set_xlabel(\"Años\")\n",
        "ax.set_xticks(range(2011, 2019))\n",
        "ax.set_title('Precipitación')\n",
        "ax.set_ylabel(\"Datos faltantes\")\n",
        "plt.savefig(PATH_DRIVE + PATH_FIGURE + f'Histograma_año_datos_faltantes_prec_{NOMBRE_ESTACION}.png', format='png')"
      ],
      "metadata": {
        "id": "XJ9w69gHeP86",
        "outputId": "c19fe3ff-8276-465f-92dc-83e4a0b3eab1",
        "colab": {
          "base_uri": "https://localhost:8080/",
          "height": 472
        }
      },
      "execution_count": 57,
      "outputs": [
        {
          "output_type": "display_data",
          "data": {
            "text/plain": [
              "<Figure size 640x480 with 1 Axes>"
            ],
            "image/png": "[encoded data removed]"
          },
          "metadata": {}
        }
      ]
    },
    {
      "cell_type": "code",
      "source": [
        "fig, ax = plt.subplots()\n",
        "\n",
        "# Gráfico del histograma\n",
        "dfPrec_null['HORA_FECHA'].plot(kind = 'hist', ax=ax, edgecolor='black', color='skyblue', bins = range(0, 25))\n",
        "\n",
        "# # Gráfico de la estimativa de la densidad del kernel en el mismo gráfico sobre el mismo gráfico\n",
        "# ax2 = df['hour_min_t'].plot(kind='kde', secondary_y=True, ax=ax, color='red')\n",
        "# ax2.set_ylabel(\"Densidad\")\n",
        "\n",
        "ax.set_ylim(0)\n",
        "ax.set_xlim(-1, 25)\n",
        "ax.grid(True)\n",
        "ax.set_xlabel(\"Hora\")\n",
        "ax.set_xticks(range(0, 25, 3))\n",
        "ax.set_title('Precipitación')\n",
        "ax.set_ylabel(\"Datos faltantes\")\n",
        "plt.savefig(PATH_DRIVE + PATH_FIGURE + f'Histograma_hora_datos_faltantes_Prec_{NOMBRE_ESTACION}.png', format='png')"
      ],
      "metadata": {
        "id": "LJKZjs7feaj6",
        "outputId": "9d25f05b-2e8c-407c-be31-bccd057e308a",
        "colab": {
          "base_uri": "https://localhost:8080/",
          "height": 472
        }
      },
      "execution_count": 58,
      "outputs": [
        {
          "output_type": "display_data",
          "data": {
            "text/plain": [
              "<Figure size 640x480 with 1 Axes>"
            ],
            "image/png": "[encoded data removed]"
          },
          "metadata": {}
        }
      ]
    },
    {
      "cell_type": "code",
      "source": [
        "fig, ax = plt.subplots()\n",
        "\n",
        "# Gráfico del histograma\n",
        "dfPrec_null['MES_FECHA'].plot(kind = 'hist', ax=ax, edgecolor='black', color='skyblue', bins = range(0,14), align='left')\n",
        "\n",
        "# # Gráfico de la estimativa de la densidad del kernel en el mismo gráfico sobre el mismo gráfico\n",
        "# ax2 = df['month_min_t'].plot(kind='kde', secondary_y=True, ax=ax, color='red')\n",
        "# ax2.set_ylabel(\"Densidad\")\n",
        "\n",
        "ax.set_ylim(0)\n",
        "ax.set_xlim(0, 13)\n",
        "# bins_labels(range(0,14), 20)\n",
        "ax.grid(True)\n",
        "ax.set_xlabel(\"Mes\")\n",
        "ax.set_xticks(range(1, 13, 1))\n",
        "Meses = ['Enero', 'Febrero', \n",
        "         'Marzo', 'Abril', \n",
        "         'Mayo', 'Junio', \n",
        "         'Julio', 'Agosto', \n",
        "         'Septiembre', 'Octubre', \n",
        "         'Noviembre', 'Diciembre']\n",
        "ax.set_xticklabels(Meses, rotation=75)\n",
        "ax.set_title('Precipitación')\n",
        "ax.set_ylabel(\"Datos faltantes\")\n",
        "plt.savefig(PATH_DRIVE + PATH_FIGURE + f'Histograma_mes_datos_faltantes_Prec_{NOMBRE_ESTACION}.png', format='png')"
      ],
      "metadata": {
        "id": "v4iZNOD5eg2L",
        "outputId": "b5591f24-40e5-4ea1-cebb-14ed679d63f9",
        "colab": {
          "base_uri": "https://localhost:8080/",
          "height": 539
        }
      },
      "execution_count": 59,
      "outputs": [
        {
          "output_type": "display_data",
          "data": {
            "text/plain": [
              "<Figure size 640x480 with 1 Axes>"
            ],
            "image/png": "[encoded data removed]"
          },
          "metadata": {}
        }
      ]
    },
    {
      "cell_type": "markdown",
      "source": [
        "## Análisis de datos faltantes"
      ],
      "metadata": {
        "id": "rF82zOYJergq"
      }
    },
    {
      "cell_type": "code",
      "source": [
        "from calendar import isleap"
      ],
      "metadata": {
        "id": "g-D7IYdFerIz"
      },
      "execution_count": 60,
      "outputs": []
    },
    {
      "cell_type": "code",
      "source": [
        "dfEliminados = dfVar[dfVar[\"PREC_RANGO_FIJO\"].isnull()].reset_index(drop=True)[['FECHA', 'PREC']].copy()\n",
        "dfEliminados['HORA_FECHA'] = dfEliminados['FECHA'].dt.hour\n",
        "dfEliminados['MES_FECHA'] = dfEliminados['FECHA'].dt.month\n",
        "dfEliminados['ANO_FECHA'] = dfEliminados['FECHA'].dt.year\n",
        "dfEliminados['DIAS_EN_MES'] = dfEliminados['FECHA'].dt.days_in_month\n",
        "dfEliminados['DIAS_EN_ANO'] = dfEliminados[\"ANO_FECHA\"].apply(lambda x:365 + isleap(x))"
      ],
      "metadata": {
        "id": "84XXgiI9et-S"
      },
      "execution_count": 61,
      "outputs": []
    },
    {
      "cell_type": "code",
      "source": [
        "dfEliminados_HORA = (dfEliminados.groupby('HORA_FECHA')\n",
        "       .agg({'HORA_FECHA': ['count']})\n",
        "       .reset_index(level = [0])\n",
        "      )\n",
        "\n",
        "dfEliminados_HORA[\"TOTAL_FALTANTES\"] = dfEliminados_HORA[(\"HORA_FECHA\", \"count\")]\n",
        "dfEliminados_HORA[\"HORA\"] = dfEliminados_HORA[(\"HORA_FECHA\", \"\")]\n",
        "dfEliminados_HORA[\"TOTAL_HORA\"] = 7*365*6\n",
        "dfEliminados_HORA[\"PORC_HORA_FALTANTE\"] = dfEliminados_HORA[\"TOTAL_FALTANTES\"] / dfEliminados_HORA[\"TOTAL_HORA\"] * 100\n",
        "\n",
        "fig, ax = plt.subplots()\n",
        "\n",
        "dfEliminados_HORA.plot.bar(x='HORA', y='PORC_HORA_FALTANTE', rot=0, edgecolor='black', color='skyblue', width=1.0, ax=ax)\n",
        "ax.grid(True)\n",
        "ax.set_xlabel(\"Hora\")\n",
        "ax.set_ylabel(\"% Datos no utilizados de precipitación\")\n",
        "ax.get_legend().remove()\n",
        "ax.set_title(f'{NOMBRE_ESTACION.capitalize()}')\n",
        "plt.savefig(PATH_DRIVE + PATH_FIGURE + f'Histograma_datos_faltantes_porcentual_Prec_hora_{NOMBRE_ESTACION}.png', format='png')"
      ],
      "metadata": {
        "id": "hn9N--Bfe5fm",
        "outputId": "4b5b79e6-843d-4478-8c94-dee7c71a125a",
        "colab": {
          "base_uri": "https://localhost:8080/",
          "height": 472
        }
      },
      "execution_count": 62,
      "outputs": [
        {
          "output_type": "display_data",
          "data": {
            "text/plain": [
              "<Figure size 640x480 with 1 Axes>"
            ],
            "image/png": "[encoded data removed]"
          },
          "metadata": {}
        }
      ]
    },
    {
      "cell_type": "code",
      "source": [
        "dfEliminados_MES = (dfEliminados\n",
        "       .groupby(['MES_FECHA', 'ANO_FECHA', 'DIAS_EN_MES'])\n",
        "       .agg({'HORA_FECHA': ['count']})\n",
        "       .reset_index(level = [0, 1, 2])\n",
        "      )\n",
        "\n",
        "dfEliminados_MES[\"TOTAL_FALTANTES\"] = dfEliminados_MES[(\"HORA_FECHA\", \"count\")]\n",
        "dfEliminados_MES = dfEliminados_MES.drop(columns=[(\"HORA_FECHA\", \"count\")])\n",
        "dfEliminados_MES[\"TOTAL_DATOS_POR_MES_ANO\"] = dfEliminados_MES['DIAS_EN_MES']*24*7*6\n",
        "dfEliminados_MES[\"PORC_DATOS_POR_MES_ANO_FALTANTE\"] = dfEliminados_MES[\"TOTAL_FALTANTES\"] / dfEliminados_MES[\"TOTAL_DATOS_POR_MES_ANO\"] * 100\n",
        "dfEliminados_MES.columns=dfEliminados_MES.columns.droplevel(1)\n",
        "dfEliminados_MES.reset_index(inplace=True)\n",
        "dfEliminados_MES = (dfEliminados_MES\n",
        "       .groupby('MES_FECHA')\n",
        "       .agg({'PORC_DATOS_POR_MES_ANO_FALTANTE': ['sum']})\n",
        "       .reset_index(level = [0])\n",
        "      )\n",
        "dfEliminados_MES[\"PORC_MES_FALTANTES\"] = dfEliminados_MES[(\"PORC_DATOS_POR_MES_ANO_FALTANTE\", \"sum\")]\n",
        "\n",
        "fig, ax = plt.subplots()\n",
        "\n",
        "dfEliminados_MES.plot.bar(x='MES_FECHA', y='PORC_MES_FALTANTES', rot=0, edgecolor='black', color='skyblue', width=1.0, ax=ax)\n",
        "ax.grid(True)\n",
        "ax.set_xlabel(\"Mes\")\n",
        "ax.set_ylabel(\"% Datos no utilizados de precipitación\")\n",
        "ax.get_legend().remove()\n",
        "Meses = ['Enero', 'Febrero', \n",
        "         'Marzo', 'Abril', \n",
        "         'Mayo', 'Junio', \n",
        "         'Julio', 'Agosto', \n",
        "         'Septiembre', 'Octubre', \n",
        "         'Noviembre', 'Diciembre']\n",
        "ax.set_xticklabels(Meses, rotation=75)\n",
        "ax.set_title(f'{NOMBRE_ESTACION.capitalize()}')\n",
        "plt.savefig(PATH_DRIVE + PATH_FIGURE + f'Histograma_datos_faltantes_porcentual_Prec_mes_{NOMBRE_ESTACION}.png', format='png')"
      ],
      "metadata": {
        "id": "JHfcs7MUfOnk",
        "outputId": "6df199e4-1173-4de2-a1c0-5320ecae1b50",
        "colab": {
          "base_uri": "https://localhost:8080/",
          "height": 539
        }
      },
      "execution_count": 63,
      "outputs": [
        {
          "output_type": "display_data",
          "data": {
            "text/plain": [
              "<Figure size 640x480 with 1 Axes>"
            ],
            "image/png": "[encoded data removed]"
          },
          "metadata": {}
        }
      ]
    },
    {
      "cell_type": "code",
      "source": [
        "dfEliminados_ANO = (dfEliminados\n",
        "       .groupby(['ANO_FECHA', 'DIAS_EN_ANO'])\n",
        "       .agg({'HORA_FECHA': ['count']})\n",
        "       .reset_index(level = [0, 1])\n",
        "      )\n",
        "\n",
        "dfEliminados_ANO[\"TOTAL_FALTANTES\"] = dfEliminados_ANO[(\"HORA_FECHA\", \"count\")]\n",
        "dfEliminados_ANO = dfEliminados_ANO.drop(columns=[(\"HORA_FECHA\", \"count\")])\n",
        "dfEliminados_ANO[\"TOTAL_DATOS_POR_ANO\"] = dfEliminados_ANO['DIAS_EN_ANO']*24*6\n",
        "dfEliminados_ANO[\"PORC_ANO_FALTANTES\"] = dfEliminados_ANO[\"TOTAL_FALTANTES\"] / dfEliminados_ANO[\"TOTAL_DATOS_POR_ANO\"] * 100\n",
        "dfEliminados_ANO\n",
        "fig, ax = plt.subplots()\n",
        "\n",
        "dfEliminados_ANO.plot.bar(x='ANO_FECHA', y='PORC_ANO_FALTANTES', rot=0, edgecolor='black', color='skyblue', width=1.0, ax=ax)\n",
        "ax.grid(True)\n",
        "ax.set_xlabel(\"Año\")\n",
        "ax.set_ylabel(\"% Datos no utilizados de precipitación\")\n",
        "ax.get_legend().remove()\n",
        "ax.set_title(f'{NOMBRE_ESTACION.capitalize()}')\n",
        "plt.savefig(PATH_DRIVE + PATH_FIGURE + f'Histograma_datos_faltantes_porcentual_Prec_ano_{NOMBRE_ESTACION}.png', format='png')"
      ],
      "metadata": {
        "id": "TVS96Z1wflsc",
        "outputId": "d3a5a63c-abf3-48c9-ffe1-de9acd5e71fd",
        "colab": {
          "base_uri": "https://localhost:8080/",
          "height": 472
        }
      },
      "execution_count": 64,
      "outputs": [
        {
          "output_type": "display_data",
          "data": {
            "text/plain": [
              "<Figure size 640x480 with 1 Axes>"
            ],
            "image/png": "[encoded data removed]"
          },
          "metadata": {}
        }
      ]
    }
  ]
}