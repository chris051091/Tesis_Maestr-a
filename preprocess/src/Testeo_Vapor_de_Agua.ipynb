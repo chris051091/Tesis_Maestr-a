{
  "nbformat": 4,
  "nbformat_minor": 0,
  "metadata": {
    "kernelspec": {
      "display_name": "Python 3",
      "language": "python",
      "name": "python3"
    },
    "language_info": {
      "codemirror_mode": {
        "name": "ipython",
        "version": 3
      },
      "file_extension": ".py",
      "mimetype": "text/x-python",
      "name": "python",
      "nbconvert_exporter": "python",
      "pygments_lexer": "ipython3",
      "version": "3.8.5"
    },
    "colab": {
      "name": "Testeo Vapor de Agua.ipynb",
      "provenance": [],
      "include_colab_link": true
    }
  },
  "cells": [
    {
      "cell_type": "markdown",
      "metadata": {
        "id": "view-in-github",
        "colab_type": "text"
      },
      "source": [
        "<a href=\"https://colab.research.google.com/github/chris051091/Seminario-3/blob/master/preprocess/src/Testeo_Vapor_de_Agua.ipynb\" target=\"_parent\"><img src=\"https://colab.research.google.com/assets/colab-badge.svg\" alt=\"Open In Colab\"/></a>"
      ]
    },
    {
      "cell_type": "markdown",
      "metadata": {
        "id": "v45fg9bmLJvZ"
      },
      "source": [
        "# Limpieza datos de Vapor de Agua"
      ]
    },
    {
      "cell_type": "code",
      "metadata": {
        "id": "EoapCLMALJvj",
        "colab": {
          "base_uri": "https://localhost:8080/"
        },
        "outputId": "e17add67-2516-4b1b-efdd-81ba7bef4347"
      },
      "source": [
        "import pandas as pd\n",
        "import numpy as np\n",
        "import os\n",
        "import re\n",
        "from functools import reduce\n",
        "import matplotlib.pyplot as plt\n",
        "\n",
        "from google.colab import drive\n",
        "drive.mount('/content/drive')\n",
        "\n",
        "%matplotlib inline"
      ],
      "execution_count": 1,
      "outputs": [
        {
          "output_type": "stream",
          "text": [
            "Mounted at /content/drive\n"
          ],
          "name": "stdout"
        }
      ]
    },
    {
      "cell_type": "code",
      "metadata": {
        "id": "nrp0DLfHLJvl"
      },
      "source": [
        "PATH_DRIVE = 'drive/MyDrive/Seminario-3-master'\n",
        "PATH_DADOS = '/dados/'\n",
        "\n",
        "NOMBRE_ESTACION = 'palanquero'\n",
        "\n",
        "PATH_FINAL_DATOS = PATH_DRIVE + PATH_DADOS + '/'\n",
        "PATH_FINAL_DATOS_TRATADOS = PATH_DRIVE + '/preprocess' + PATH_DADOS + NOMBRE_ESTACION + '/tratados/'\n",
        "\n",
        "FILE_DATOS_ENTRADA = 'BAPA_IdeamMetData_23035030_data.txt'\n",
        "FILE_DATOS_TRATADOS = NOMBRE_ESTACION.lower() + '_tratados_pwv.csv'\n"
      ],
      "execution_count": 2,
      "outputs": []
    },
    {
      "cell_type": "code",
      "metadata": {
        "colab": {
          "base_uri": "https://localhost:8080/",
          "height": 424
        },
        "id": "fEF5xH3SJwxg",
        "outputId": "9d798f89-e25f-48bb-9894-548b5b61f30b"
      },
      "source": [
        "with open(f'{PATH_FINAL_DATOS}{FILE_DATOS_ENTRADA}') as f:\n",
        "  columns = f.readline().split()\n",
        "  columns.remove('sfcPint')\n",
        "  columns.remove('sfcTint')\n",
        "  list_data = []\n",
        "  i = 0\n",
        "  for line in f:\n",
        "    dict_data = {}\n",
        "    line_split = line.strip().split(' ')\n",
        "    for col, value in zip(columns, line_split):\n",
        "       dict_data[col] = value\n",
        "    list_data.append(dict_data)\n",
        "df = pd.DataFrame(list_data)\n",
        "df"
      ],
      "execution_count": 3,
      "outputs": [
        {
          "output_type": "execute_result",
          "data": {
            "text/html": [
              "<div>\n",
              "<style scoped>\n",
              "    .dataframe tbody tr th:only-of-type {\n",
              "        vertical-align: middle;\n",
              "    }\n",
              "\n",
              "    .dataframe tbody tr th {\n",
              "        vertical-align: top;\n",
              "    }\n",
              "\n",
              "    .dataframe thead th {\n",
              "        text-align: right;\n",
              "    }\n",
              "</style>\n",
              "<table border=\"1\" class=\"dataframe\">\n",
              "  <thead>\n",
              "    <tr style=\"text-align: right;\">\n",
              "      <th></th>\n",
              "      <th>YYYY</th>\n",
              "      <th>MM</th>\n",
              "      <th>DD</th>\n",
              "      <th>hh</th>\n",
              "      <th>mm</th>\n",
              "      <th>ss</th>\n",
              "      <th>TROWET</th>\n",
              "      <th>TROTOT</th>\n",
              "      <th>STDEV</th>\n",
              "      <th>sfcP</th>\n",
              "      <th>sfcT</th>\n",
              "      <th>sfcRH</th>\n",
              "      <th>sfcWS</th>\n",
              "      <th>sfcWD</th>\n",
              "      <th>ZWD</th>\n",
              "      <th>PWV</th>\n",
              "      <th>sfcPclim</th>\n",
              "      <th>sfcTclim</th>\n",
              "      <th>ZWDfromclim</th>\n",
              "      <th>PWVfromclim</th>\n",
              "    </tr>\n",
              "  </thead>\n",
              "  <tbody>\n",
              "    <tr>\n",
              "      <th>0</th>\n",
              "      <td>2010</td>\n",
              "      <td>10</td>\n",
              "      <td>01</td>\n",
              "      <td>07</td>\n",
              "      <td>30</td>\n",
              "      <td>00</td>\n",
              "      <td>319.1</td>\n",
              "      <td>2606.0</td>\n",
              "      <td>3.0</td>\n",
              "      <td>992.0</td>\n",
              "      <td>28.4</td>\n",
              "      <td>-99.9</td>\n",
              "      <td>-99.9</td>\n",
              "      <td>-99.9</td>\n",
              "      <td>341.2</td>\n",
              "      <td>55.87</td>\n",
              "      <td>992.3</td>\n",
              "      <td>26.5</td>\n",
              "      <td>340.6</td>\n",
              "      <td>55.50</td>\n",
              "    </tr>\n",
              "    <tr>\n",
              "      <th>1</th>\n",
              "      <td>2010</td>\n",
              "      <td>10</td>\n",
              "      <td>01</td>\n",
              "      <td>07</td>\n",
              "      <td>35</td>\n",
              "      <td>00</td>\n",
              "      <td>318.9</td>\n",
              "      <td>2605.8</td>\n",
              "      <td>3.0</td>\n",
              "      <td>992.1</td>\n",
              "      <td>28.5</td>\n",
              "      <td>-99.9</td>\n",
              "      <td>-99.9</td>\n",
              "      <td>-99.9</td>\n",
              "      <td>340.9</td>\n",
              "      <td>55.83</td>\n",
              "      <td>992.4</td>\n",
              "      <td>26.6</td>\n",
              "      <td>340.3</td>\n",
              "      <td>55.47</td>\n",
              "    </tr>\n",
              "    <tr>\n",
              "      <th>2</th>\n",
              "      <td>2010</td>\n",
              "      <td>10</td>\n",
              "      <td>01</td>\n",
              "      <td>07</td>\n",
              "      <td>40</td>\n",
              "      <td>00</td>\n",
              "      <td>318.8</td>\n",
              "      <td>2605.7</td>\n",
              "      <td>2.9</td>\n",
              "      <td>992.1</td>\n",
              "      <td>28.5</td>\n",
              "      <td>-99.9</td>\n",
              "      <td>-99.9</td>\n",
              "      <td>-99.9</td>\n",
              "      <td>340.7</td>\n",
              "      <td>55.80</td>\n",
              "      <td>992.4</td>\n",
              "      <td>26.7</td>\n",
              "      <td>340.1</td>\n",
              "      <td>55.45</td>\n",
              "    </tr>\n",
              "    <tr>\n",
              "      <th>3</th>\n",
              "      <td>2010</td>\n",
              "      <td>10</td>\n",
              "      <td>01</td>\n",
              "      <td>07</td>\n",
              "      <td>45</td>\n",
              "      <td>00</td>\n",
              "      <td>318.7</td>\n",
              "      <td>2605.4</td>\n",
              "      <td>2.8</td>\n",
              "      <td>992.2</td>\n",
              "      <td>28.5</td>\n",
              "      <td>-99.9</td>\n",
              "      <td>-99.9</td>\n",
              "      <td>-99.9</td>\n",
              "      <td>340.4</td>\n",
              "      <td>55.74</td>\n",
              "      <td>992.4</td>\n",
              "      <td>26.9</td>\n",
              "      <td>339.7</td>\n",
              "      <td>55.41</td>\n",
              "    </tr>\n",
              "    <tr>\n",
              "      <th>4</th>\n",
              "      <td>2010</td>\n",
              "      <td>10</td>\n",
              "      <td>01</td>\n",
              "      <td>07</td>\n",
              "      <td>50</td>\n",
              "      <td>00</td>\n",
              "      <td>318.7</td>\n",
              "      <td>2605.4</td>\n",
              "      <td>2.7</td>\n",
              "      <td>992.2</td>\n",
              "      <td>28.6</td>\n",
              "      <td>-99.9</td>\n",
              "      <td>-99.9</td>\n",
              "      <td>-99.9</td>\n",
              "      <td>340.3</td>\n",
              "      <td>55.73</td>\n",
              "      <td>992.5</td>\n",
              "      <td>27.0</td>\n",
              "      <td>339.6</td>\n",
              "      <td>55.41</td>\n",
              "    </tr>\n",
              "    <tr>\n",
              "      <th>...</th>\n",
              "      <td>...</td>\n",
              "      <td>...</td>\n",
              "      <td>...</td>\n",
              "      <td>...</td>\n",
              "      <td>...</td>\n",
              "      <td>...</td>\n",
              "      <td>...</td>\n",
              "      <td>...</td>\n",
              "      <td>...</td>\n",
              "      <td>...</td>\n",
              "      <td>...</td>\n",
              "      <td>...</td>\n",
              "      <td>...</td>\n",
              "      <td>...</td>\n",
              "      <td>...</td>\n",
              "      <td>...</td>\n",
              "      <td>...</td>\n",
              "      <td>...</td>\n",
              "      <td>...</td>\n",
              "      <td>...</td>\n",
              "    </tr>\n",
              "    <tr>\n",
              "      <th>835150</th>\n",
              "      <td>2019</td>\n",
              "      <td>12</td>\n",
              "      <td>31</td>\n",
              "      <td>18</td>\n",
              "      <td>35</td>\n",
              "      <td>00</td>\n",
              "      <td>343.3</td>\n",
              "      <td>2626.6</td>\n",
              "      <td>1.7</td>\n",
              "      <td>-99.9</td>\n",
              "      <td>-99.9</td>\n",
              "      <td>-99.9</td>\n",
              "      <td>-99.9</td>\n",
              "      <td>-99.9</td>\n",
              "      <td>-99.9</td>\n",
              "      <td>-99.90</td>\n",
              "      <td>987.0</td>\n",
              "      <td>26.3</td>\n",
              "      <td>373.4</td>\n",
              "      <td>60.83</td>\n",
              "    </tr>\n",
              "    <tr>\n",
              "      <th>835151</th>\n",
              "      <td>2019</td>\n",
              "      <td>12</td>\n",
              "      <td>31</td>\n",
              "      <td>18</td>\n",
              "      <td>40</td>\n",
              "      <td>00</td>\n",
              "      <td>343.4</td>\n",
              "      <td>2626.7</td>\n",
              "      <td>1.7</td>\n",
              "      <td>-99.9</td>\n",
              "      <td>-99.9</td>\n",
              "      <td>-99.9</td>\n",
              "      <td>-99.9</td>\n",
              "      <td>-99.9</td>\n",
              "      <td>-99.9</td>\n",
              "      <td>-99.90</td>\n",
              "      <td>987.0</td>\n",
              "      <td>26.3</td>\n",
              "      <td>373.3</td>\n",
              "      <td>60.80</td>\n",
              "    </tr>\n",
              "    <tr>\n",
              "      <th>835152</th>\n",
              "      <td>2019</td>\n",
              "      <td>12</td>\n",
              "      <td>31</td>\n",
              "      <td>18</td>\n",
              "      <td>45</td>\n",
              "      <td>00</td>\n",
              "      <td>343.2</td>\n",
              "      <td>2626.6</td>\n",
              "      <td>1.8</td>\n",
              "      <td>-99.9</td>\n",
              "      <td>-99.9</td>\n",
              "      <td>-99.9</td>\n",
              "      <td>-99.9</td>\n",
              "      <td>-99.9</td>\n",
              "      <td>-99.9</td>\n",
              "      <td>-99.90</td>\n",
              "      <td>987.1</td>\n",
              "      <td>26.2</td>\n",
              "      <td>373.0</td>\n",
              "      <td>60.74</td>\n",
              "    </tr>\n",
              "    <tr>\n",
              "      <th>835153</th>\n",
              "      <td>2019</td>\n",
              "      <td>12</td>\n",
              "      <td>31</td>\n",
              "      <td>18</td>\n",
              "      <td>50</td>\n",
              "      <td>00</td>\n",
              "      <td>343.3</td>\n",
              "      <td>2626.7</td>\n",
              "      <td>2.0</td>\n",
              "      <td>-99.9</td>\n",
              "      <td>-99.9</td>\n",
              "      <td>-99.9</td>\n",
              "      <td>-99.9</td>\n",
              "      <td>-99.9</td>\n",
              "      <td>-99.9</td>\n",
              "      <td>-99.90</td>\n",
              "      <td>987.2</td>\n",
              "      <td>26.1</td>\n",
              "      <td>372.9</td>\n",
              "      <td>60.72</td>\n",
              "    </tr>\n",
              "    <tr>\n",
              "      <th>835154</th>\n",
              "      <td>2019</td>\n",
              "      <td>12</td>\n",
              "      <td>31</td>\n",
              "      <td>18</td>\n",
              "      <td>55</td>\n",
              "      <td>00</td>\n",
              "      <td>343.9</td>\n",
              "      <td>2627.2</td>\n",
              "      <td>2.1</td>\n",
              "      <td>-99.9</td>\n",
              "      <td>-99.9</td>\n",
              "      <td>-99.9</td>\n",
              "      <td>-99.9</td>\n",
              "      <td>-99.9</td>\n",
              "      <td>-99.9</td>\n",
              "      <td>-99.90</td>\n",
              "      <td>987.3</td>\n",
              "      <td>26.1</td>\n",
              "      <td>373.2</td>\n",
              "      <td>60.76</td>\n",
              "    </tr>\n",
              "  </tbody>\n",
              "</table>\n",
              "<p>835155 rows × 20 columns</p>\n",
              "</div>"
            ],
            "text/plain": [
              "        YYYY  MM  DD  hh  mm  ...     PWV sfcPclim sfcTclim ZWDfromclim PWVfromclim\n",
              "0       2010  10  01  07  30  ...   55.87    992.3     26.5       340.6       55.50\n",
              "1       2010  10  01  07  35  ...   55.83    992.4     26.6       340.3       55.47\n",
              "2       2010  10  01  07  40  ...   55.80    992.4     26.7       340.1       55.45\n",
              "3       2010  10  01  07  45  ...   55.74    992.4     26.9       339.7       55.41\n",
              "4       2010  10  01  07  50  ...   55.73    992.5     27.0       339.6       55.41\n",
              "...      ...  ..  ..  ..  ..  ...     ...      ...      ...         ...         ...\n",
              "835150  2019  12  31  18  35  ...  -99.90    987.0     26.3       373.4       60.83\n",
              "835151  2019  12  31  18  40  ...  -99.90    987.0     26.3       373.3       60.80\n",
              "835152  2019  12  31  18  45  ...  -99.90    987.1     26.2       373.0       60.74\n",
              "835153  2019  12  31  18  50  ...  -99.90    987.2     26.1       372.9       60.72\n",
              "835154  2019  12  31  18  55  ...  -99.90    987.3     26.1       373.2       60.76\n",
              "\n",
              "[835155 rows x 20 columns]"
            ]
          },
          "metadata": {
            "tags": []
          },
          "execution_count": 3
        }
      ]
    },
    {
      "cell_type": "code",
      "metadata": {
        "id": "tncWnlmCN4Db"
      },
      "source": [
        "df['FECHA'] = df['YYYY'] + '-' + df['MM'] + '-' + df['DD'] + ' ' + df['hh'] + ':' + df['mm'] + ':' + df['ss']\n",
        "df['FECHA'] = pd.to_datetime(df['FECHA'], format='%Y-%m-%d %H:%M:%S').dt.tz_localize('America/Bogota')"
      ],
      "execution_count": 4,
      "outputs": []
    },
    {
      "cell_type": "code",
      "metadata": {
        "id": "SNvEHyC4LJvp"
      },
      "source": [
        "dfVar = df[['FECHA', 'PWV']].copy()\n",
        "dfVar = dfVar.sort_values(by=['FECHA']).reset_index(drop = True)\n",
        "dfVar['PWV'] = pd.to_numeric(dfVar['PWV'], errors='coerce')\n",
        "# dfVar.min()"
      ],
      "execution_count": 5,
      "outputs": []
    },
    {
      "cell_type": "markdown",
      "metadata": {
        "id": "UJPKton4LJvq"
      },
      "source": [
        "## Test de rango fijo"
      ]
    },
    {
      "cell_type": "code",
      "metadata": {
        "id": "boKo7L2yLJvr",
        "colab": {
          "base_uri": "https://localhost:8080/",
          "height": 424
        },
        "outputId": "0f93cde3-e462-459d-a607-a8c1875c8b2a"
      },
      "source": [
        "pwv_max = 80.\n",
        "pwv_min = 30.\n",
        "lamb_func = lambda r: np.nan if ((r > pwv_max) | (r < pwv_min)) else r\n",
        "\n",
        "dfVar['PWV_RANGO_FIJO'] = dfVar['PWV'].apply(lamb_func)\n",
        "dfVar"
      ],
      "execution_count": 6,
      "outputs": [
        {
          "output_type": "execute_result",
          "data": {
            "text/html": [
              "<div>\n",
              "<style scoped>\n",
              "    .dataframe tbody tr th:only-of-type {\n",
              "        vertical-align: middle;\n",
              "    }\n",
              "\n",
              "    .dataframe tbody tr th {\n",
              "        vertical-align: top;\n",
              "    }\n",
              "\n",
              "    .dataframe thead th {\n",
              "        text-align: right;\n",
              "    }\n",
              "</style>\n",
              "<table border=\"1\" class=\"dataframe\">\n",
              "  <thead>\n",
              "    <tr style=\"text-align: right;\">\n",
              "      <th></th>\n",
              "      <th>FECHA</th>\n",
              "      <th>PWV</th>\n",
              "      <th>PWV_RANGO_FIJO</th>\n",
              "    </tr>\n",
              "  </thead>\n",
              "  <tbody>\n",
              "    <tr>\n",
              "      <th>0</th>\n",
              "      <td>2010-10-01 07:30:00-05:00</td>\n",
              "      <td>55.87</td>\n",
              "      <td>55.87</td>\n",
              "    </tr>\n",
              "    <tr>\n",
              "      <th>1</th>\n",
              "      <td>2010-10-01 07:35:00-05:00</td>\n",
              "      <td>55.83</td>\n",
              "      <td>55.83</td>\n",
              "    </tr>\n",
              "    <tr>\n",
              "      <th>2</th>\n",
              "      <td>2010-10-01 07:40:00-05:00</td>\n",
              "      <td>55.80</td>\n",
              "      <td>55.80</td>\n",
              "    </tr>\n",
              "    <tr>\n",
              "      <th>3</th>\n",
              "      <td>2010-10-01 07:45:00-05:00</td>\n",
              "      <td>55.74</td>\n",
              "      <td>55.74</td>\n",
              "    </tr>\n",
              "    <tr>\n",
              "      <th>4</th>\n",
              "      <td>2010-10-01 07:50:00-05:00</td>\n",
              "      <td>55.73</td>\n",
              "      <td>55.73</td>\n",
              "    </tr>\n",
              "    <tr>\n",
              "      <th>...</th>\n",
              "      <td>...</td>\n",
              "      <td>...</td>\n",
              "      <td>...</td>\n",
              "    </tr>\n",
              "    <tr>\n",
              "      <th>835150</th>\n",
              "      <td>2019-12-31 18:35:00-05:00</td>\n",
              "      <td>-99.90</td>\n",
              "      <td>NaN</td>\n",
              "    </tr>\n",
              "    <tr>\n",
              "      <th>835151</th>\n",
              "      <td>2019-12-31 18:40:00-05:00</td>\n",
              "      <td>-99.90</td>\n",
              "      <td>NaN</td>\n",
              "    </tr>\n",
              "    <tr>\n",
              "      <th>835152</th>\n",
              "      <td>2019-12-31 18:45:00-05:00</td>\n",
              "      <td>-99.90</td>\n",
              "      <td>NaN</td>\n",
              "    </tr>\n",
              "    <tr>\n",
              "      <th>835153</th>\n",
              "      <td>2019-12-31 18:50:00-05:00</td>\n",
              "      <td>-99.90</td>\n",
              "      <td>NaN</td>\n",
              "    </tr>\n",
              "    <tr>\n",
              "      <th>835154</th>\n",
              "      <td>2019-12-31 18:55:00-05:00</td>\n",
              "      <td>-99.90</td>\n",
              "      <td>NaN</td>\n",
              "    </tr>\n",
              "  </tbody>\n",
              "</table>\n",
              "<p>835155 rows × 3 columns</p>\n",
              "</div>"
            ],
            "text/plain": [
              "                           FECHA    PWV  PWV_RANGO_FIJO\n",
              "0      2010-10-01 07:30:00-05:00  55.87           55.87\n",
              "1      2010-10-01 07:35:00-05:00  55.83           55.83\n",
              "2      2010-10-01 07:40:00-05:00  55.80           55.80\n",
              "3      2010-10-01 07:45:00-05:00  55.74           55.74\n",
              "4      2010-10-01 07:50:00-05:00  55.73           55.73\n",
              "...                          ...    ...             ...\n",
              "835150 2019-12-31 18:35:00-05:00 -99.90             NaN\n",
              "835151 2019-12-31 18:40:00-05:00 -99.90             NaN\n",
              "835152 2019-12-31 18:45:00-05:00 -99.90             NaN\n",
              "835153 2019-12-31 18:50:00-05:00 -99.90             NaN\n",
              "835154 2019-12-31 18:55:00-05:00 -99.90             NaN\n",
              "\n",
              "[835155 rows x 3 columns]"
            ]
          },
          "metadata": {
            "tags": []
          },
          "execution_count": 6
        }
      ]
    },
    {
      "cell_type": "code",
      "metadata": {
        "id": "XDr-x4YSLJvs",
        "colab": {
          "base_uri": "https://localhost:8080/",
          "height": 296
        },
        "outputId": "b2e060cd-7c36-4fda-ccc8-f1866fc7b64d"
      },
      "source": [
        "ax = dfVar.plot(kind = 'scatter', x='FECHA', y='PWV')\n",
        "dfVar.plot(kind = 'scatter', x='FECHA', y='PWV_RANGO_FIJO', ax=ax, color='red')\n",
        "# plt.savefig()"
      ],
      "execution_count": 7,
      "outputs": [
        {
          "output_type": "execute_result",
          "data": {
            "text/plain": [
              "<matplotlib.axes._subplots.AxesSubplot at 0x7f30d3e01510>"
            ]
          },
          "metadata": {
            "tags": []
          },
          "execution_count": 7
        },
        {
          "output_type": "display_data",
          "data": {
            "image/png": "[encoded data removed]",
            "text/plain": [
              "<Figure size 432x288 with 1 Axes>"
            ]
          },
          "metadata": {
            "tags": [],
            "needs_background": "light"
          }
        }
      ]
    },
    {
      "cell_type": "code",
      "metadata": {
        "id": "tOyVI0YvMKj-",
        "colab": {
          "base_uri": "https://localhost:8080/",
          "height": 424
        },
        "outputId": "18d8b921-a69e-4ded-8eeb-6d28449e3194"
      },
      "source": [
        "## Para filtrar los valores finales\n",
        "dfFinal = dfVar[~dfVar['PWV_RANGO_FIJO'].isnull()]\n",
        "dfFinal "
      ],
      "execution_count": 8,
      "outputs": [
        {
          "output_type": "execute_result",
          "data": {
            "text/html": [
              "<div>\n",
              "<style scoped>\n",
              "    .dataframe tbody tr th:only-of-type {\n",
              "        vertical-align: middle;\n",
              "    }\n",
              "\n",
              "    .dataframe tbody tr th {\n",
              "        vertical-align: top;\n",
              "    }\n",
              "\n",
              "    .dataframe thead th {\n",
              "        text-align: right;\n",
              "    }\n",
              "</style>\n",
              "<table border=\"1\" class=\"dataframe\">\n",
              "  <thead>\n",
              "    <tr style=\"text-align: right;\">\n",
              "      <th></th>\n",
              "      <th>FECHA</th>\n",
              "      <th>PWV</th>\n",
              "      <th>PWV_RANGO_FIJO</th>\n",
              "    </tr>\n",
              "  </thead>\n",
              "  <tbody>\n",
              "    <tr>\n",
              "      <th>0</th>\n",
              "      <td>2010-10-01 07:30:00-05:00</td>\n",
              "      <td>55.87</td>\n",
              "      <td>55.87</td>\n",
              "    </tr>\n",
              "    <tr>\n",
              "      <th>1</th>\n",
              "      <td>2010-10-01 07:35:00-05:00</td>\n",
              "      <td>55.83</td>\n",
              "      <td>55.83</td>\n",
              "    </tr>\n",
              "    <tr>\n",
              "      <th>2</th>\n",
              "      <td>2010-10-01 07:40:00-05:00</td>\n",
              "      <td>55.80</td>\n",
              "      <td>55.80</td>\n",
              "    </tr>\n",
              "    <tr>\n",
              "      <th>3</th>\n",
              "      <td>2010-10-01 07:45:00-05:00</td>\n",
              "      <td>55.74</td>\n",
              "      <td>55.74</td>\n",
              "    </tr>\n",
              "    <tr>\n",
              "      <th>4</th>\n",
              "      <td>2010-10-01 07:50:00-05:00</td>\n",
              "      <td>55.73</td>\n",
              "      <td>55.73</td>\n",
              "    </tr>\n",
              "    <tr>\n",
              "      <th>...</th>\n",
              "      <td>...</td>\n",
              "      <td>...</td>\n",
              "      <td>...</td>\n",
              "    </tr>\n",
              "    <tr>\n",
              "      <th>835138</th>\n",
              "      <td>2019-12-31 17:35:00-05:00</td>\n",
              "      <td>60.37</td>\n",
              "      <td>60.37</td>\n",
              "    </tr>\n",
              "    <tr>\n",
              "      <th>835139</th>\n",
              "      <td>2019-12-31 17:40:00-05:00</td>\n",
              "      <td>60.32</td>\n",
              "      <td>60.32</td>\n",
              "    </tr>\n",
              "    <tr>\n",
              "      <th>835140</th>\n",
              "      <td>2019-12-31 17:45:00-05:00</td>\n",
              "      <td>60.31</td>\n",
              "      <td>60.31</td>\n",
              "    </tr>\n",
              "    <tr>\n",
              "      <th>835141</th>\n",
              "      <td>2019-12-31 17:50:00-05:00</td>\n",
              "      <td>60.27</td>\n",
              "      <td>60.27</td>\n",
              "    </tr>\n",
              "    <tr>\n",
              "      <th>835142</th>\n",
              "      <td>2019-12-31 17:55:00-05:00</td>\n",
              "      <td>60.28</td>\n",
              "      <td>60.28</td>\n",
              "    </tr>\n",
              "  </tbody>\n",
              "</table>\n",
              "<p>574029 rows × 3 columns</p>\n",
              "</div>"
            ],
            "text/plain": [
              "                           FECHA    PWV  PWV_RANGO_FIJO\n",
              "0      2010-10-01 07:30:00-05:00  55.87           55.87\n",
              "1      2010-10-01 07:35:00-05:00  55.83           55.83\n",
              "2      2010-10-01 07:40:00-05:00  55.80           55.80\n",
              "3      2010-10-01 07:45:00-05:00  55.74           55.74\n",
              "4      2010-10-01 07:50:00-05:00  55.73           55.73\n",
              "...                          ...    ...             ...\n",
              "835138 2019-12-31 17:35:00-05:00  60.37           60.37\n",
              "835139 2019-12-31 17:40:00-05:00  60.32           60.32\n",
              "835140 2019-12-31 17:45:00-05:00  60.31           60.31\n",
              "835141 2019-12-31 17:50:00-05:00  60.27           60.27\n",
              "835142 2019-12-31 17:55:00-05:00  60.28           60.28\n",
              "\n",
              "[574029 rows x 3 columns]"
            ]
          },
          "metadata": {
            "tags": []
          },
          "execution_count": 8
        }
      ]
    },
    {
      "cell_type": "code",
      "metadata": {
        "id": "UsndzNlyJPbU",
        "colab": {
          "base_uri": "https://localhost:8080/"
        },
        "outputId": "3f800a4c-267d-4bb3-8dec-5c42bb772143"
      },
      "source": [
        "print(f'Datos iniciales : {dfVar.shape[0]}')\n",
        "print(f'Datos finales después de testes : {dfFinal.shape[0]}')\n",
        "print(f'Datos no nulos que fueron eliminados en los testes : {dfVar.shape[0] - dfFinal.shape[0] - dfVar[dfVar[\"PWV\"].isnull()].shape[0]}')"
      ],
      "execution_count": 9,
      "outputs": [
        {
          "output_type": "stream",
          "text": [
            "Datos iniciales : 835155\n",
            "Datos finales después de testes : 574029\n",
            "Datos no nulos que fueron eliminados en los testes : 261126\n"
          ],
          "name": "stdout"
        }
      ]
    },
    {
      "cell_type": "markdown",
      "metadata": {
        "id": "b3Vi_1V-UcdC"
      },
      "source": [
        "# Datos Finales a salvar"
      ]
    },
    {
      "cell_type": "code",
      "metadata": {
        "colab": {
          "base_uri": "https://localhost:8080/",
          "height": 424
        },
        "id": "mMsaRSMzSreH",
        "outputId": "d98db635-b16d-4a24-d626-9ef8c75014ac"
      },
      "source": [
        "dfSave = dfFinal[(dfFinal['FECHA'] > '2010-12-31 23:59:59') & \n",
        "                 (dfFinal['FECHA'] < '2018-01-01 00:00:00')]\n",
        "\n",
        "dfSave"
      ],
      "execution_count": 10,
      "outputs": [
        {
          "output_type": "execute_result",
          "data": {
            "text/html": [
              "<div>\n",
              "<style scoped>\n",
              "    .dataframe tbody tr th:only-of-type {\n",
              "        vertical-align: middle;\n",
              "    }\n",
              "\n",
              "    .dataframe tbody tr th {\n",
              "        vertical-align: top;\n",
              "    }\n",
              "\n",
              "    .dataframe thead th {\n",
              "        text-align: right;\n",
              "    }\n",
              "</style>\n",
              "<table border=\"1\" class=\"dataframe\">\n",
              "  <thead>\n",
              "    <tr style=\"text-align: right;\">\n",
              "      <th></th>\n",
              "      <th>FECHA</th>\n",
              "      <th>PWV</th>\n",
              "      <th>PWV_RANGO_FIJO</th>\n",
              "    </tr>\n",
              "  </thead>\n",
              "  <tbody>\n",
              "    <tr>\n",
              "      <th>15182</th>\n",
              "      <td>2011-01-01 00:05:00-05:00</td>\n",
              "      <td>48.16</td>\n",
              "      <td>48.16</td>\n",
              "    </tr>\n",
              "    <tr>\n",
              "      <th>15183</th>\n",
              "      <td>2011-01-01 00:10:00-05:00</td>\n",
              "      <td>48.19</td>\n",
              "      <td>48.19</td>\n",
              "    </tr>\n",
              "    <tr>\n",
              "      <th>15184</th>\n",
              "      <td>2011-01-01 00:15:00-05:00</td>\n",
              "      <td>48.20</td>\n",
              "      <td>48.20</td>\n",
              "    </tr>\n",
              "    <tr>\n",
              "      <th>15185</th>\n",
              "      <td>2011-01-01 00:20:00-05:00</td>\n",
              "      <td>48.24</td>\n",
              "      <td>48.24</td>\n",
              "    </tr>\n",
              "    <tr>\n",
              "      <th>15186</th>\n",
              "      <td>2011-01-01 00:25:00-05:00</td>\n",
              "      <td>48.31</td>\n",
              "      <td>48.31</td>\n",
              "    </tr>\n",
              "    <tr>\n",
              "      <th>...</th>\n",
              "      <td>...</td>\n",
              "      <td>...</td>\n",
              "      <td>...</td>\n",
              "    </tr>\n",
              "    <tr>\n",
              "      <th>661319</th>\n",
              "      <td>2017-12-31 23:35:00-05:00</td>\n",
              "      <td>57.51</td>\n",
              "      <td>57.51</td>\n",
              "    </tr>\n",
              "    <tr>\n",
              "      <th>661320</th>\n",
              "      <td>2017-12-31 23:40:00-05:00</td>\n",
              "      <td>57.53</td>\n",
              "      <td>57.53</td>\n",
              "    </tr>\n",
              "    <tr>\n",
              "      <th>661321</th>\n",
              "      <td>2017-12-31 23:45:00-05:00</td>\n",
              "      <td>57.55</td>\n",
              "      <td>57.55</td>\n",
              "    </tr>\n",
              "    <tr>\n",
              "      <th>661322</th>\n",
              "      <td>2017-12-31 23:50:00-05:00</td>\n",
              "      <td>57.57</td>\n",
              "      <td>57.57</td>\n",
              "    </tr>\n",
              "    <tr>\n",
              "      <th>661323</th>\n",
              "      <td>2017-12-31 23:55:00-05:00</td>\n",
              "      <td>57.57</td>\n",
              "      <td>57.57</td>\n",
              "    </tr>\n",
              "  </tbody>\n",
              "</table>\n",
              "<p>438752 rows × 3 columns</p>\n",
              "</div>"
            ],
            "text/plain": [
              "                           FECHA    PWV  PWV_RANGO_FIJO\n",
              "15182  2011-01-01 00:05:00-05:00  48.16           48.16\n",
              "15183  2011-01-01 00:10:00-05:00  48.19           48.19\n",
              "15184  2011-01-01 00:15:00-05:00  48.20           48.20\n",
              "15185  2011-01-01 00:20:00-05:00  48.24           48.24\n",
              "15186  2011-01-01 00:25:00-05:00  48.31           48.31\n",
              "...                          ...    ...             ...\n",
              "661319 2017-12-31 23:35:00-05:00  57.51           57.51\n",
              "661320 2017-12-31 23:40:00-05:00  57.53           57.53\n",
              "661321 2017-12-31 23:45:00-05:00  57.55           57.55\n",
              "661322 2017-12-31 23:50:00-05:00  57.57           57.57\n",
              "661323 2017-12-31 23:55:00-05:00  57.57           57.57\n",
              "\n",
              "[438752 rows x 3 columns]"
            ]
          },
          "metadata": {
            "tags": []
          },
          "execution_count": 10
        }
      ]
    },
    {
      "cell_type": "markdown",
      "metadata": {
        "id": "1RDG1uMHUWeJ"
      },
      "source": [
        "# Datos nulos"
      ]
    },
    {
      "cell_type": "code",
      "metadata": {
        "colab": {
          "base_uri": "https://localhost:8080/",
          "height": 424
        },
        "id": "EWGtlX56T11E",
        "outputId": "a806de07-ed8d-4e50-b36e-9592368da23a"
      },
      "source": [
        "dfNull = dfVar[dfVar['PWV_RANGO_FIJO'].isnull()]\n",
        "dfNull = dfNull[(dfNull['FECHA'] > '2010-12-31 23:59:59') & \n",
        "                (dfNull['FECHA'] < '2018-01-01 00:00:00')]\n",
        "dfNull"
      ],
      "execution_count": 11,
      "outputs": [
        {
          "output_type": "execute_result",
          "data": {
            "text/html": [
              "<div>\n",
              "<style scoped>\n",
              "    .dataframe tbody tr th:only-of-type {\n",
              "        vertical-align: middle;\n",
              "    }\n",
              "\n",
              "    .dataframe tbody tr th {\n",
              "        vertical-align: top;\n",
              "    }\n",
              "\n",
              "    .dataframe thead th {\n",
              "        text-align: right;\n",
              "    }\n",
              "</style>\n",
              "<table border=\"1\" class=\"dataframe\">\n",
              "  <thead>\n",
              "    <tr style=\"text-align: right;\">\n",
              "      <th></th>\n",
              "      <th>FECHA</th>\n",
              "      <th>PWV</th>\n",
              "      <th>PWV_RANGO_FIJO</th>\n",
              "    </tr>\n",
              "  </thead>\n",
              "  <tbody>\n",
              "    <tr>\n",
              "      <th>15181</th>\n",
              "      <td>2011-01-01 00:00:00-05:00</td>\n",
              "      <td>-99.9</td>\n",
              "      <td>NaN</td>\n",
              "    </tr>\n",
              "    <tr>\n",
              "      <th>15193</th>\n",
              "      <td>2011-01-01 01:00:00-05:00</td>\n",
              "      <td>-99.9</td>\n",
              "      <td>NaN</td>\n",
              "    </tr>\n",
              "    <tr>\n",
              "      <th>15205</th>\n",
              "      <td>2011-01-01 02:00:00-05:00</td>\n",
              "      <td>-99.9</td>\n",
              "      <td>NaN</td>\n",
              "    </tr>\n",
              "    <tr>\n",
              "      <th>15217</th>\n",
              "      <td>2011-01-01 03:00:00-05:00</td>\n",
              "      <td>-99.9</td>\n",
              "      <td>NaN</td>\n",
              "    </tr>\n",
              "    <tr>\n",
              "      <th>15227</th>\n",
              "      <td>2011-01-01 09:30:00-05:00</td>\n",
              "      <td>-99.9</td>\n",
              "      <td>NaN</td>\n",
              "    </tr>\n",
              "    <tr>\n",
              "      <th>...</th>\n",
              "      <td>...</td>\n",
              "      <td>...</td>\n",
              "      <td>...</td>\n",
              "    </tr>\n",
              "    <tr>\n",
              "      <th>661264</th>\n",
              "      <td>2017-12-31 19:00:00-05:00</td>\n",
              "      <td>-99.9</td>\n",
              "      <td>NaN</td>\n",
              "    </tr>\n",
              "    <tr>\n",
              "      <th>661276</th>\n",
              "      <td>2017-12-31 20:00:00-05:00</td>\n",
              "      <td>-99.9</td>\n",
              "      <td>NaN</td>\n",
              "    </tr>\n",
              "    <tr>\n",
              "      <th>661288</th>\n",
              "      <td>2017-12-31 21:00:00-05:00</td>\n",
              "      <td>-99.9</td>\n",
              "      <td>NaN</td>\n",
              "    </tr>\n",
              "    <tr>\n",
              "      <th>661300</th>\n",
              "      <td>2017-12-31 22:00:00-05:00</td>\n",
              "      <td>-99.9</td>\n",
              "      <td>NaN</td>\n",
              "    </tr>\n",
              "    <tr>\n",
              "      <th>661312</th>\n",
              "      <td>2017-12-31 23:00:00-05:00</td>\n",
              "      <td>-99.9</td>\n",
              "      <td>NaN</td>\n",
              "    </tr>\n",
              "  </tbody>\n",
              "</table>\n",
              "<p>207391 rows × 3 columns</p>\n",
              "</div>"
            ],
            "text/plain": [
              "                           FECHA   PWV  PWV_RANGO_FIJO\n",
              "15181  2011-01-01 00:00:00-05:00 -99.9             NaN\n",
              "15193  2011-01-01 01:00:00-05:00 -99.9             NaN\n",
              "15205  2011-01-01 02:00:00-05:00 -99.9             NaN\n",
              "15217  2011-01-01 03:00:00-05:00 -99.9             NaN\n",
              "15227  2011-01-01 09:30:00-05:00 -99.9             NaN\n",
              "...                          ...   ...             ...\n",
              "661264 2017-12-31 19:00:00-05:00 -99.9             NaN\n",
              "661276 2017-12-31 20:00:00-05:00 -99.9             NaN\n",
              "661288 2017-12-31 21:00:00-05:00 -99.9             NaN\n",
              "661300 2017-12-31 22:00:00-05:00 -99.9             NaN\n",
              "661312 2017-12-31 23:00:00-05:00 -99.9             NaN\n",
              "\n",
              "[207391 rows x 3 columns]"
            ]
          },
          "metadata": {
            "tags": []
          },
          "execution_count": 11
        }
      ]
    },
    {
      "cell_type": "code",
      "metadata": {
        "colab": {
          "base_uri": "https://localhost:8080/"
        },
        "id": "EPnfkauCUFP4",
        "outputId": "3db22a7e-4347-4fd8-ef95-24d6c25fb1d6"
      },
      "source": [
        "438752 + 207391"
      ],
      "execution_count": 12,
      "outputs": [
        {
          "output_type": "execute_result",
          "data": {
            "text/plain": [
              "646143"
            ]
          },
          "metadata": {
            "tags": []
          },
          "execution_count": 12
        }
      ]
    },
    {
      "cell_type": "code",
      "metadata": {
        "colab": {
          "base_uri": "https://localhost:8080/"
        },
        "id": "8GIKr8JtTUC6",
        "outputId": "a0d61d67-a51d-46cd-ef74-f7715ac6bd55"
      },
      "source": [
        "12 * 24 * 365 * 7"
      ],
      "execution_count": 13,
      "outputs": [
        {
          "output_type": "execute_result",
          "data": {
            "text/plain": [
              "735840"
            ]
          },
          "metadata": {
            "tags": []
          },
          "execution_count": 13
        }
      ]
    },
    {
      "cell_type": "code",
      "metadata": {
        "id": "2hoa0fdKLJvv"
      },
      "source": [
        "dfSave[['FECHA', 'PWV_RANGO_FIJO']].rename(columns = {'PWV_RANGO_FIJO': 'PWV'}).to_csv(PATH_FINAL_DATOS_TRATADOS + FILE_DATOS_TRATADOS, header=True, index=False, sep = ';')"
      ],
      "execution_count": 14,
      "outputs": []
    }
  ]
}