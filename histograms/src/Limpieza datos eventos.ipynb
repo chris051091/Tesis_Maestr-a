{
 "cells": [
  {
   "cell_type": "markdown",
   "metadata": {},
   "source": [
    "# Limpieza dato de evento\n",
    "\n",
    "Este script realiza la lectura de los datos de eventos que está en formato TXT, realiza un pre-procesamiento de los mismos e guarda dentro de una planilla CSV para que sean usados posteriormente dentro de los análisis.\n",
    "\n",
    "La temperatura está media em grados C° mientras que la Km/h"
   ]
  },
  {
   "cell_type": "code",
   "execution_count": 1,
   "metadata": {},
   "outputs": [],
   "source": [
    "import pandas as pd\n",
    "import numpy as np\n",
    "import re"
   ]
  },
  {
   "cell_type": "code",
   "execution_count": 2,
   "metadata": {},
   "outputs": [],
   "source": [
    "PATH_DADOS = '../dados/'\n",
    "FILE_DADOS_BRUTOS = 'events_MM_nxny1426(1).txt'\n",
    "FILE_DADOS_EXTRAIDOS = 'events_MM_nxny1426.csv'"
   ]
  },
  {
   "cell_type": "code",
   "execution_count": 3,
   "metadata": {},
   "outputs": [],
   "source": [
    "columns = ['date_min_t', 'lon_t', 'lat_t', 'min_t', 'date_max_dt', 'lon_dt', 'lat_dt', 'max_dt']\n",
    "# size_line = ((0, 16), (17, 24), (25,30), (31,36), (38,54), (55, 62), (63,68), (69,74))\n",
    "\n",
    "regex = r\"^(\\d{4}(?:\\s+\\d{2}){4})\\s+([-0-9\\.]+)\\s+([-0-9\\.]+)\\s+([-0-9\\.]+)\\s+(\\d{4}(?:\\s+\\d{2}){4})\\s+([-0-9\\.]+)\\s+([-0-9\\.]+)\\s+([-0-9\\.]+)$\"\n",
    "\n",
    "list_dados = []\n",
    "\n",
    "with open(PATH_DADOS + FILE_DADOS_BRUTOS, 'r') as f:\n",
    "    next(f)\n",
    "    for line in f:\n",
    "        matches = re.finditer(regex, line, re.MULTILINE)\n",
    "        dict_row = {}\n",
    "        for match in matches:\n",
    "            dict_row = {}\n",
    "            for col, groupNum in zip(columns, match.groups()):\n",
    "#                 dict_row[col] = line[tam[0]:tam[1]]\n",
    "                dict_row[col] = str(groupNum)\n",
    "            list_dados.append(dict_row)\n",
    "\n",
    "df = pd.DataFrame(list_dados)"
   ]
  },
  {
   "cell_type": "code",
   "execution_count": 6,
   "metadata": {},
   "outputs": [],
   "source": [
    "df.to_csv(PATH_DADOS + FILE_DADOS_EXTRAIDOS, header=True, index=False, sep = ';')"
   ]
  },
  {
   "cell_type": "code",
   "execution_count": 5,
   "metadata": {},
   "outputs": [],
   "source": [
    "# df"
   ]
  }
 ],
 "metadata": {
  "kernelspec": {
   "display_name": "Python 3",
   "language": "python",
   "name": "python3"
  },
  "language_info": {
   "codemirror_mode": {
    "name": "ipython",
    "version": 3
   },
   "file_extension": ".py",
   "mimetype": "text/x-python",
   "name": "python",
   "nbconvert_exporter": "python",
   "pygments_lexer": "ipython3",
   "version": "3.8.5"
  }
 },
 "nbformat": 4,
 "nbformat_minor": 4
}
