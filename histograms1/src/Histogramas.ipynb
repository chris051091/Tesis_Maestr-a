{
  "nbformat": 4,
  "nbformat_minor": 0,
  "metadata": {
    "kernelspec": {
      "display_name": "Python 3",
      "language": "python",
      "name": "python3"
    },
    "language_info": {
      "codemirror_mode": {
        "name": "ipython",
        "version": 3
      },
      "file_extension": ".py",
      "mimetype": "text/x-python",
      "name": "python",
      "nbconvert_exporter": "python",
      "pygments_lexer": "ipython3",
      "version": "3.8.5"
    },
    "colab": {
      "name": "Histogramas.ipynb",
      "provenance": []
    }
  },
  "cells": [
    {
      "cell_type": "markdown",
      "metadata": {
        "id": "eWqqeBQbTnfY"
      },
      "source": [
        "# **Histogramas con eventos completos**"
      ]
    },
    {
      "cell_type": "code",
      "metadata": {
        "id": "BF1BVfAoTi_P",
        "colab": {
          "base_uri": "https://localhost:8080/"
        },
        "outputId": "08db2740-6b63-4a44-ad65-1446033991c2"
      },
      "source": [
        "import pandas as pd\n",
        "import numpy as np\n",
        "import os\n",
        "import matplotlib.pyplot as plt\n",
        "import seaborn as sns\n",
        "from scipy import stats\n",
        "import re\n",
        "\n",
        "from google.colab import drive\n",
        "drive.mount('/content/drive')\n",
        "\n",
        "%matplotlib inline"
      ],
      "execution_count": 1,
      "outputs": [
        {
          "output_type": "stream",
          "name": "stdout",
          "text": [
            "Mounted at /content/drive\n"
          ]
        }
      ]
    },
    {
      "cell_type": "code",
      "metadata": {
        "id": "G9DGKh-ITjAA"
      },
      "source": [
        "PATH_DRIVE = 'drive/MyDrive/Seminario-3-master'\n",
        "PATH_DADOS = '/dados/'\n",
        "PATH_FIGURE = '/histograms/'\n",
        "FILE_DATOS_ESTACION = 'events_MM_nxny1426.csv'\n",
        "FILE_RELIEVE = 'GMRTv3_8_20210316topo_LR.grd'\n",
        "\n",
        "!mkdir -p drive/MyDrive/Seminario-3-master/histograms"
      ],
      "execution_count": 2,
      "outputs": []
    },
    {
      "cell_type": "code",
      "metadata": {
        "id": "XgVwJ7OmTjAB"
      },
      "source": [
        "df = pd.read_csv(PATH_DRIVE + PATH_DADOS + FILE_DATOS_ESTACION, \n",
        "                 sep = ';'\n",
        "                )\n",
        "df['date_min_t'] = pd.to_datetime(df['date_min_t'], format='%Y %m %d %H %M').dt.tz_localize('America/Bogota')\n",
        "df['date_max_dt'] = pd.to_datetime(df['date_max_dt'], format='%Y %m %d %H %M').dt.tz_localize('America/Bogota')"
      ],
      "execution_count": 3,
      "outputs": []
    },
    {
      "cell_type": "code",
      "metadata": {
        "id": "dGT-ljjaTjAB"
      },
      "source": [
        "df['hour_min_t'] = df['date_min_t'].dt.hour\n",
        "df['month_min_t'] = df['date_min_t'].dt.month\n",
        "df['year_min_t'] = df['date_min_t'].dt.year\n",
        "df['hour_max_dt'] = df['date_max_dt'].dt.hour\n",
        "df['month_max_dt'] = df['date_max_dt'].dt.month\n",
        "df['year_max_dt'] = df['date_max_dt'].dt.year"
      ],
      "execution_count": 4,
      "outputs": []
    },
    {
      "cell_type": "markdown",
      "source": [
        "Análisis por año de la temperatura."
      ],
      "metadata": {
        "id": "CBlubVxJt6Yk"
      }
    },
    {
      "cell_type": "code",
      "source": [
        "fig, ax = plt.subplots()\n",
        "\n",
        "# Gráfico del histograma\n",
        "df['year_min_t'].plot(kind = 'hist', ax=ax, edgecolor='black', color='skyblue', bins = range(2011, 2019))\n",
        "\n",
        "# # Gráfico de la estimativa de la densidad del kernel en el mismo gráfico sobre el mismo gráfico\n",
        "# ax2 = df['hour_min_t'].plot(kind='kde', secondary_y=True, ax=ax, color='red')\n",
        "# ax2.set_ylabel(\"Densidad\")\n",
        "\n",
        "ax.set_ylim(0)\n",
        "ax.set_xlim()\n",
        "ax.grid(True)\n",
        "ax.set_xlabel(\"Años\")\n",
        "ax.set_xticks(range(2011, 2019))\n",
        "#ax.set_title('')\n",
        "ax.set_ylabel(\"Número de eventos\")\n",
        "plt.savefig(PATH_DRIVE + PATH_FIGURE + 'Histograma_año_Temp.png', format='png')"
      ],
      "metadata": {
        "colab": {
          "base_uri": "https://localhost:8080/",
          "height": 282
        },
        "id": "2b6letFfuEik",
        "outputId": "a968a038-9469-46d7-e543-d6d2064ee682"
      },
      "execution_count": 5,
      "outputs": [
        {
          "output_type": "display_data",
          "data": {
            "text/plain": [
              "<Figure size 432x288 with 1 Axes>"
            ],
            "image/png": "[encoded data removed]"
          },
          "metadata": {
            "needs_background": "light"
          }
        }
      ]
    },
    {
      "cell_type": "code",
      "source": [
        "df['year_min_t'].value_counts()\n"
      ],
      "metadata": {
        "colab": {
          "base_uri": "https://localhost:8080/"
        },
        "id": "3BzTs1jF3Ge_",
        "outputId": "0d540f2a-ac11-4134-df2e-8291c1920448"
      },
      "execution_count": null,
      "outputs": [
        {
          "output_type": "execute_result",
          "data": {
            "text/plain": [
              "2011    480\n",
              "2014    442\n",
              "2017    413\n",
              "2013    408\n",
              "2016    383\n",
              "2012    342\n",
              "2015    337\n",
              "Name: year_min_t, dtype: int64"
            ]
          },
          "metadata": {},
          "execution_count": 54
        }
      ]
    },
    {
      "cell_type": "code",
      "source": [
        "df"
      ],
      "metadata": {
        "colab": {
          "base_uri": "https://localhost:8080/",
          "height": 424
        },
        "id": "peppqSZx7bgP",
        "outputId": "a0769c2e-6c3c-4070-a794-6fa8ab28ab14"
      },
      "execution_count": null,
      "outputs": [
        {
          "output_type": "execute_result",
          "data": {
            "text/plain": [
              "                    date_min_t   lon_t  lat_t  min_t  \\\n",
              "0    2011-01-03 17:45:00-05:00 -73.693  6.915  211.9   \n",
              "1    2011-01-04 18:15:00-05:00 -74.407  6.915  227.8   \n",
              "2    2011-01-07 00:45:00-05:00 -74.121  7.201  216.0   \n",
              "3    2011-01-07 12:45:00-05:00 -74.836  5.055  229.9   \n",
              "4    2011-01-07 16:15:00-05:00 -73.264  7.487  205.6   \n",
              "...                        ...     ...    ...    ...   \n",
              "2800 2017-12-30 05:45:00-05:00 -73.979  6.915  208.9   \n",
              "2801 2017-12-30 15:45:00-05:00 -73.693  8.059  225.4   \n",
              "2802 2017-12-30 18:45:00-05:00 -73.979  7.916  222.9   \n",
              "2803 2017-12-31 01:15:00-05:00 -73.693  7.630  221.1   \n",
              "2804 2017-12-31 01:15:00-05:00 -74.264  7.058  225.2   \n",
              "\n",
              "                   date_max_dt  lon_dt  lat_dt  max_dt  hour_min_t  \\\n",
              "0    2011-01-03 16:15:00-05:00 -73.836   6.915   -61.6          17   \n",
              "1    2011-01-04 17:15:00-05:00 -74.407   6.915   -64.1          18   \n",
              "2    2011-01-07 00:15:00-05:00 -73.979   7.344   -66.8           0   \n",
              "3    2011-01-07 11:45:00-05:00 -74.836   5.055   -50.3          12   \n",
              "4    2011-01-07 16:45:00-05:00 -74.264   6.915   -76.6          16   \n",
              "...                        ...     ...     ...     ...         ...   \n",
              "2800 2017-12-30 03:45:00-05:00 -73.550   6.772   -60.4           5   \n",
              "2801 2017-12-30 14:15:00-05:00 -73.693   8.059   -62.5          15   \n",
              "2802 2017-12-30 18:15:00-05:00 -73.979   7.916   -54.6          18   \n",
              "2803 2017-12-31 00:15:00-05:00 -73.693   7.630   -59.6           1   \n",
              "2804 2017-12-31 00:15:00-05:00 -74.264   7.058   -56.9           1   \n",
              "\n",
              "      month_min_t  year_min_t  hour_max_dt  month_max_dt  year_max_dt  \n",
              "0               1        2011           16             1         2011  \n",
              "1               1        2011           17             1         2011  \n",
              "2               1        2011            0             1         2011  \n",
              "3               1        2011           11             1         2011  \n",
              "4               1        2011           16             1         2011  \n",
              "...           ...         ...          ...           ...          ...  \n",
              "2800           12        2017            3            12         2017  \n",
              "2801           12        2017           14            12         2017  \n",
              "2802           12        2017           18            12         2017  \n",
              "2803           12        2017            0            12         2017  \n",
              "2804           12        2017            0            12         2017  \n",
              "\n",
              "[2805 rows x 14 columns]"
            ],
            "text/html": [
              "\n",
              "  <div id=\"df-916c0cf8-5b35-4af4-8b82-96a288899c30\">\n",
              "    <div class=\"colab-df-container\">\n",
              "      <div>\n",
              "<style scoped>\n",
              "    .dataframe tbody tr th:only-of-type {\n",
              "        vertical-align: middle;\n",
              "    }\n",
              "\n",
              "    .dataframe tbody tr th {\n",
              "        vertical-align: top;\n",
              "    }\n",
              "\n",
              "    .dataframe thead th {\n",
              "        text-align: right;\n",
              "    }\n",
              "</style>\n",
              "<table border=\"1\" class=\"dataframe\">\n",
              "  <thead>\n",
              "    <tr style=\"text-align: right;\">\n",
              "      <th></th>\n",
              "      <th>date_min_t</th>\n",
              "      <th>lon_t</th>\n",
              "      <th>lat_t</th>\n",
              "      <th>min_t</th>\n",
              "      <th>date_max_dt</th>\n",
              "      <th>lon_dt</th>\n",
              "      <th>lat_dt</th>\n",
              "      <th>max_dt</th>\n",
              "      <th>hour_min_t</th>\n",
              "      <th>month_min_t</th>\n",
              "      <th>year_min_t</th>\n",
              "      <th>hour_max_dt</th>\n",
              "      <th>month_max_dt</th>\n",
              "      <th>year_max_dt</th>\n",
              "    </tr>\n",
              "  </thead>\n",
              "  <tbody>\n",
              "    <tr>\n",
              "      <th>0</th>\n",
              "      <td>2011-01-03 17:45:00-05:00</td>\n",
              "      <td>-73.693</td>\n",
              "      <td>6.915</td>\n",
              "      <td>211.9</td>\n",
              "      <td>2011-01-03 16:15:00-05:00</td>\n",
              "      <td>-73.836</td>\n",
              "      <td>6.915</td>\n",
              "      <td>-61.6</td>\n",
              "      <td>17</td>\n",
              "      <td>1</td>\n",
              "      <td>2011</td>\n",
              "      <td>16</td>\n",
              "      <td>1</td>\n",
              "      <td>2011</td>\n",
              "    </tr>\n",
              "    <tr>\n",
              "      <th>1</th>\n",
              "      <td>2011-01-04 18:15:00-05:00</td>\n",
              "      <td>-74.407</td>\n",
              "      <td>6.915</td>\n",
              "      <td>227.8</td>\n",
              "      <td>2011-01-04 17:15:00-05:00</td>\n",
              "      <td>-74.407</td>\n",
              "      <td>6.915</td>\n",
              "      <td>-64.1</td>\n",
              "      <td>18</td>\n",
              "      <td>1</td>\n",
              "      <td>2011</td>\n",
              "      <td>17</td>\n",
              "      <td>1</td>\n",
              "      <td>2011</td>\n",
              "    </tr>\n",
              "    <tr>\n",
              "      <th>2</th>\n",
              "      <td>2011-01-07 00:45:00-05:00</td>\n",
              "      <td>-74.121</td>\n",
              "      <td>7.201</td>\n",
              "      <td>216.0</td>\n",
              "      <td>2011-01-07 00:15:00-05:00</td>\n",
              "      <td>-73.979</td>\n",
              "      <td>7.344</td>\n",
              "      <td>-66.8</td>\n",
              "      <td>0</td>\n",
              "      <td>1</td>\n",
              "      <td>2011</td>\n",
              "      <td>0</td>\n",
              "      <td>1</td>\n",
              "      <td>2011</td>\n",
              "    </tr>\n",
              "    <tr>\n",
              "      <th>3</th>\n",
              "      <td>2011-01-07 12:45:00-05:00</td>\n",
              "      <td>-74.836</td>\n",
              "      <td>5.055</td>\n",
              "      <td>229.9</td>\n",
              "      <td>2011-01-07 11:45:00-05:00</td>\n",
              "      <td>-74.836</td>\n",
              "      <td>5.055</td>\n",
              "      <td>-50.3</td>\n",
              "      <td>12</td>\n",
              "      <td>1</td>\n",
              "      <td>2011</td>\n",
              "      <td>11</td>\n",
              "      <td>1</td>\n",
              "      <td>2011</td>\n",
              "    </tr>\n",
              "    <tr>\n",
              "      <th>4</th>\n",
              "      <td>2011-01-07 16:15:00-05:00</td>\n",
              "      <td>-73.264</td>\n",
              "      <td>7.487</td>\n",
              "      <td>205.6</td>\n",
              "      <td>2011-01-07 16:45:00-05:00</td>\n",
              "      <td>-74.264</td>\n",
              "      <td>6.915</td>\n",
              "      <td>-76.6</td>\n",
              "      <td>16</td>\n",
              "      <td>1</td>\n",
              "      <td>2011</td>\n",
              "      <td>16</td>\n",
              "      <td>1</td>\n",
              "      <td>2011</td>\n",
              "    </tr>\n",
              "    <tr>\n",
              "      <th>...</th>\n",
              "      <td>...</td>\n",
              "      <td>...</td>\n",
              "      <td>...</td>\n",
              "      <td>...</td>\n",
              "      <td>...</td>\n",
              "      <td>...</td>\n",
              "      <td>...</td>\n",
              "      <td>...</td>\n",
              "      <td>...</td>\n",
              "      <td>...</td>\n",
              "      <td>...</td>\n",
              "      <td>...</td>\n",
              "      <td>...</td>\n",
              "      <td>...</td>\n",
              "    </tr>\n",
              "    <tr>\n",
              "      <th>2800</th>\n",
              "      <td>2017-12-30 05:45:00-05:00</td>\n",
              "      <td>-73.979</td>\n",
              "      <td>6.915</td>\n",
              "      <td>208.9</td>\n",
              "      <td>2017-12-30 03:45:00-05:00</td>\n",
              "      <td>-73.550</td>\n",
              "      <td>6.772</td>\n",
              "      <td>-60.4</td>\n",
              "      <td>5</td>\n",
              "      <td>12</td>\n",
              "      <td>2017</td>\n",
              "      <td>3</td>\n",
              "      <td>12</td>\n",
              "      <td>2017</td>\n",
              "    </tr>\n",
              "    <tr>\n",
              "      <th>2801</th>\n",
              "      <td>2017-12-30 15:45:00-05:00</td>\n",
              "      <td>-73.693</td>\n",
              "      <td>8.059</td>\n",
              "      <td>225.4</td>\n",
              "      <td>2017-12-30 14:15:00-05:00</td>\n",
              "      <td>-73.693</td>\n",
              "      <td>8.059</td>\n",
              "      <td>-62.5</td>\n",
              "      <td>15</td>\n",
              "      <td>12</td>\n",
              "      <td>2017</td>\n",
              "      <td>14</td>\n",
              "      <td>12</td>\n",
              "      <td>2017</td>\n",
              "    </tr>\n",
              "    <tr>\n",
              "      <th>2802</th>\n",
              "      <td>2017-12-30 18:45:00-05:00</td>\n",
              "      <td>-73.979</td>\n",
              "      <td>7.916</td>\n",
              "      <td>222.9</td>\n",
              "      <td>2017-12-30 18:15:00-05:00</td>\n",
              "      <td>-73.979</td>\n",
              "      <td>7.916</td>\n",
              "      <td>-54.6</td>\n",
              "      <td>18</td>\n",
              "      <td>12</td>\n",
              "      <td>2017</td>\n",
              "      <td>18</td>\n",
              "      <td>12</td>\n",
              "      <td>2017</td>\n",
              "    </tr>\n",
              "    <tr>\n",
              "      <th>2803</th>\n",
              "      <td>2017-12-31 01:15:00-05:00</td>\n",
              "      <td>-73.693</td>\n",
              "      <td>7.630</td>\n",
              "      <td>221.1</td>\n",
              "      <td>2017-12-31 00:15:00-05:00</td>\n",
              "      <td>-73.693</td>\n",
              "      <td>7.630</td>\n",
              "      <td>-59.6</td>\n",
              "      <td>1</td>\n",
              "      <td>12</td>\n",
              "      <td>2017</td>\n",
              "      <td>0</td>\n",
              "      <td>12</td>\n",
              "      <td>2017</td>\n",
              "    </tr>\n",
              "    <tr>\n",
              "      <th>2804</th>\n",
              "      <td>2017-12-31 01:15:00-05:00</td>\n",
              "      <td>-74.264</td>\n",
              "      <td>7.058</td>\n",
              "      <td>225.2</td>\n",
              "      <td>2017-12-31 00:15:00-05:00</td>\n",
              "      <td>-74.264</td>\n",
              "      <td>7.058</td>\n",
              "      <td>-56.9</td>\n",
              "      <td>1</td>\n",
              "      <td>12</td>\n",
              "      <td>2017</td>\n",
              "      <td>0</td>\n",
              "      <td>12</td>\n",
              "      <td>2017</td>\n",
              "    </tr>\n",
              "  </tbody>\n",
              "</table>\n",
              "<p>2805 rows × 14 columns</p>\n",
              "</div>\n",
              "      <button class=\"colab-df-convert\" onclick=\"convertToInteractive('df-916c0cf8-5b35-4af4-8b82-96a288899c30')\"\n",
              "              title=\"Convert this dataframe to an interactive table.\"\n",
              "              style=\"display:none;\">\n",
              "        \n",
              "  <svg xmlns=\"http://www.w3.org/2000/svg\" height=\"24px\"viewBox=\"0 0 24 24\"\n",
              "       width=\"24px\">\n",
              "    <path d=\"M0 0h24v24H0V0z\" fill=\"none\"/>\n",
              "    <path d=\"M18.56 5.44l.94 2.06.94-2.06 2.06-.94-2.06-.94-.94-2.06-.94 2.06-2.06.94zm-11 1L8.5 8.5l.94-2.06 2.06-.94-2.06-.94L8.5 2.5l-.94 2.06-2.06.94zm10 10l.94 2.06.94-2.06 2.06-.94-2.06-.94-.94-2.06-.94 2.06-2.06.94z\"/><path d=\"M17.41 7.96l-1.37-1.37c-.4-.4-.92-.59-1.43-.59-.52 0-1.04.2-1.43.59L10.3 9.45l-7.72 7.72c-.78.78-.78 2.05 0 2.83L4 21.41c.39.39.9.59 1.41.59.51 0 1.02-.2 1.41-.59l7.78-7.78 2.81-2.81c.8-.78.8-2.07 0-2.86zM5.41 20L4 18.59l7.72-7.72 1.47 1.35L5.41 20z\"/>\n",
              "  </svg>\n",
              "      </button>\n",
              "      \n",
              "  <style>\n",
              "    .colab-df-container {\n",
              "      display:flex;\n",
              "      flex-wrap:wrap;\n",
              "      gap: 12px;\n",
              "    }\n",
              "\n",
              "    .colab-df-convert {\n",
              "      background-color: #E8F0FE;\n",
              "      border: none;\n",
              "      border-radius: 50%;\n",
              "      cursor: pointer;\n",
              "      display: none;\n",
              "      fill: #1967D2;\n",
              "      height: 32px;\n",
              "      padding: 0 0 0 0;\n",
              "      width: 32px;\n",
              "    }\n",
              "\n",
              "    .colab-df-convert:hover {\n",
              "      background-color: #E2EBFA;\n",
              "      box-shadow: 0px 1px 2px rgba(60, 64, 67, 0.3), 0px 1px 3px 1px rgba(60, 64, 67, 0.15);\n",
              "      fill: #174EA6;\n",
              "    }\n",
              "\n",
              "    [theme=dark] .colab-df-convert {\n",
              "      background-color: #3B4455;\n",
              "      fill: #D2E3FC;\n",
              "    }\n",
              "\n",
              "    [theme=dark] .colab-df-convert:hover {\n",
              "      background-color: #434B5C;\n",
              "      box-shadow: 0px 1px 3px 1px rgba(0, 0, 0, 0.15);\n",
              "      filter: drop-shadow(0px 1px 2px rgba(0, 0, 0, 0.3));\n",
              "      fill: #FFFFFF;\n",
              "    }\n",
              "  </style>\n",
              "\n",
              "      <script>\n",
              "        const buttonEl =\n",
              "          document.querySelector('#df-916c0cf8-5b35-4af4-8b82-96a288899c30 button.colab-df-convert');\n",
              "        buttonEl.style.display =\n",
              "          google.colab.kernel.accessAllowed ? 'block' : 'none';\n",
              "\n",
              "        async function convertToInteractive(key) {\n",
              "          const element = document.querySelector('#df-916c0cf8-5b35-4af4-8b82-96a288899c30');\n",
              "          const dataTable =\n",
              "            await google.colab.kernel.invokeFunction('convertToInteractive',\n",
              "                                                     [key], {});\n",
              "          if (!dataTable) return;\n",
              "\n",
              "          const docLinkHtml = 'Like what you see? Visit the ' +\n",
              "            '<a target=\"_blank\" href=https://colab.research.google.com/notebooks/data_table.ipynb>data table notebook</a>'\n",
              "            + ' to learn more about interactive tables.';\n",
              "          element.innerHTML = '';\n",
              "          dataTable['output_type'] = 'display_data';\n",
              "          await google.colab.output.renderOutput(dataTable, element);\n",
              "          const docLink = document.createElement('div');\n",
              "          docLink.innerHTML = docLinkHtml;\n",
              "          element.appendChild(docLink);\n",
              "        }\n",
              "      </script>\n",
              "    </div>\n",
              "  </div>\n",
              "  "
            ]
          },
          "metadata": {},
          "execution_count": 52
        }
      ]
    },
    {
      "cell_type": "markdown",
      "metadata": {
        "id": "Q57JmZrzTjAC"
      },
      "source": [
        "### Histograma 1: Análisis por hora de la temperatura."
      ]
    },
    {
      "cell_type": "code",
      "metadata": {
        "id": "9IWP3mAMTjAC",
        "colab": {
          "base_uri": "https://localhost:8080/",
          "height": 282
        },
        "outputId": "c5227b73-001e-44fc-ff3e-6b84f5eefa08"
      },
      "source": [
        "fig, ax = plt.subplots()\n",
        "\n",
        "# Gráfico del histograma\n",
        "df['hour_min_t'].plot(kind = 'hist', ax=ax, edgecolor='black', color='skyblue', bins = range(0, 25))\n",
        "\n",
        "# # Gráfico de la estimativa de la densidad del kernel en el mismo gráfico sobre el mismo gráfico\n",
        "# ax2 = df['hour_min_t'].plot(kind='kde', secondary_y=True, ax=ax, color='red')\n",
        "# ax2.set_ylabel(\"Densidad\")\n",
        "\n",
        "ax.set_ylim(0)\n",
        "ax.set_xlim(-1, 25)\n",
        "ax.grid(True)\n",
        "ax.set_xlabel(\"Hora\")\n",
        "ax.set_xticks(range(0, 25, 3))\n",
        "ax.set_ylabel(\"Número de eventos\")\n",
        "plt.savefig(PATH_DRIVE + PATH_FIGURE + 'Histograma_hora_Temp.png', format='png')"
      ],
      "execution_count": null,
      "outputs": [
        {
          "output_type": "display_data",
          "data": {
            "text/plain": [
              "<Figure size 432x288 with 1 Axes>"
            ],
            "image/png": "[encoded data removed]"
          },
          "metadata": {
            "needs_background": "light"
          }
        }
      ]
    },
    {
      "cell_type": "markdown",
      "metadata": {
        "id": "2MafVbnWTjAX"
      },
      "source": [
        "### Histograma 2: Análisis por mes de la temperatura."
      ]
    },
    {
      "cell_type": "code",
      "metadata": {
        "id": "-b6_FVFCTjAZ",
        "colab": {
          "base_uri": "https://localhost:8080/",
          "height": 327
        },
        "outputId": "8d525e5b-886e-451b-961c-b9d6486f7c50"
      },
      "source": [
        "fig, ax = plt.subplots()\n",
        "\n",
        "# Gráfico del histograma\n",
        "df['month_min_t'].plot(kind = 'hist', ax=ax, edgecolor='black', color='skyblue', bins = range(0,14), align='left')\n",
        "\n",
        "# # Gráfico de la estimativa de la densidad del kernel en el mismo gráfico sobre el mismo gráfico\n",
        "# ax2 = df['month_min_t'].plot(kind='kde', secondary_y=True, ax=ax, color='red')\n",
        "# ax2.set_ylabel(\"Densidad\")\n",
        "\n",
        "ax.set_ylim(0)\n",
        "ax.set_xlim(0, 13)\n",
        "# bins_labels(range(0,14), 20)\n",
        "ax.grid(True)\n",
        "ax.set_xlabel(\"Mes\")\n",
        "ax.set_xticks(range(1, 13, 1))\n",
        "Meses = ['Enero', 'Febrero', \n",
        "         'Marzo', 'Abril', \n",
        "         'Mayo', 'Junio', \n",
        "         'Julio', 'Agosto', \n",
        "         'Septiembre', 'Octubre', \n",
        "         'Noviembre', 'Diciembre']\n",
        "ax.set_xticklabels(Meses, rotation=75)\n",
        "ax.set_ylabel(\"Número de eventos\")\n",
        "plt.savefig(PATH_DRIVE + PATH_FIGURE + 'Histograma_mes_Temp.png', format='png')"
      ],
      "execution_count": null,
      "outputs": [
        {
          "output_type": "display_data",
          "data": {
            "text/plain": [
              "<Figure size 432x288 with 1 Axes>"
            ],
            "image/png": "[encoded data removed]"
          },
          "metadata": {
            "needs_background": "light"
          }
        }
      ]
    },
    {
      "cell_type": "markdown",
      "metadata": {
        "id": "yQCWUFPKTjAa"
      },
      "source": [
        "### Histograma 3: Análisis por hora de la disminución de temperatura."
      ]
    },
    {
      "cell_type": "code",
      "metadata": {
        "id": "UBgl7j9XTjAa",
        "colab": {
          "base_uri": "https://localhost:8080/",
          "height": 279
        },
        "outputId": "2a424d91-9add-47d9-e7a7-e06b3a5cf32c"
      },
      "source": [
        "fig, ax = plt.subplots()\n",
        "\n",
        "# Gráfico del histograma\n",
        "df['hour_max_dt'].plot(kind = 'hist', ax=ax, edgecolor='black', color='skyblue', bins = range(0, 25))\n",
        "\n",
        "# # Gráfico de la estimativa de la densidad del kernel en el mismo gráfico sobre el mismo gráfico\n",
        "# ax2 = df['hour_max_dt'].plot(kind='kde', secondary_y=True, ax=ax, color='red')\n",
        "# ax2.set_ylabel(\"Densidad\")\n",
        "\n",
        "ax.set_ylim(0)\n",
        "ax.set_xlim(-1, 25)\n",
        "ax.grid(True)\n",
        "ax.set_xlabel(\"Hora\")\n",
        "ax.set_ylabel(\"Número de eventos\")\n",
        "ax.set_xticks(range(0, 25, 3))\n",
        "plt.savefig(PATH_DRIVE + PATH_FIGURE + 'Histograma_hora_dism.png', format='png')"
      ],
      "execution_count": null,
      "outputs": [
        {
          "output_type": "display_data",
          "data": {
            "image/png": "[encoded data removed]",
            "text/plain": [
              "<Figure size 432x288 with 1 Axes>"
            ]
          },
          "metadata": {
            "tags": [],
            "needs_background": "light"
          }
        }
      ]
    },
    {
      "cell_type": "markdown",
      "metadata": {
        "id": "9VSuoIYLTjAb"
      },
      "source": [
        "### Histograma 4: Análisis por mes de la disminución de temperatura."
      ]
    },
    {
      "cell_type": "code",
      "metadata": {
        "id": "6dfC6cFNTjAc",
        "colab": {
          "base_uri": "https://localhost:8080/",
          "height": 327
        },
        "outputId": "db63b9ac-5404-4c41-97b2-6b34e05b90ba"
      },
      "source": [
        "fig, ax = plt.subplots()\n",
        "\n",
        "# Gráfico del histograma\n",
        "df['month_max_dt'].plot(kind = 'hist', ax=ax, edgecolor='black', color='skyblue', bins = range(0,14), align='left')\n",
        "\n",
        "# # Gráfico de la estimativa de la densidad del kernel en el mismo gráfico sobre el mismo gráfico\n",
        "# ax2 = df['month_max_dt'].plot(kind='kde', secondary_y=True, ax=ax, color='red')\n",
        "# ax2.set_ylabel(\"Densidad\")\n",
        "\n",
        "ax.set_ylim(0)\n",
        "ax.set_xlim(0, 13)\n",
        "ax.grid(True)\n",
        "ax.set_xlabel(\"Mes\")\n",
        "ax.set_xticks(range(1, 13, 1))\n",
        "Meses = ['Enero', 'Febrero', \n",
        "         'Marzo', 'Abril', \n",
        "         'Mayo', 'Junio', \n",
        "         'Julio', 'Agosto', \n",
        "         'Septiembre', 'Octubre', \n",
        "         'Noviembre', 'Diciembre']\n",
        "ax.set_xticklabels(Meses, rotation=75)\n",
        "ax.set_ylabel(\"Número de eventos\")\n",
        "plt.savefig(PATH_DRIVE + PATH_FIGURE + 'Histograma_mes_dism.png', format='png')"
      ],
      "execution_count": null,
      "outputs": [
        {
          "output_type": "display_data",
          "data": {
            "text/plain": [
              "<Figure size 432x288 with 1 Axes>"
            ],
            "image/png": "[encoded data removed]"
          },
          "metadata": {
            "needs_background": "light"
          }
        }
      ]
    },
    {
      "cell_type": "markdown",
      "metadata": {
        "id": "T6KK-LaSTyfm"
      },
      "source": [
        "# **Histogramas en horario nocturno (20h hasta 06h)**\n",
        "\n",
        "\n"
      ]
    },
    {
      "cell_type": "code",
      "metadata": {
        "id": "w-XUwDqcVGJk"
      },
      "source": [
        "df_nocturno = df.loc[(df['hour_min_t'] >= 20) | (df['hour_min_t'] < 6)]"
      ],
      "execution_count": 7,
      "outputs": []
    },
    {
      "cell_type": "code",
      "metadata": {
        "id": "yB9ChK8LVBDj",
        "colab": {
          "base_uri": "https://localhost:8080/",
          "height": 343
        },
        "outputId": "5c3e5b29-14cb-4586-fe23-f32321be384d"
      },
      "source": [
        "fig, ax = plt.subplots()\n",
        "\n",
        "# Gráfico del histograma\n",
        "df_nocturno['month_min_t'].plot(kind = 'hist', ax=ax, edgecolor='black', color='skyblue', bins = range(0,14), align='left')\n",
        "\n",
        "# Gráfico de la estimativa de la densidad del kernel en el mismo gráfico sobre el mismo gráfico\n",
        "\n",
        "ax.set_ylim(0)\n",
        "ax.set_xlim(0, 13)\n",
        "# bins_labels(range(0,14), 20)\n",
        "ax.grid(True)\n",
        "ax.set_xlabel(\"Mes\")\n",
        "ax.set_title('Eventos Nocturnos')\n",
        "ax.set_xticks(range(1, 13, 1))\n",
        "#ax.set_yticks(range(0, 250,1))\n",
        "ax.set_ylim(0,250)\n",
        "Meses = ['Enero', 'Febrero', \n",
        "         'Marzo', 'Abril', \n",
        "         'Mayo', 'Junio', \n",
        "         'Julio', 'Agosto', \n",
        "         'Septiembre', 'Octubre', \n",
        "         'Noviembre', 'Diciembre']\n",
        "ax.set_xticklabels(Meses, rotation=75)\n",
        "ax.set_ylabel(\"Número de eventos\")\n",
        "plt.savefig(PATH_DRIVE + PATH_FIGURE + 'Histograma_mes_Temp_nocturno.png', format='png')"
      ],
      "execution_count": 19,
      "outputs": [
        {
          "output_type": "display_data",
          "data": {
            "text/plain": [
              "<Figure size 432x288 with 1 Axes>"
            ],
            "image/png": "[encoded data removed]"
          },
          "metadata": {
            "needs_background": "light"
          }
        }
      ]
    },
    {
      "cell_type": "code",
      "metadata": {
        "colab": {
          "base_uri": "https://localhost:8080/",
          "height": 419
        },
        "id": "Tscw48rdEw8M",
        "outputId": "31e4d065-878b-4da8-8459-dd5c5c12a2ef"
      },
      "source": [
        "df_nocturno"
      ],
      "execution_count": null,
      "outputs": [
        {
          "output_type": "execute_result",
          "data": {
            "text/html": [
              "<div>\n",
              "<style scoped>\n",
              "    .dataframe tbody tr th:only-of-type {\n",
              "        vertical-align: middle;\n",
              "    }\n",
              "\n",
              "    .dataframe tbody tr th {\n",
              "        vertical-align: top;\n",
              "    }\n",
              "\n",
              "    .dataframe thead th {\n",
              "        text-align: right;\n",
              "    }\n",
              "</style>\n",
              "<table border=\"1\" class=\"dataframe\">\n",
              "  <thead>\n",
              "    <tr style=\"text-align: right;\">\n",
              "      <th></th>\n",
              "      <th>date_min_t</th>\n",
              "      <th>lon_t</th>\n",
              "      <th>lat_t</th>\n",
              "      <th>min_t</th>\n",
              "      <th>date_max_dt</th>\n",
              "      <th>lon_dt</th>\n",
              "      <th>lat_dt</th>\n",
              "      <th>max_dt</th>\n",
              "      <th>hour_min_t</th>\n",
              "      <th>month_min_t</th>\n",
              "      <th>hour_max_dt</th>\n",
              "      <th>month_max_dt</th>\n",
              "    </tr>\n",
              "  </thead>\n",
              "  <tbody>\n",
              "    <tr>\n",
              "      <th>2</th>\n",
              "      <td>2011-01-07 00:45:00-05:00</td>\n",
              "      <td>-74.121</td>\n",
              "      <td>7.201</td>\n",
              "      <td>216.0</td>\n",
              "      <td>2011-01-07 00:15:00-05:00</td>\n",
              "      <td>-73.979</td>\n",
              "      <td>7.344</td>\n",
              "      <td>-66.8</td>\n",
              "      <td>0</td>\n",
              "      <td>1</td>\n",
              "      <td>0</td>\n",
              "      <td>1</td>\n",
              "    </tr>\n",
              "    <tr>\n",
              "      <th>6</th>\n",
              "      <td>2011-01-08 01:45:00-05:00</td>\n",
              "      <td>-74.836</td>\n",
              "      <td>5.770</td>\n",
              "      <td>213.6</td>\n",
              "      <td>2011-01-07 21:15:00-05:00</td>\n",
              "      <td>-74.836</td>\n",
              "      <td>4.912</td>\n",
              "      <td>-54.4</td>\n",
              "      <td>1</td>\n",
              "      <td>1</td>\n",
              "      <td>21</td>\n",
              "      <td>1</td>\n",
              "    </tr>\n",
              "    <tr>\n",
              "      <th>9</th>\n",
              "      <td>2011-01-10 01:45:00-05:00</td>\n",
              "      <td>-73.979</td>\n",
              "      <td>7.201</td>\n",
              "      <td>221.5</td>\n",
              "      <td>2011-01-10 00:45:00-05:00</td>\n",
              "      <td>-73.979</td>\n",
              "      <td>7.201</td>\n",
              "      <td>-63.0</td>\n",
              "      <td>1</td>\n",
              "      <td>1</td>\n",
              "      <td>0</td>\n",
              "      <td>1</td>\n",
              "    </tr>\n",
              "    <tr>\n",
              "      <th>12</th>\n",
              "      <td>2011-01-15 00:15:00-05:00</td>\n",
              "      <td>-74.836</td>\n",
              "      <td>5.627</td>\n",
              "      <td>206.7</td>\n",
              "      <td>2011-01-14 22:45:00-05:00</td>\n",
              "      <td>-74.836</td>\n",
              "      <td>5.627</td>\n",
              "      <td>-75.9</td>\n",
              "      <td>0</td>\n",
              "      <td>1</td>\n",
              "      <td>22</td>\n",
              "      <td>1</td>\n",
              "    </tr>\n",
              "    <tr>\n",
              "      <th>14</th>\n",
              "      <td>2011-01-17 00:15:00-05:00</td>\n",
              "      <td>-73.693</td>\n",
              "      <td>7.487</td>\n",
              "      <td>209.9</td>\n",
              "      <td>2011-01-16 23:15:00-05:00</td>\n",
              "      <td>-73.693</td>\n",
              "      <td>7.487</td>\n",
              "      <td>-74.3</td>\n",
              "      <td>0</td>\n",
              "      <td>1</td>\n",
              "      <td>23</td>\n",
              "      <td>1</td>\n",
              "    </tr>\n",
              "    <tr>\n",
              "      <th>...</th>\n",
              "      <td>...</td>\n",
              "      <td>...</td>\n",
              "      <td>...</td>\n",
              "      <td>...</td>\n",
              "      <td>...</td>\n",
              "      <td>...</td>\n",
              "      <td>...</td>\n",
              "      <td>...</td>\n",
              "      <td>...</td>\n",
              "      <td>...</td>\n",
              "      <td>...</td>\n",
              "      <td>...</td>\n",
              "    </tr>\n",
              "    <tr>\n",
              "      <th>2797</th>\n",
              "      <td>2017-12-28 23:45:00-05:00</td>\n",
              "      <td>-74.836</td>\n",
              "      <td>5.484</td>\n",
              "      <td>202.5</td>\n",
              "      <td>2017-12-28 23:45:00-05:00</td>\n",
              "      <td>-74.693</td>\n",
              "      <td>5.484</td>\n",
              "      <td>-72.2</td>\n",
              "      <td>23</td>\n",
              "      <td>12</td>\n",
              "      <td>23</td>\n",
              "      <td>12</td>\n",
              "    </tr>\n",
              "    <tr>\n",
              "      <th>2799</th>\n",
              "      <td>2017-12-30 02:45:00-05:00</td>\n",
              "      <td>-74.121</td>\n",
              "      <td>6.485</td>\n",
              "      <td>207.4</td>\n",
              "      <td>2017-12-30 01:45:00-05:00</td>\n",
              "      <td>-74.121</td>\n",
              "      <td>6.485</td>\n",
              "      <td>-71.2</td>\n",
              "      <td>2</td>\n",
              "      <td>12</td>\n",
              "      <td>1</td>\n",
              "      <td>12</td>\n",
              "    </tr>\n",
              "    <tr>\n",
              "      <th>2800</th>\n",
              "      <td>2017-12-30 05:45:00-05:00</td>\n",
              "      <td>-73.979</td>\n",
              "      <td>6.915</td>\n",
              "      <td>208.9</td>\n",
              "      <td>2017-12-30 03:45:00-05:00</td>\n",
              "      <td>-73.550</td>\n",
              "      <td>6.772</td>\n",
              "      <td>-60.4</td>\n",
              "      <td>5</td>\n",
              "      <td>12</td>\n",
              "      <td>3</td>\n",
              "      <td>12</td>\n",
              "    </tr>\n",
              "    <tr>\n",
              "      <th>2803</th>\n",
              "      <td>2017-12-31 01:15:00-05:00</td>\n",
              "      <td>-73.693</td>\n",
              "      <td>7.630</td>\n",
              "      <td>221.1</td>\n",
              "      <td>2017-12-31 00:15:00-05:00</td>\n",
              "      <td>-73.693</td>\n",
              "      <td>7.630</td>\n",
              "      <td>-59.6</td>\n",
              "      <td>1</td>\n",
              "      <td>12</td>\n",
              "      <td>0</td>\n",
              "      <td>12</td>\n",
              "    </tr>\n",
              "    <tr>\n",
              "      <th>2804</th>\n",
              "      <td>2017-12-31 01:15:00-05:00</td>\n",
              "      <td>-74.264</td>\n",
              "      <td>7.058</td>\n",
              "      <td>225.2</td>\n",
              "      <td>2017-12-31 00:15:00-05:00</td>\n",
              "      <td>-74.264</td>\n",
              "      <td>7.058</td>\n",
              "      <td>-56.9</td>\n",
              "      <td>1</td>\n",
              "      <td>12</td>\n",
              "      <td>0</td>\n",
              "      <td>12</td>\n",
              "    </tr>\n",
              "  </tbody>\n",
              "</table>\n",
              "<p>1722 rows × 12 columns</p>\n",
              "</div>"
            ],
            "text/plain": [
              "                    date_min_t   lon_t  ...  hour_max_dt  month_max_dt\n",
              "2    2011-01-07 00:45:00-05:00 -74.121  ...            0             1\n",
              "6    2011-01-08 01:45:00-05:00 -74.836  ...           21             1\n",
              "9    2011-01-10 01:45:00-05:00 -73.979  ...            0             1\n",
              "12   2011-01-15 00:15:00-05:00 -74.836  ...           22             1\n",
              "14   2011-01-17 00:15:00-05:00 -73.693  ...           23             1\n",
              "...                        ...     ...  ...          ...           ...\n",
              "2797 2017-12-28 23:45:00-05:00 -74.836  ...           23            12\n",
              "2799 2017-12-30 02:45:00-05:00 -74.121  ...            1            12\n",
              "2800 2017-12-30 05:45:00-05:00 -73.979  ...            3            12\n",
              "2803 2017-12-31 01:15:00-05:00 -73.693  ...            0            12\n",
              "2804 2017-12-31 01:15:00-05:00 -74.264  ...            0            12\n",
              "\n",
              "[1722 rows x 12 columns]"
            ]
          },
          "metadata": {
            "tags": []
          },
          "execution_count": 17
        }
      ]
    },
    {
      "cell_type": "code",
      "metadata": {
        "id": "VwttJddPEzlF"
      },
      "source": [
        ""
      ],
      "execution_count": null,
      "outputs": []
    },
    {
      "cell_type": "markdown",
      "metadata": {
        "id": "FTehhleRZF2s"
      },
      "source": [
        "# **Histogramas en horario diurno (06h hasta 20h)**\n",
        "\n"
      ]
    },
    {
      "cell_type": "code",
      "metadata": {
        "id": "FlP-BBNaZGwa"
      },
      "source": [
        "df_diurno = df.loc[(df['hour_min_t'] >= 6) & (df['hour_min_t'] < 20)]"
      ],
      "execution_count": 9,
      "outputs": []
    },
    {
      "cell_type": "code",
      "metadata": {
        "id": "SLJPm1wrZoKj",
        "colab": {
          "base_uri": "https://localhost:8080/",
          "height": 343
        },
        "outputId": "7b4fa8d9-8f2e-4d77-bfef-2f6798f1ac99"
      },
      "source": [
        "fig, ax = plt.subplots()\n",
        "\n",
        "# Gráfico del histograma\n",
        "df_diurno['month_min_t'].plot(kind = 'hist', ax=ax, edgecolor='black', color='skyblue', bins = range(0,14), align='left')\n",
        "\n",
        "# Gráfico de la estimativa de la densidad del kernel en el mismo gráfico sobre el mismo gráfico\n",
        "\n",
        "ax.set_ylim(0)\n",
        "ax.set_xlim(0, 13)\n",
        "# bins_labels(range(0,14), 20)\n",
        "ax.grid(True)\n",
        "ax.set_xlabel(\"Mes\")\n",
        "ax.set_title('Eventos Diurnos')\n",
        "ax.set_xticks(range(1, 13, 1))\n",
        "ax.set_ylim(0,250)\n",
        "Meses = ['Enero', 'Febrero', \n",
        "         'Marzo', 'Abril', \n",
        "         'Mayo', 'Junio', \n",
        "         'Julio', 'Agosto', \n",
        "         'Septiembre', 'Octubre', \n",
        "         'Noviembre', 'Diciembre']\n",
        "ax.set_xticklabels(Meses, rotation=75)\n",
        "ax.set_ylabel(\"Número de eventos\")\n",
        "plt.savefig(PATH_DRIVE + PATH_FIGURE + 'Histograma_mes_Temp_diurno.png', format='png')"
      ],
      "execution_count": 20,
      "outputs": [
        {
          "output_type": "display_data",
          "data": {
            "text/plain": [
              "<Figure size 432x288 with 1 Axes>"
            ],
            "image/png": "[encoded data removed]"
          },
          "metadata": {
            "needs_background": "light"
          }
        }
      ]
    },
    {
      "cell_type": "code",
      "metadata": {
        "colab": {
          "base_uri": "https://localhost:8080/",
          "height": 419
        },
        "id": "pEg4H3qPE3S-",
        "outputId": "63bb8c6c-0d07-47d8-b533-211a942591b5"
      },
      "source": [
        "df_diurno"
      ],
      "execution_count": null,
      "outputs": [
        {
          "output_type": "execute_result",
          "data": {
            "text/html": [
              "<div>\n",
              "<style scoped>\n",
              "    .dataframe tbody tr th:only-of-type {\n",
              "        vertical-align: middle;\n",
              "    }\n",
              "\n",
              "    .dataframe tbody tr th {\n",
              "        vertical-align: top;\n",
              "    }\n",
              "\n",
              "    .dataframe thead th {\n",
              "        text-align: right;\n",
              "    }\n",
              "</style>\n",
              "<table border=\"1\" class=\"dataframe\">\n",
              "  <thead>\n",
              "    <tr style=\"text-align: right;\">\n",
              "      <th></th>\n",
              "      <th>date_min_t</th>\n",
              "      <th>lon_t</th>\n",
              "      <th>lat_t</th>\n",
              "      <th>min_t</th>\n",
              "      <th>date_max_dt</th>\n",
              "      <th>lon_dt</th>\n",
              "      <th>lat_dt</th>\n",
              "      <th>max_dt</th>\n",
              "      <th>hour_min_t</th>\n",
              "      <th>month_min_t</th>\n",
              "      <th>hour_max_dt</th>\n",
              "      <th>month_max_dt</th>\n",
              "    </tr>\n",
              "  </thead>\n",
              "  <tbody>\n",
              "    <tr>\n",
              "      <th>0</th>\n",
              "      <td>2011-01-03 17:45:00-05:00</td>\n",
              "      <td>-73.693</td>\n",
              "      <td>6.915</td>\n",
              "      <td>211.9</td>\n",
              "      <td>2011-01-03 16:15:00-05:00</td>\n",
              "      <td>-73.836</td>\n",
              "      <td>6.915</td>\n",
              "      <td>-61.6</td>\n",
              "      <td>17</td>\n",
              "      <td>1</td>\n",
              "      <td>16</td>\n",
              "      <td>1</td>\n",
              "    </tr>\n",
              "    <tr>\n",
              "      <th>1</th>\n",
              "      <td>2011-01-04 18:15:00-05:00</td>\n",
              "      <td>-74.407</td>\n",
              "      <td>6.915</td>\n",
              "      <td>227.8</td>\n",
              "      <td>2011-01-04 17:15:00-05:00</td>\n",
              "      <td>-74.407</td>\n",
              "      <td>6.915</td>\n",
              "      <td>-64.1</td>\n",
              "      <td>18</td>\n",
              "      <td>1</td>\n",
              "      <td>17</td>\n",
              "      <td>1</td>\n",
              "    </tr>\n",
              "    <tr>\n",
              "      <th>3</th>\n",
              "      <td>2011-01-07 12:45:00-05:00</td>\n",
              "      <td>-74.836</td>\n",
              "      <td>5.055</td>\n",
              "      <td>229.9</td>\n",
              "      <td>2011-01-07 11:45:00-05:00</td>\n",
              "      <td>-74.836</td>\n",
              "      <td>5.055</td>\n",
              "      <td>-50.3</td>\n",
              "      <td>12</td>\n",
              "      <td>1</td>\n",
              "      <td>11</td>\n",
              "      <td>1</td>\n",
              "    </tr>\n",
              "    <tr>\n",
              "      <th>4</th>\n",
              "      <td>2011-01-07 16:15:00-05:00</td>\n",
              "      <td>-73.264</td>\n",
              "      <td>7.487</td>\n",
              "      <td>205.6</td>\n",
              "      <td>2011-01-07 16:45:00-05:00</td>\n",
              "      <td>-74.264</td>\n",
              "      <td>6.915</td>\n",
              "      <td>-76.6</td>\n",
              "      <td>16</td>\n",
              "      <td>1</td>\n",
              "      <td>16</td>\n",
              "      <td>1</td>\n",
              "    </tr>\n",
              "    <tr>\n",
              "      <th>5</th>\n",
              "      <td>2011-01-07 17:45:00-05:00</td>\n",
              "      <td>-74.264</td>\n",
              "      <td>7.058</td>\n",
              "      <td>211.8</td>\n",
              "      <td>2011-01-07 16:45:00-05:00</td>\n",
              "      <td>-74.264</td>\n",
              "      <td>7.058</td>\n",
              "      <td>-71.8</td>\n",
              "      <td>17</td>\n",
              "      <td>1</td>\n",
              "      <td>16</td>\n",
              "      <td>1</td>\n",
              "    </tr>\n",
              "    <tr>\n",
              "      <th>...</th>\n",
              "      <td>...</td>\n",
              "      <td>...</td>\n",
              "      <td>...</td>\n",
              "      <td>...</td>\n",
              "      <td>...</td>\n",
              "      <td>...</td>\n",
              "      <td>...</td>\n",
              "      <td>...</td>\n",
              "      <td>...</td>\n",
              "      <td>...</td>\n",
              "      <td>...</td>\n",
              "      <td>...</td>\n",
              "    </tr>\n",
              "    <tr>\n",
              "      <th>2788</th>\n",
              "      <td>2017-12-07 17:15:00-05:00</td>\n",
              "      <td>-73.407</td>\n",
              "      <td>7.916</td>\n",
              "      <td>212.7</td>\n",
              "      <td>2017-12-07 15:15:00-05:00</td>\n",
              "      <td>-73.264</td>\n",
              "      <td>8.059</td>\n",
              "      <td>-72.4</td>\n",
              "      <td>17</td>\n",
              "      <td>12</td>\n",
              "      <td>15</td>\n",
              "      <td>12</td>\n",
              "    </tr>\n",
              "    <tr>\n",
              "      <th>2791</th>\n",
              "      <td>2017-12-09 18:45:00-05:00</td>\n",
              "      <td>-73.693</td>\n",
              "      <td>6.915</td>\n",
              "      <td>215.4</td>\n",
              "      <td>2017-12-09 17:45:00-05:00</td>\n",
              "      <td>-73.693</td>\n",
              "      <td>6.915</td>\n",
              "      <td>-78.8</td>\n",
              "      <td>18</td>\n",
              "      <td>12</td>\n",
              "      <td>17</td>\n",
              "      <td>12</td>\n",
              "    </tr>\n",
              "    <tr>\n",
              "      <th>2798</th>\n",
              "      <td>2017-12-29 08:15:00-05:00</td>\n",
              "      <td>-73.693</td>\n",
              "      <td>6.628</td>\n",
              "      <td>207.5</td>\n",
              "      <td>2017-12-29 03:45:00-05:00</td>\n",
              "      <td>-73.550</td>\n",
              "      <td>7.058</td>\n",
              "      <td>-51.3</td>\n",
              "      <td>8</td>\n",
              "      <td>12</td>\n",
              "      <td>3</td>\n",
              "      <td>12</td>\n",
              "    </tr>\n",
              "    <tr>\n",
              "      <th>2801</th>\n",
              "      <td>2017-12-30 15:45:00-05:00</td>\n",
              "      <td>-73.693</td>\n",
              "      <td>8.059</td>\n",
              "      <td>225.4</td>\n",
              "      <td>2017-12-30 14:15:00-05:00</td>\n",
              "      <td>-73.693</td>\n",
              "      <td>8.059</td>\n",
              "      <td>-62.5</td>\n",
              "      <td>15</td>\n",
              "      <td>12</td>\n",
              "      <td>14</td>\n",
              "      <td>12</td>\n",
              "    </tr>\n",
              "    <tr>\n",
              "      <th>2802</th>\n",
              "      <td>2017-12-30 18:45:00-05:00</td>\n",
              "      <td>-73.979</td>\n",
              "      <td>7.916</td>\n",
              "      <td>222.9</td>\n",
              "      <td>2017-12-30 18:15:00-05:00</td>\n",
              "      <td>-73.979</td>\n",
              "      <td>7.916</td>\n",
              "      <td>-54.6</td>\n",
              "      <td>18</td>\n",
              "      <td>12</td>\n",
              "      <td>18</td>\n",
              "      <td>12</td>\n",
              "    </tr>\n",
              "  </tbody>\n",
              "</table>\n",
              "<p>1083 rows × 12 columns</p>\n",
              "</div>"
            ],
            "text/plain": [
              "                    date_min_t   lon_t  ...  hour_max_dt  month_max_dt\n",
              "0    2011-01-03 17:45:00-05:00 -73.693  ...           16             1\n",
              "1    2011-01-04 18:15:00-05:00 -74.407  ...           17             1\n",
              "3    2011-01-07 12:45:00-05:00 -74.836  ...           11             1\n",
              "4    2011-01-07 16:15:00-05:00 -73.264  ...           16             1\n",
              "5    2011-01-07 17:45:00-05:00 -74.264  ...           16             1\n",
              "...                        ...     ...  ...          ...           ...\n",
              "2788 2017-12-07 17:15:00-05:00 -73.407  ...           15            12\n",
              "2791 2017-12-09 18:45:00-05:00 -73.693  ...           17            12\n",
              "2798 2017-12-29 08:15:00-05:00 -73.693  ...            3            12\n",
              "2801 2017-12-30 15:45:00-05:00 -73.693  ...           14            12\n",
              "2802 2017-12-30 18:45:00-05:00 -73.979  ...           18            12\n",
              "\n",
              "[1083 rows x 12 columns]"
            ]
          },
          "metadata": {
            "tags": []
          },
          "execution_count": 25
        }
      ]
    },
    {
      "cell_type": "code",
      "metadata": {
        "id": "V6wyCsGlE4wl"
      },
      "source": [
        ""
      ],
      "execution_count": null,
      "outputs": []
    }
  ]
}