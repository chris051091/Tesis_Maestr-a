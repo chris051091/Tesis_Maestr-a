{
  "nbformat": 4,
  "nbformat_minor": 0,
  "metadata": {
    "colab": {
      "provenance": [],
      "include_colab_link": true
    },
    "kernelspec": {
      "name": "python3",
      "display_name": "Python 3"
    },
    "language_info": {
      "name": "python"
    }
  },
  "cells": [
    {
      "cell_type": "markdown",
      "metadata": {
        "id": "view-in-github",
        "colab_type": "text"
      },
      "source": [
        "<a href=\"https://colab.research.google.com/github/chris051091/Seminario-3/blob/master/distribucion_eventos/src/Distribuci%C3%B3n_eventos_20h_7h.ipynb\" target=\"_parent\"><img src=\"https://colab.research.google.com/assets/colab-badge.svg\" alt=\"Open In Colab\"/></a>"
      ]
    },
    {
      "cell_type": "code",
      "metadata": {
        "colab": {
          "base_uri": "https://localhost:8080/"
        },
        "id": "cAy3WvaWla7Y",
        "outputId": "6dc898d0-116a-4482-d532-5d2d940530e2"
      },
      "source": [
        "import pandas as pd\n",
        "import numpy as np\n",
        "import os\n",
        "import matplotlib.pyplot as plt\n",
        "import io\n",
        "from datetime import timedelta, time, datetime\n",
        "\n",
        "from google.colab import drive\n",
        "drive.mount('/content/drive')\n",
        "\n",
        "%matplotlib inline"
      ],
      "execution_count": 1,
      "outputs": [
        {
          "output_type": "stream",
          "name": "stdout",
          "text": [
            "Mounted at /content/drive\n"
          ]
        }
      ]
    },
    {
      "cell_type": "code",
      "metadata": {
        "id": "APuF7Ew7lt6F"
      },
      "source": [
        "PATH_DRIVE = 'drive/MyDrive/Seminario-3-master'\n",
        "PATH_DADOS = '/dados/'\n",
        "PATH_FIGURE = '/figure/'\n",
        "FILE_PALANQUERO = 'eventos_palanquero_2.csv'\n",
        "FILE_VIZCAINA = 'eventos_vizcaina_2.csv'"
      ],
      "execution_count": 2,
      "outputs": []
    },
    {
      "cell_type": "code",
      "metadata": {
        "id": "7Iuy5-0dmRGb"
      },
      "source": [
        "dfPalanquero = pd.read_csv(PATH_DRIVE + PATH_DADOS + FILE_PALANQUERO, \n",
        "                 sep = ';'\n",
        "                )\n",
        "\n",
        "dfPalanquero['FECHA'] = pd.to_datetime(dfPalanquero['date_min_t'], format='%Y %m %d %H %M').dt.tz_localize('America/Bogota')\n",
        "\n",
        "dfVizcaina = pd.read_csv(PATH_DRIVE + PATH_DADOS + FILE_VIZCAINA, \n",
        "                 sep = ';'\n",
        "                )\n",
        "\n",
        "dfVizcaina['FECHA'] = pd.to_datetime(dfVizcaina['date_min_t'], format='%Y %m %d %H %M').dt.tz_localize('America/Bogota')"
      ],
      "execution_count": 3,
      "outputs": []
    },
    {
      "cell_type": "markdown",
      "metadata": {
        "id": "f-mT9ClgqnRi"
      },
      "source": [
        "## **Analisis de eventos por horas**"
      ]
    },
    {
      "cell_type": "code",
      "metadata": {
        "id": "NMWfQtON3Z7W"
      },
      "source": [
        "def frequency_events(df):\n",
        "  df_ = df.copy()\n",
        "\n",
        "  dfHoras = pd.DataFrame([time(minute = (hora % 4)*15, hour = hora // 4) for hora in range(1, 40, 2)],columns=['HORA_ORD'])\n",
        "\n",
        "  df_['HORA'] = df_['FECHA'].dt.hour.astype(str).str.zfill(2) + \":\" + df_['FECHA'].dt.minute.astype(str)\n",
        "  dfFreq = df_.groupby(['HORA']).size().to_frame().reset_index(drop = False).rename(columns={0: \"Frecuencia\"})\n",
        "  dfFreq['HORA'] = pd.to_datetime(dfFreq['HORA'],format= '%H:%M' )\n",
        "  dfFreq['HORA_ORD'] = (dfFreq['HORA'] - timedelta(hours = 20)).dt.time\n",
        "  dfFreq['HORA'] = dfFreq['HORA'].dt.time.astype(str)\n",
        "  dfFreq = dfFreq.sort_values(by=['HORA_ORD']).reset_index(drop = True)\n",
        "  dfFreq = dfFreq.merge(dfHoras, on=['HORA_ORD'], how='right')\n",
        "  dfFreq['HORA'] = (pd.to_datetime(dfFreq['HORA_ORD'].astype(str)) + timedelta(hours = 20)).dt.time.astype(str)\n",
        "  return dfFreq\n",
        "\n",
        "def hist_hours(df, name_figure):\n",
        "  df_ = df.copy()\n",
        "  df_['HOUR'] = df_['FECHA'].dt.hour\n",
        "  df_['HORA_ORD'] = (df_['FECHA'] - timedelta(hours = 20))\n",
        "  df_['HORA_ORD'] = df_['HORA_ORD'].dt.hour\n",
        "  dfaux = df_[['HOUR', 'HORA_ORD']]\n",
        "  dfaux = dfaux.drop_duplicates().sort_values(by=['HORA_ORD']).reset_index(drop = True)\n",
        "  fig, ax = plt.subplots()\n",
        "  df_['HORA_ORD'].plot(kind='hist', edgecolor='black', color='skyblue', bins = range(0, 12), ax = ax)\n",
        "  ax.set_xticks(range(0,12))\n",
        "  ax.set_xticklabels(list(dfaux['HOUR'].astype(str)) + ['7'])\n",
        "\n",
        "  plt.xlabel('Hora del evento', fontsize= 15)\n",
        "  plt.ylabel('Número de eventos', fontsize= 15)\n",
        "  plt.ylim(0,40)\n",
        "  plt.grid()\n",
        "  plt.savefig(PATH_DRIVE + f'/histograma_eventos_horaria_20h_7h_{name_figure}.png', format='png', bbox_inches = 'tight' )\n",
        "\n",
        "\n",
        "def plot_bar_horarios(df, name_figure):\n",
        "  plt.bar(df['HORA'], df['Frecuencia'])\n",
        "  plt.xticks(rotation = 90, fontsize= 15)\n",
        "  plt.ylim(0,40)\n",
        "  plt.xlabel('Hora del evento', fontsize= 15)\n",
        "  plt.ylabel('Número de eventos', fontsize= 15)\n",
        "  plt.savefig(PATH_DRIVE + f'/distribucion_eventos_horaria_20h_7h_{name_figure}.png', format='png', bbox_inches = 'tight' )"
      ],
      "execution_count": 11,
      "outputs": []
    },
    {
      "cell_type": "code",
      "metadata": {
        "colab": {
          "base_uri": "https://localhost:8080/",
          "height": 617
        },
        "id": "qW7JWWZkmbFI",
        "outputId": "5ee28812-c834-4c58-aad6-950d5b303b0b"
      },
      "source": [
        "dfPal = frequency_events(dfPalanquero)\n",
        "plot_bar_horarios(dfPal, \"palanquero\")\n",
        "hist_hours(dfPalanquero, \"palanquero\")"
      ],
      "execution_count": 12,
      "outputs": [
        {
          "output_type": "display_data",
          "data": {
            "text/plain": [
              "<Figure size 432x288 with 1 Axes>"
            ],
            "image/png": "[encoded data removed]"
          },
          "metadata": {
            "needs_background": "light"
          }
        },
        {
          "output_type": "display_data",
          "data": {
            "text/plain": [
              "<Figure size 432x288 with 1 Axes>"
            ],
            "image/png": "[encoded data removed]"
          },
          "metadata": {
            "needs_background": "light"
          }
        }
      ]
    },
    {
      "cell_type": "code",
      "metadata": {
        "colab": {
          "base_uri": "https://localhost:8080/",
          "height": 617
        },
        "id": "jk_aWAYotGy6",
        "outputId": "03e69e6f-a7f0-4770-8702-fd10188b4364"
      },
      "source": [
        "dfViz = frequency_events(dfVizcaina)\n",
        "plot_bar_horarios(dfViz, \"vizcaina\")\n",
        "hist_hours(dfVizcaina, \"vizcaina\")"
      ],
      "execution_count": 13,
      "outputs": [
        {
          "output_type": "display_data",
          "data": {
            "text/plain": [
              "<Figure size 432x288 with 1 Axes>"
            ],
            "image/png": "[encoded data removed]"
          },
          "metadata": {
            "needs_background": "light"
          }
        },
        {
          "output_type": "display_data",
          "data": {
            "text/plain": [
              "<Figure size 432x288 with 1 Axes>"
            ],
            "image/png": "[encoded data removed]"
          },
          "metadata": {
            "needs_background": "light"
          }
        }
      ]
    },
    {
      "cell_type": "markdown",
      "metadata": {
        "id": "EwT5IWdP5L3V"
      },
      "source": [
        "## **Comparar fechas entre eventos**"
      ]
    },
    {
      "cell_type": "code",
      "metadata": {
        "id": "q6Fg4BNH5lg9",
        "colab": {
          "base_uri": "https://localhost:8080/",
          "height": 206
        },
        "outputId": "b1750eb9-f06f-486a-f28f-62cccb1b43b2"
      },
      "source": [
        "dfPalanquero['HORA_CORRIDA'] = dfPalanquero['FECHA'] - timedelta(hours=20)\n",
        "dfVizcaina['HORA_CORRIDA'] = dfVizcaina['FECHA'] - timedelta(hours=20)\n",
        "dfPalanquero['date'] = dfPalanquero['HORA_CORRIDA'].dt.date\n",
        "dfVizcaina['date'] = dfVizcaina['HORA_CORRIDA'].dt.date\n",
        "dfDate = dfPalanquero.merge(dfVizcaina, on='date', how='inner', suffixes=(\"_pal\", \"_viz\"))\n",
        "dfDate[['FECHA_pal', 'date', 'FECHA_viz']]\n",
        "# dfPalanquero"
      ],
      "execution_count": 7,
      "outputs": [
        {
          "output_type": "execute_result",
          "data": {
            "text/plain": [
              "                  FECHA_pal        date                 FECHA_viz\n",
              "0 2011-06-06 22:15:00-05:00  2011-06-06 2011-06-07 05:15:00-05:00\n",
              "1 2014-03-12 23:45:00-05:00  2014-03-12 2014-03-13 05:15:00-05:00\n",
              "2 2013-02-19 23:45:00-05:00  2013-02-19 2013-02-19 21:15:00-05:00\n",
              "3 2014-05-23 20:45:00-05:00  2014-05-23 2014-05-24 00:15:00-05:00\n",
              "4 2011-12-04 22:15:00-05:00  2011-12-04 2011-12-05 04:45:00-05:00"
            ],
            "text/html": [
              "\n",
              "  <div id=\"df-f1021798-0fa4-47f0-bc62-641103b9cbc2\">\n",
              "    <div class=\"colab-df-container\">\n",
              "      <div>\n",
              "<style scoped>\n",
              "    .dataframe tbody tr th:only-of-type {\n",
              "        vertical-align: middle;\n",
              "    }\n",
              "\n",
              "    .dataframe tbody tr th {\n",
              "        vertical-align: top;\n",
              "    }\n",
              "\n",
              "    .dataframe thead th {\n",
              "        text-align: right;\n",
              "    }\n",
              "</style>\n",
              "<table border=\"1\" class=\"dataframe\">\n",
              "  <thead>\n",
              "    <tr style=\"text-align: right;\">\n",
              "      <th></th>\n",
              "      <th>FECHA_pal</th>\n",
              "      <th>date</th>\n",
              "      <th>FECHA_viz</th>\n",
              "    </tr>\n",
              "  </thead>\n",
              "  <tbody>\n",
              "    <tr>\n",
              "      <th>0</th>\n",
              "      <td>2011-06-06 22:15:00-05:00</td>\n",
              "      <td>2011-06-06</td>\n",
              "      <td>2011-06-07 05:15:00-05:00</td>\n",
              "    </tr>\n",
              "    <tr>\n",
              "      <th>1</th>\n",
              "      <td>2014-03-12 23:45:00-05:00</td>\n",
              "      <td>2014-03-12</td>\n",
              "      <td>2014-03-13 05:15:00-05:00</td>\n",
              "    </tr>\n",
              "    <tr>\n",
              "      <th>2</th>\n",
              "      <td>2013-02-19 23:45:00-05:00</td>\n",
              "      <td>2013-02-19</td>\n",
              "      <td>2013-02-19 21:15:00-05:00</td>\n",
              "    </tr>\n",
              "    <tr>\n",
              "      <th>3</th>\n",
              "      <td>2014-05-23 20:45:00-05:00</td>\n",
              "      <td>2014-05-23</td>\n",
              "      <td>2014-05-24 00:15:00-05:00</td>\n",
              "    </tr>\n",
              "    <tr>\n",
              "      <th>4</th>\n",
              "      <td>2011-12-04 22:15:00-05:00</td>\n",
              "      <td>2011-12-04</td>\n",
              "      <td>2011-12-05 04:45:00-05:00</td>\n",
              "    </tr>\n",
              "  </tbody>\n",
              "</table>\n",
              "</div>\n",
              "      <button class=\"colab-df-convert\" onclick=\"convertToInteractive('df-f1021798-0fa4-47f0-bc62-641103b9cbc2')\"\n",
              "              title=\"Convert this dataframe to an interactive table.\"\n",
              "              style=\"display:none;\">\n",
              "        \n",
              "  <svg xmlns=\"http://www.w3.org/2000/svg\" height=\"24px\"viewBox=\"0 0 24 24\"\n",
              "       width=\"24px\">\n",
              "    <path d=\"M0 0h24v24H0V0z\" fill=\"none\"/>\n",
              "    <path d=\"M18.56 5.44l.94 2.06.94-2.06 2.06-.94-2.06-.94-.94-2.06-.94 2.06-2.06.94zm-11 1L8.5 8.5l.94-2.06 2.06-.94-2.06-.94L8.5 2.5l-.94 2.06-2.06.94zm10 10l.94 2.06.94-2.06 2.06-.94-2.06-.94-.94-2.06-.94 2.06-2.06.94z\"/><path d=\"M17.41 7.96l-1.37-1.37c-.4-.4-.92-.59-1.43-.59-.52 0-1.04.2-1.43.59L10.3 9.45l-7.72 7.72c-.78.78-.78 2.05 0 2.83L4 21.41c.39.39.9.59 1.41.59.51 0 1.02-.2 1.41-.59l7.78-7.78 2.81-2.81c.8-.78.8-2.07 0-2.86zM5.41 20L4 18.59l7.72-7.72 1.47 1.35L5.41 20z\"/>\n",
              "  </svg>\n",
              "      </button>\n",
              "      \n",
              "  <style>\n",
              "    .colab-df-container {\n",
              "      display:flex;\n",
              "      flex-wrap:wrap;\n",
              "      gap: 12px;\n",
              "    }\n",
              "\n",
              "    .colab-df-convert {\n",
              "      background-color: #E8F0FE;\n",
              "      border: none;\n",
              "      border-radius: 50%;\n",
              "      cursor: pointer;\n",
              "      display: none;\n",
              "      fill: #1967D2;\n",
              "      height: 32px;\n",
              "      padding: 0 0 0 0;\n",
              "      width: 32px;\n",
              "    }\n",
              "\n",
              "    .colab-df-convert:hover {\n",
              "      background-color: #E2EBFA;\n",
              "      box-shadow: 0px 1px 2px rgba(60, 64, 67, 0.3), 0px 1px 3px 1px rgba(60, 64, 67, 0.15);\n",
              "      fill: #174EA6;\n",
              "    }\n",
              "\n",
              "    [theme=dark] .colab-df-convert {\n",
              "      background-color: #3B4455;\n",
              "      fill: #D2E3FC;\n",
              "    }\n",
              "\n",
              "    [theme=dark] .colab-df-convert:hover {\n",
              "      background-color: #434B5C;\n",
              "      box-shadow: 0px 1px 3px 1px rgba(0, 0, 0, 0.15);\n",
              "      filter: drop-shadow(0px 1px 2px rgba(0, 0, 0, 0.3));\n",
              "      fill: #FFFFFF;\n",
              "    }\n",
              "  </style>\n",
              "\n",
              "      <script>\n",
              "        const buttonEl =\n",
              "          document.querySelector('#df-f1021798-0fa4-47f0-bc62-641103b9cbc2 button.colab-df-convert');\n",
              "        buttonEl.style.display =\n",
              "          google.colab.kernel.accessAllowed ? 'block' : 'none';\n",
              "\n",
              "        async function convertToInteractive(key) {\n",
              "          const element = document.querySelector('#df-f1021798-0fa4-47f0-bc62-641103b9cbc2');\n",
              "          const dataTable =\n",
              "            await google.colab.kernel.invokeFunction('convertToInteractive',\n",
              "                                                     [key], {});\n",
              "          if (!dataTable) return;\n",
              "\n",
              "          const docLinkHtml = 'Like what you see? Visit the ' +\n",
              "            '<a target=\"_blank\" href=https://colab.research.google.com/notebooks/data_table.ipynb>data table notebook</a>'\n",
              "            + ' to learn more about interactive tables.';\n",
              "          element.innerHTML = '';\n",
              "          dataTable['output_type'] = 'display_data';\n",
              "          await google.colab.output.renderOutput(dataTable, element);\n",
              "          const docLink = document.createElement('div');\n",
              "          docLink.innerHTML = docLinkHtml;\n",
              "          element.appendChild(docLink);\n",
              "        }\n",
              "      </script>\n",
              "    </div>\n",
              "  </div>\n",
              "  "
            ]
          },
          "metadata": {},
          "execution_count": 7
        }
      ]
    }
  ]
}