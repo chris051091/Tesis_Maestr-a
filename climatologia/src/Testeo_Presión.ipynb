{
  "nbformat": 4,
  "nbformat_minor": 0,
  "metadata": {
    "kernelspec": {
      "display_name": "Python 3",
      "language": "python",
      "name": "python3"
    },
    "language_info": {
      "codemirror_mode": {
        "name": "ipython",
        "version": 3
      },
      "file_extension": ".py",
      "mimetype": "text/x-python",
      "name": "python",
      "nbconvert_exporter": "python",
      "pygments_lexer": "ipython3",
      "version": "3.8.5"
    },
    "colab": {
      "name": "Testeo Presión.ipynb",
      "provenance": [],
      "include_colab_link": true
    }
  },
  "cells": [
    {
      "cell_type": "markdown",
      "metadata": {
        "id": "view-in-github",
        "colab_type": "text"
      },
      "source": [
        "<a href=\"https://colab.research.google.com/github/chris051091/Seminario-3/blob/master/climatologia/src/Testeo_Presi%C3%B3n.ipynb\" target=\"_parent\"><img src=\"https://colab.research.google.com/assets/colab-badge.svg\" alt=\"Open In Colab\"/></a>"
      ]
    },
    {
      "cell_type": "markdown",
      "metadata": {
        "id": "v45fg9bmLJvZ"
      },
      "source": [
        "# Testes - Humedad"
      ]
    },
    {
      "cell_type": "code",
      "metadata": {
        "id": "EoapCLMALJvj",
        "colab": {
          "base_uri": "https://localhost:8080/"
        },
        "outputId": "c34f7f23-cbcd-4b74-bf75-590ac76d09ef"
      },
      "source": [
        "import pandas as pd\n",
        "import numpy as np\n",
        "import os\n",
        "import re\n",
        "from functools import reduce\n",
        "\n",
        "from google.colab import drive\n",
        "drive.mount('/content/drive')\n",
        "\n",
        "%matplotlib inline"
      ],
      "execution_count": 1,
      "outputs": [
        {
          "output_type": "stream",
          "text": [
            "Mounted at /content/drive\n"
          ],
          "name": "stdout"
        }
      ]
    },
    {
      "cell_type": "code",
      "metadata": {
        "id": "nrp0DLfHLJvl"
      },
      "source": [
        "PATH_DRIVE = 'drive/MyDrive/Seminario-3-master'\n",
        "PATH_DADOS = '/preprocess/dados/'\n",
        "\n",
        "# NOMBRE_ESTACION = 'chucuri'\n",
        "# RANGE_PRESION = [850, 900]\n",
        "# NOMBRE_ESTACION = 'palanquero'\n",
        "# RANGE_PRESION = [950, 1000]\n",
        "NOMBRE_ESTACION = 'vizcaina'\n",
        "RANGE_PRESION = [980, 1015]\n",
        "\n",
        "\n",
        "PATH_FINAL_DADOS = PATH_DRIVE + PATH_DADOS + NOMBRE_ESTACION + '/'\n",
        "PATH_FINAL_DADOS_TRATADOS = PATH_DRIVE + PATH_DADOS + NOMBRE_ESTACION + '/tratados/'\n",
        "\n",
        "FILE_DATOS_PROCESADOS = NOMBRE_ESTACION.lower() + '_procesado.csv'\n",
        "FILE_DATOS_TRATADOS = NOMBRE_ESTACION.lower() + '_tratados_pres.csv'\n"
      ],
      "execution_count": 33,
      "outputs": []
    },
    {
      "cell_type": "code",
      "metadata": {
        "id": "SNvEHyC4LJvp",
        "colab": {
          "base_uri": "https://localhost:8080/",
          "height": 424
        },
        "outputId": "2b0d587c-1ed1-4e0a-89e1-3fe4337283ef"
      },
      "source": [
        "df = pd.read_csv(PATH_FINAL_DADOS + FILE_DATOS_PROCESADOS, \n",
        "                 sep = ';', \n",
        "                 parse_dates = [\"FECHA\"],\n",
        "                 date_parser = lambda col: pd.to_datetime(col)\n",
        "                )\n",
        "\n",
        "dfVar = df[['FECHA', 'PRESION']].copy()\n",
        "dfVar = dfVar.sort_values(by=['FECHA']).reset_index(drop = True)\n",
        "dfVar"
      ],
      "execution_count": 30,
      "outputs": [
        {
          "output_type": "execute_result",
          "data": {
            "text/html": [
              "<div>\n",
              "<style scoped>\n",
              "    .dataframe tbody tr th:only-of-type {\n",
              "        vertical-align: middle;\n",
              "    }\n",
              "\n",
              "    .dataframe tbody tr th {\n",
              "        vertical-align: top;\n",
              "    }\n",
              "\n",
              "    .dataframe thead th {\n",
              "        text-align: right;\n",
              "    }\n",
              "</style>\n",
              "<table border=\"1\" class=\"dataframe\">\n",
              "  <thead>\n",
              "    <tr style=\"text-align: right;\">\n",
              "      <th></th>\n",
              "      <th>FECHA</th>\n",
              "      <th>PRESION</th>\n",
              "    </tr>\n",
              "  </thead>\n",
              "  <tbody>\n",
              "    <tr>\n",
              "      <th>0</th>\n",
              "      <td>2011-01-01 01:00:00-05:00</td>\n",
              "      <td>697.7</td>\n",
              "    </tr>\n",
              "    <tr>\n",
              "      <th>1</th>\n",
              "      <td>2011-01-01 02:00:00-05:00</td>\n",
              "      <td>697.1</td>\n",
              "    </tr>\n",
              "    <tr>\n",
              "      <th>2</th>\n",
              "      <td>2011-01-01 03:00:00-05:00</td>\n",
              "      <td>697.1</td>\n",
              "    </tr>\n",
              "    <tr>\n",
              "      <th>3</th>\n",
              "      <td>2011-01-01 04:00:00-05:00</td>\n",
              "      <td>697.6</td>\n",
              "    </tr>\n",
              "    <tr>\n",
              "      <th>4</th>\n",
              "      <td>2011-01-01 05:00:00-05:00</td>\n",
              "      <td>698.2</td>\n",
              "    </tr>\n",
              "    <tr>\n",
              "      <th>...</th>\n",
              "      <td>...</td>\n",
              "      <td>...</td>\n",
              "    </tr>\n",
              "    <tr>\n",
              "      <th>52238</th>\n",
              "      <td>2017-12-31 19:00:00-05:00</td>\n",
              "      <td>998.7</td>\n",
              "    </tr>\n",
              "    <tr>\n",
              "      <th>52239</th>\n",
              "      <td>2017-12-31 20:00:00-05:00</td>\n",
              "      <td>999.6</td>\n",
              "    </tr>\n",
              "    <tr>\n",
              "      <th>52240</th>\n",
              "      <td>2017-12-31 21:00:00-05:00</td>\n",
              "      <td>1000.3</td>\n",
              "    </tr>\n",
              "    <tr>\n",
              "      <th>52241</th>\n",
              "      <td>2017-12-31 22:00:00-05:00</td>\n",
              "      <td>1001.1</td>\n",
              "    </tr>\n",
              "    <tr>\n",
              "      <th>52242</th>\n",
              "      <td>2017-12-31 23:00:00-05:00</td>\n",
              "      <td>1000.9</td>\n",
              "    </tr>\n",
              "  </tbody>\n",
              "</table>\n",
              "<p>52243 rows × 2 columns</p>\n",
              "</div>"
            ],
            "text/plain": [
              "                          FECHA  PRESION\n",
              "0     2011-01-01 01:00:00-05:00    697.7\n",
              "1     2011-01-01 02:00:00-05:00    697.1\n",
              "2     2011-01-01 03:00:00-05:00    697.1\n",
              "3     2011-01-01 04:00:00-05:00    697.6\n",
              "4     2011-01-01 05:00:00-05:00    698.2\n",
              "...                         ...      ...\n",
              "52238 2017-12-31 19:00:00-05:00    998.7\n",
              "52239 2017-12-31 20:00:00-05:00    999.6\n",
              "52240 2017-12-31 21:00:00-05:00   1000.3\n",
              "52241 2017-12-31 22:00:00-05:00   1001.1\n",
              "52242 2017-12-31 23:00:00-05:00   1000.9\n",
              "\n",
              "[52243 rows x 2 columns]"
            ]
          },
          "metadata": {
            "tags": []
          },
          "execution_count": 30
        }
      ]
    },
    {
      "cell_type": "markdown",
      "metadata": {
        "id": "UJPKton4LJvq"
      },
      "source": [
        "## Test de rango fijo"
      ]
    },
    {
      "cell_type": "code",
      "metadata": {
        "id": "boKo7L2yLJvr",
        "colab": {
          "base_uri": "https://localhost:8080/",
          "height": 424
        },
        "outputId": "b3782c9c-3891-4dde-b1cc-4ed1417be5cb"
      },
      "source": [
        "pres_max = float(RANGE_PRESION[1])\n",
        "pres_min = float(RANGE_PRESION[0])\n",
        "lamb_func = lambda r: np.nan if ((r > pres_max) | (r < pres_min)) else r\n",
        "\n",
        "dfVar['PRESION_RANGO_FIJO'] = dfVar['PRESION'].apply(lamb_func)\n",
        "dfVar"
      ],
      "execution_count": 34,
      "outputs": [
        {
          "output_type": "execute_result",
          "data": {
            "text/html": [
              "<div>\n",
              "<style scoped>\n",
              "    .dataframe tbody tr th:only-of-type {\n",
              "        vertical-align: middle;\n",
              "    }\n",
              "\n",
              "    .dataframe tbody tr th {\n",
              "        vertical-align: top;\n",
              "    }\n",
              "\n",
              "    .dataframe thead th {\n",
              "        text-align: right;\n",
              "    }\n",
              "</style>\n",
              "<table border=\"1\" class=\"dataframe\">\n",
              "  <thead>\n",
              "    <tr style=\"text-align: right;\">\n",
              "      <th></th>\n",
              "      <th>FECHA</th>\n",
              "      <th>PRESION</th>\n",
              "      <th>PRESION_RANGO_FIJO</th>\n",
              "    </tr>\n",
              "  </thead>\n",
              "  <tbody>\n",
              "    <tr>\n",
              "      <th>0</th>\n",
              "      <td>2011-01-01 01:00:00-05:00</td>\n",
              "      <td>697.7</td>\n",
              "      <td>NaN</td>\n",
              "    </tr>\n",
              "    <tr>\n",
              "      <th>1</th>\n",
              "      <td>2011-01-01 02:00:00-05:00</td>\n",
              "      <td>697.1</td>\n",
              "      <td>NaN</td>\n",
              "    </tr>\n",
              "    <tr>\n",
              "      <th>2</th>\n",
              "      <td>2011-01-01 03:00:00-05:00</td>\n",
              "      <td>697.1</td>\n",
              "      <td>NaN</td>\n",
              "    </tr>\n",
              "    <tr>\n",
              "      <th>3</th>\n",
              "      <td>2011-01-01 04:00:00-05:00</td>\n",
              "      <td>697.6</td>\n",
              "      <td>NaN</td>\n",
              "    </tr>\n",
              "    <tr>\n",
              "      <th>4</th>\n",
              "      <td>2011-01-01 05:00:00-05:00</td>\n",
              "      <td>698.2</td>\n",
              "      <td>NaN</td>\n",
              "    </tr>\n",
              "    <tr>\n",
              "      <th>...</th>\n",
              "      <td>...</td>\n",
              "      <td>...</td>\n",
              "      <td>...</td>\n",
              "    </tr>\n",
              "    <tr>\n",
              "      <th>52238</th>\n",
              "      <td>2017-12-31 19:00:00-05:00</td>\n",
              "      <td>998.7</td>\n",
              "      <td>998.7</td>\n",
              "    </tr>\n",
              "    <tr>\n",
              "      <th>52239</th>\n",
              "      <td>2017-12-31 20:00:00-05:00</td>\n",
              "      <td>999.6</td>\n",
              "      <td>999.6</td>\n",
              "    </tr>\n",
              "    <tr>\n",
              "      <th>52240</th>\n",
              "      <td>2017-12-31 21:00:00-05:00</td>\n",
              "      <td>1000.3</td>\n",
              "      <td>1000.3</td>\n",
              "    </tr>\n",
              "    <tr>\n",
              "      <th>52241</th>\n",
              "      <td>2017-12-31 22:00:00-05:00</td>\n",
              "      <td>1001.1</td>\n",
              "      <td>1001.1</td>\n",
              "    </tr>\n",
              "    <tr>\n",
              "      <th>52242</th>\n",
              "      <td>2017-12-31 23:00:00-05:00</td>\n",
              "      <td>1000.9</td>\n",
              "      <td>1000.9</td>\n",
              "    </tr>\n",
              "  </tbody>\n",
              "</table>\n",
              "<p>52243 rows × 3 columns</p>\n",
              "</div>"
            ],
            "text/plain": [
              "                          FECHA  PRESION  PRESION_RANGO_FIJO\n",
              "0     2011-01-01 01:00:00-05:00    697.7                 NaN\n",
              "1     2011-01-01 02:00:00-05:00    697.1                 NaN\n",
              "2     2011-01-01 03:00:00-05:00    697.1                 NaN\n",
              "3     2011-01-01 04:00:00-05:00    697.6                 NaN\n",
              "4     2011-01-01 05:00:00-05:00    698.2                 NaN\n",
              "...                         ...      ...                 ...\n",
              "52238 2017-12-31 19:00:00-05:00    998.7               998.7\n",
              "52239 2017-12-31 20:00:00-05:00    999.6               999.6\n",
              "52240 2017-12-31 21:00:00-05:00   1000.3              1000.3\n",
              "52241 2017-12-31 22:00:00-05:00   1001.1              1001.1\n",
              "52242 2017-12-31 23:00:00-05:00   1000.9              1000.9\n",
              "\n",
              "[52243 rows x 3 columns]"
            ]
          },
          "metadata": {
            "tags": []
          },
          "execution_count": 34
        }
      ]
    },
    {
      "cell_type": "code",
      "metadata": {
        "id": "XDr-x4YSLJvs",
        "colab": {
          "base_uri": "https://localhost:8080/",
          "height": 296
        },
        "outputId": "168c4329-5b83-48a4-c9f2-e147a0ca1c1c"
      },
      "source": [
        "ax = dfVar.plot(kind = 'scatter', x='FECHA', y='PRESION')\n",
        "dfVar.plot(kind = 'scatter', x='FECHA', y='PRESION_RANGO_FIJO', ax=ax, color='red')"
      ],
      "execution_count": 35,
      "outputs": [
        {
          "output_type": "execute_result",
          "data": {
            "text/plain": [
              "<matplotlib.axes._subplots.AxesSubplot at 0x7f4bb7b583d0>"
            ]
          },
          "metadata": {
            "tags": []
          },
          "execution_count": 35
        },
        {
          "output_type": "display_data",
          "data": {
            "image/png": "[encoded data removed]",
            "text/plain": [
              "<Figure size 432x288 with 1 Axes>"
            ]
          },
          "metadata": {
            "tags": [],
            "needs_background": "light"
          }
        }
      ]
    },
    {
      "cell_type": "code",
      "metadata": {
        "id": "tOyVI0YvMKj-",
        "colab": {
          "base_uri": "https://localhost:8080/",
          "height": 424
        },
        "outputId": "b5d4cebe-4c8f-42f0-c602-1fac1cbb247e"
      },
      "source": [
        "## Para filtrar los valores finales\n",
        "dfFinal = dfVar[~dfVar['PRESION_RANGO_FIJO'].isnull()]\n",
        "dfFinal "
      ],
      "execution_count": 36,
      "outputs": [
        {
          "output_type": "execute_result",
          "data": {
            "text/html": [
              "<div>\n",
              "<style scoped>\n",
              "    .dataframe tbody tr th:only-of-type {\n",
              "        vertical-align: middle;\n",
              "    }\n",
              "\n",
              "    .dataframe tbody tr th {\n",
              "        vertical-align: top;\n",
              "    }\n",
              "\n",
              "    .dataframe thead th {\n",
              "        text-align: right;\n",
              "    }\n",
              "</style>\n",
              "<table border=\"1\" class=\"dataframe\">\n",
              "  <thead>\n",
              "    <tr style=\"text-align: right;\">\n",
              "      <th></th>\n",
              "      <th>FECHA</th>\n",
              "      <th>PRESION</th>\n",
              "      <th>PRESION_RANGO_FIJO</th>\n",
              "    </tr>\n",
              "  </thead>\n",
              "  <tbody>\n",
              "    <tr>\n",
              "      <th>14004</th>\n",
              "      <td>2012-10-05 12:00:00-05:00</td>\n",
              "      <td>999.3</td>\n",
              "      <td>999.3</td>\n",
              "    </tr>\n",
              "    <tr>\n",
              "      <th>14005</th>\n",
              "      <td>2012-10-05 13:00:00-05:00</td>\n",
              "      <td>997.7</td>\n",
              "      <td>997.7</td>\n",
              "    </tr>\n",
              "    <tr>\n",
              "      <th>14006</th>\n",
              "      <td>2012-10-05 15:00:00-05:00</td>\n",
              "      <td>995.2</td>\n",
              "      <td>995.2</td>\n",
              "    </tr>\n",
              "    <tr>\n",
              "      <th>14007</th>\n",
              "      <td>2012-10-05 16:00:00-05:00</td>\n",
              "      <td>995.0</td>\n",
              "      <td>995.0</td>\n",
              "    </tr>\n",
              "    <tr>\n",
              "      <th>14008</th>\n",
              "      <td>2012-10-05 17:00:00-05:00</td>\n",
              "      <td>995.6</td>\n",
              "      <td>995.6</td>\n",
              "    </tr>\n",
              "    <tr>\n",
              "      <th>...</th>\n",
              "      <td>...</td>\n",
              "      <td>...</td>\n",
              "      <td>...</td>\n",
              "    </tr>\n",
              "    <tr>\n",
              "      <th>52238</th>\n",
              "      <td>2017-12-31 19:00:00-05:00</td>\n",
              "      <td>998.7</td>\n",
              "      <td>998.7</td>\n",
              "    </tr>\n",
              "    <tr>\n",
              "      <th>52239</th>\n",
              "      <td>2017-12-31 20:00:00-05:00</td>\n",
              "      <td>999.6</td>\n",
              "      <td>999.6</td>\n",
              "    </tr>\n",
              "    <tr>\n",
              "      <th>52240</th>\n",
              "      <td>2017-12-31 21:00:00-05:00</td>\n",
              "      <td>1000.3</td>\n",
              "      <td>1000.3</td>\n",
              "    </tr>\n",
              "    <tr>\n",
              "      <th>52241</th>\n",
              "      <td>2017-12-31 22:00:00-05:00</td>\n",
              "      <td>1001.1</td>\n",
              "      <td>1001.1</td>\n",
              "    </tr>\n",
              "    <tr>\n",
              "      <th>52242</th>\n",
              "      <td>2017-12-31 23:00:00-05:00</td>\n",
              "      <td>1000.9</td>\n",
              "      <td>1000.9</td>\n",
              "    </tr>\n",
              "  </tbody>\n",
              "</table>\n",
              "<p>37412 rows × 3 columns</p>\n",
              "</div>"
            ],
            "text/plain": [
              "                          FECHA  PRESION  PRESION_RANGO_FIJO\n",
              "14004 2012-10-05 12:00:00-05:00    999.3               999.3\n",
              "14005 2012-10-05 13:00:00-05:00    997.7               997.7\n",
              "14006 2012-10-05 15:00:00-05:00    995.2               995.2\n",
              "14007 2012-10-05 16:00:00-05:00    995.0               995.0\n",
              "14008 2012-10-05 17:00:00-05:00    995.6               995.6\n",
              "...                         ...      ...                 ...\n",
              "52238 2017-12-31 19:00:00-05:00    998.7               998.7\n",
              "52239 2017-12-31 20:00:00-05:00    999.6               999.6\n",
              "52240 2017-12-31 21:00:00-05:00   1000.3              1000.3\n",
              "52241 2017-12-31 22:00:00-05:00   1001.1              1001.1\n",
              "52242 2017-12-31 23:00:00-05:00   1000.9              1000.9\n",
              "\n",
              "[37412 rows x 3 columns]"
            ]
          },
          "metadata": {
            "tags": []
          },
          "execution_count": 36
        }
      ]
    },
    {
      "cell_type": "code",
      "metadata": {
        "id": "UsndzNlyJPbU",
        "colab": {
          "base_uri": "https://localhost:8080/"
        },
        "outputId": "b7b29a9c-0947-48b4-a581-9a8b3fa24110"
      },
      "source": [
        "print(f'Datos iniciales : {dfVar.shape[0]}')\n",
        "print(f'Datos nulos : {dfVar[dfVar[\"PRESION\"].isnull()].shape[0]}')\n",
        "print(f'Datos nulos después de los testes : {dfFinal[dfFinal[\"PRESION_RANGO_FIJO\"].isnull()].shape[0]}')\n",
        "print(f'Datos finales después de testes : {dfFinal.shape[0]}')\n",
        "print(f'Datos no nulos que fueron eliminados en los testes : {dfVar.shape[0] - dfFinal.shape[0] - dfVar[dfVar[\"PRESION\"].isnull()].shape[0]}')"
      ],
      "execution_count": 37,
      "outputs": [
        {
          "output_type": "stream",
          "text": [
            "Datos iniciales : 52243\n",
            "Datos nulos : 1090\n",
            "Datos nulos después de los testes : 0\n",
            "Datos finales después de testes : 37412\n",
            "Datos no nulos que fueron eliminados en los testes : 13741\n"
          ],
          "name": "stdout"
        }
      ]
    },
    {
      "cell_type": "code",
      "metadata": {
        "id": "2hoa0fdKLJvv"
      },
      "source": [
        "dfFinal[['FECHA', 'PRESION']].to_csv(PATH_FINAL_DADOS_TRATADOS + FILE_DATOS_TRATADOS, header=True, index=False, sep = ';')"
      ],
      "execution_count": 38,
      "outputs": []
    }
  ]
}