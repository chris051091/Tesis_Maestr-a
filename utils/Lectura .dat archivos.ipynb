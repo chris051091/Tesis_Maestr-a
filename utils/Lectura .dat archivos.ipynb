{
  "nbformat": 4,
  "nbformat_minor": 0,
  "metadata": {
    "colab": {
      "provenance": [],
      "include_colab_link": true
    },
    "kernelspec": {
      "name": "python3",
      "display_name": "Python 3"
    },
    "language_info": {
      "name": "python"
    }
  },
  "cells": [
    {
      "cell_type": "markdown",
      "metadata": {
        "id": "view-in-github",
        "colab_type": "text"
      },
      "source": [
        "<a href=\"https://colab.research.google.com/github/chris051091/Seminario-3/blob/master/utils/Lectura%20.dat%20archivos.ipynb\" target=\"_parent\"><img src=\"https://colab.research.google.com/assets/colab-badge.svg\" alt=\"Open In Colab\"/></a>"
      ]
    },
    {
      "cell_type": "code",
      "metadata": {
        "colab": {
          "base_uri": "https://localhost:8080/"
        },
        "id": "tr6YPK2TPlr6",
        "outputId": "a5d58344-a543-44f1-a163-c92768f99999"
      },
      "source": [
        "import pandas as pd\n",
        "import numpy as np\n",
        "import matplotlib.pyplot as plt\n",
        "from google.colab import drive\n",
        "from datetime import timedelta\n",
        "import matplotlib.cm as cm\n",
        "from functools import reduce\n",
        "from math import cos, sin, atan, pi\n",
        "from windrose import WindroseAxes\n",
        "drive.mount('/content/drive')"
      ],
      "execution_count": 11,
      "outputs": [
        {
          "output_type": "stream",
          "name": "stdout",
          "text": [
            "Drive already mounted at /content/drive; to attempt to forcibly remount, call drive.mount(\"/content/drive\", force_remount=True).\n"
          ]
        }
      ]
    },
    {
      "cell_type": "code",
      "metadata": {
        "id": "-omr4spiP6Rw"
      },
      "source": [
        "PATH_DRIVE = 'drive/MyDrive/Seminario-3-master'\n",
        "PATH_DATOS = '/dados/'\n",
        "FILENAME_DATOS = 'SAN_JUAN_DE_LOS_CHORROS_AUT_2319700096_Prec10m.dat'\n",
        "\n",
        "\n",
        "PATH_FINAL_DATOS = PATH_DRIVE + PATH_DATOS\n",
        "PATH_FINAL_ARCHIVO = PATH_FINAL_DATOS + FILENAME_DATOS"
      ],
      "execution_count": 63,
      "outputs": []
    },
    {
      "cell_type": "code",
      "metadata": {
        "id": "GC6hLploQmlJ"
      },
      "source": [
        "df = pd.read_csv(PATH_FINAL_ARCHIVO,\n",
        "                sep = ' ', \n",
        "                parse_dates=['FechaObservacion']\n",
        "              )"
      ],
      "execution_count": 64,
      "outputs": []
    },
    {
      "cell_type": "code",
      "source": [
        "df.info()"
      ],
      "metadata": {
        "id": "dZuAzI5EoPJy",
        "outputId": "fb21c5c3-c7e8-4c18-fdb0-8cca6a9142f1",
        "colab": {
          "base_uri": "https://localhost:8080/"
        }
      },
      "execution_count": 65,
      "outputs": [
        {
          "output_type": "stream",
          "name": "stdout",
          "text": [
            "<class 'pandas.core.frame.DataFrame'>\n",
            "RangeIndex: 32945 entries, 0 to 32944\n",
            "Data columns (total 2 columns):\n",
            " #   Column            Non-Null Count  Dtype         \n",
            "---  ------            --------------  -----         \n",
            " 0   FechaObservacion  32945 non-null  datetime64[ns]\n",
            " 1   Precipitacion     32945 non-null  float64       \n",
            "dtypes: datetime64[ns](1), float64(1)\n",
            "memory usage: 514.9 KB\n"
          ]
        }
      ]
    },
    {
      "cell_type": "code",
      "source": [
        "print(f\"max : {df['FechaObservacion'].max()}\")\n",
        "print(f\"min : {df['FechaObservacion'].min()}\")\n"
      ],
      "metadata": {
        "id": "hjxQ3vnTpajZ",
        "outputId": "e6dd15b1-d4b8-4a2d-d075-57f49a619660",
        "colab": {
          "base_uri": "https://localhost:8080/"
        }
      },
      "execution_count": 66,
      "outputs": [
        {
          "output_type": "stream",
          "name": "stdout",
          "text": [
            "max : 2020-06-22 14:50:00\n",
            "min : 2019-02-05 14:10:00\n"
          ]
        }
      ]
    },
    {
      "cell_type": "code",
      "source": [
        "df_count = df[(df[\"FechaObservacion\"] >= \"2011-01-01 00:00:00\") & (df[\"FechaObservacion\"] <= \"2017-12-31 23:59:59\")].copy()"
      ],
      "metadata": {
        "id": "tMuLEOnPng3n"
      },
      "execution_count": 67,
      "outputs": []
    },
    {
      "cell_type": "code",
      "source": [
        "df_count.info()"
      ],
      "metadata": {
        "id": "Y0vESqpvowd4",
        "outputId": "6d345ed3-c19a-40c9-be69-97ddefd1b3bb",
        "colab": {
          "base_uri": "https://localhost:8080/"
        }
      },
      "execution_count": 68,
      "outputs": [
        {
          "output_type": "stream",
          "name": "stdout",
          "text": [
            "<class 'pandas.core.frame.DataFrame'>\n",
            "Int64Index: 0 entries\n",
            "Data columns (total 2 columns):\n",
            " #   Column            Non-Null Count  Dtype         \n",
            "---  ------            --------------  -----         \n",
            " 0   FechaObservacion  0 non-null      datetime64[ns]\n",
            " 1   Precipitacion     0 non-null      float64       \n",
            "dtypes: datetime64[ns](1), float64(1)\n",
            "memory usage: 0.0 bytes\n"
          ]
        }
      ]
    }
  ]
}